{
 "metadata": {
  "name": "",
  "signature": "sha256:507b99710e6fc9588409dc9112e7c811faf9c20511616581f21a245f0a6edf51"
 },
 "nbformat": 3,
 "nbformat_minor": 0,
 "worksheets": [
  {
   "cells": [
    {
     "cell_type": "markdown",
     "metadata": {},
     "source": [
      "Today we'll cover:\n",
      "\n",
      "1. [Manipulating arrays](#Manipulating-arrays)\n",
      "2. [Universal functions (ufuncs)](#Universal-functions)\n",
      "3. [Sorting and searching](#Sorting-and-searching)\n",
      "4. [Set routines](#Set-routines)\n",
      "5. [Statistics](#Statistics)"
     ]
    },
    {
     "cell_type": "heading",
     "level": 1,
     "metadata": {},
     "source": [
      "Manipulating arrays"
     ]
    },
    {
     "cell_type": "heading",
     "level": 1,
     "metadata": {},
     "source": [
      "Universal functions"
     ]
    },
    {
     "cell_type": "heading",
     "level": 1,
     "metadata": {},
     "source": [
      "Sorting and searching"
     ]
    },
    {
     "cell_type": "heading",
     "level": 1,
     "metadata": {},
     "source": [
      "Set routines"
     ]
    },
    {
     "cell_type": "heading",
     "level": 1,
     "metadata": {},
     "source": [
      "Statistics"
     ]
    }
   ],
   "metadata": {}
  }
 ]
}