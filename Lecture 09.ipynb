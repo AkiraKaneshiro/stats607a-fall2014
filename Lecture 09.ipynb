{
 "metadata": {
  "name": "",
  "signature": "sha256:8f15470d0b44d4e91d546773ec18624bf388ded7e50f0e62dc0b960bc515bc72"
 },
 "nbformat": 3,
 "nbformat_minor": 0,
 "worksheets": [
  {
   "cells": [
    {
     "cell_type": "markdown",
     "metadata": {},
     "source": [
      "Today we'll cover the following basic data structures in Pandas:\n",
      "\n",
      "1. [Series](#Series)\n",
      "3. [DataFrame](#DataFrame)"
     ]
    },
    {
     "cell_type": "code",
     "collapsed": false,
     "input": [
      "# Import modules\n",
      "import numpy as np\n",
      "import pandas as pd\n",
      "import sys"
     ],
     "language": "python",
     "metadata": {},
     "outputs": [],
     "prompt_number": 3
    },
    {
     "cell_type": "code",
     "collapsed": false,
     "input": [
      "# Print versions of Python and modules using which this notebook was built\n",
      "print 'Python version ' + sys.version\n",
      "print 'Numpy version: ' + np.__version__\n",
      "print 'Pandas version: ' + pd.__version__"
     ],
     "language": "python",
     "metadata": {},
     "outputs": [
      {
       "output_type": "stream",
       "stream": "stdout",
       "text": [
        "Python version 2.7.7 |Anaconda 2.0.1 (x86_64)| (default, Jun  2 2014, 12:48:16) \n",
        "[GCC 4.0.1 (Apple Inc. build 5493)]\n",
        "Numpy version: 1.8.1\n",
        "Pandas version: 0.14.0\n"
       ]
      }
     ],
     "prompt_number": 5
    },
    {
     "cell_type": "heading",
     "level": 1,
     "metadata": {},
     "source": [
      "Series"
     ]
    },
    {
     "cell_type": "markdown",
     "metadata": {},
     "source": [
      "A pandas Series object is like a fixed length dict mapping the `index` values to the corresponding data values."
     ]
    },
    {
     "cell_type": "code",
     "collapsed": false,
     "input": [
      "country_pops_dict = {'China': 1.36e+09, 'India': 1.29e+09, 'USA': 322e+06, \n",
      "                     'Indonesia': 250e+06, 'Brazil': 202e+06, 'Pakistan': 186e+06,\n",
      "                     'Nigeria': 175e+06, 'Bangladesh': 156e+06, 'Russia': 142e+06,\n",
      "                     'Japan': 126e+06}"
     ],
     "language": "python",
     "metadata": {},
     "outputs": [],
     "prompt_number": 9
    },
    {
     "cell_type": "code",
     "collapsed": false,
     "input": [
      "country_pops = pd.Series(country_pops_dict)  # creates a Pandas Series from Python dict"
     ],
     "language": "python",
     "metadata": {},
     "outputs": [],
     "prompt_number": 10
    },
    {
     "cell_type": "code",
     "collapsed": false,
     "input": [
      "print country_pops"
     ],
     "language": "python",
     "metadata": {},
     "outputs": [
      {
       "output_type": "stream",
       "stream": "stdout",
       "text": [
        "Bangladesh     156000000\n",
        "Brazil         202000000\n",
        "China         1360000000\n",
        "India         1290000000\n",
        "Indonesia      250000000\n",
        "Japan          126000000\n",
        "Nigeria        175000000\n",
        "Pakistan       186000000\n",
        "Russia         142000000\n",
        "USA            322000000\n",
        "dtype: float64\n"
       ]
      }
     ],
     "prompt_number": 11
    },
    {
     "cell_type": "markdown",
     "metadata": {},
     "source": [
      "However, Series objects are also numpy array-like: you can select a value or set of values."
     ]
    },
    {
     "cell_type": "code",
     "collapsed": false,
     "input": [
      "country_pops['Japan']  # get one data value"
     ],
     "language": "python",
     "metadata": {},
     "outputs": [
      {
       "metadata": {},
       "output_type": "pyout",
       "prompt_number": 12,
       "text": [
        "126000000.0"
       ]
      }
     ],
     "prompt_number": 12
    },
    {
     "cell_type": "code",
     "collapsed": false,
     "input": [
      "country_pops[['USA', 'Russia']]  # get multiples values from indices "
     ],
     "language": "python",
     "metadata": {},
     "outputs": [
      {
       "metadata": {},
       "output_type": "pyout",
       "prompt_number": 13,
       "text": [
        "USA       322000000\n",
        "Russia    142000000\n",
        "dtype: float64"
       ]
      }
     ],
     "prompt_number": 13
    },
    {
     "cell_type": "code",
     "collapsed": false,
     "input": [
      "country_pops / 1e6  # in millions"
     ],
     "language": "python",
     "metadata": {},
     "outputs": [
      {
       "metadata": {},
       "output_type": "pyout",
       "prompt_number": 14,
       "text": [
        "Bangladesh     156\n",
        "Brazil         202\n",
        "China         1360\n",
        "India         1290\n",
        "Indonesia      250\n",
        "Japan          126\n",
        "Nigeria        175\n",
        "Pakistan       186\n",
        "Russia         142\n",
        "USA            322\n",
        "dtype: float64"
       ]
      }
     ],
     "prompt_number": 14
    },
    {
     "cell_type": "code",
     "collapsed": false,
     "input": [
      "country_pops[country_pops > 1e9]  # countries with population over a billion"
     ],
     "language": "python",
     "metadata": {},
     "outputs": [
      {
       "metadata": {},
       "output_type": "pyout",
       "prompt_number": 15,
       "text": [
        "China    1360000000\n",
        "India    1290000000\n",
        "dtype: float64"
       ]
      }
     ],
     "prompt_number": 15
    },
    {
     "cell_type": "code",
     "collapsed": false,
     "input": [
      "country_area_dict = {'Russia': 1.708e+07,  # areas in sq km of 10 largest countries\n",
      "                    'Canada': 9.985e+06, \n",
      "                    'USA': 9.631e+06,\n",
      "                    'China': 9.597e+06,\n",
      "                    'Brazil': 8.515e+06,\n",
      "                    'Australia': 7.741e+06,\n",
      "                    'India': 3.287e+06,\n",
      "                    'Argentina': 2.767e+06,\n",
      "                    'Kazakhstan': 2.725e+06,\n",
      "                    'Algeria': 2.382e+06}"
     ],
     "language": "python",
     "metadata": {},
     "outputs": [],
     "prompt_number": 21
    },
    {
     "cell_type": "code",
     "collapsed": false,
     "input": [
      "country_area = pd.Series(country_area_dict)"
     ],
     "language": "python",
     "metadata": {},
     "outputs": [],
     "prompt_number": 22
    },
    {
     "cell_type": "code",
     "collapsed": false,
     "input": [
      "country_pops / country_area  # diff sized Series are automatically aligned by indices (NaNs are automatically supplied)"
     ],
     "language": "python",
     "metadata": {},
     "outputs": [
      {
       "metadata": {},
       "output_type": "pyout",
       "prompt_number": 23,
       "text": [
        "Algeria              NaN\n",
        "Argentina            NaN\n",
        "Australia            NaN\n",
        "Bangladesh           NaN\n",
        "Brazil         23.722842\n",
        "Canada               NaN\n",
        "China         141.710951\n",
        "India         392.455126\n",
        "Indonesia            NaN\n",
        "Japan                NaN\n",
        "Kazakhstan           NaN\n",
        "Nigeria              NaN\n",
        "Pakistan             NaN\n",
        "Russia          8.313817\n",
        "USA            33.433704\n",
        "dtype: float64"
       ]
      }
     ],
     "prompt_number": 23
    },
    {
     "cell_type": "code",
     "collapsed": false,
     "input": [],
     "language": "python",
     "metadata": {},
     "outputs": []
    },
    {
     "cell_type": "heading",
     "level": 1,
     "metadata": {},
     "source": [
      "DataFrame"
     ]
    },
    {
     "cell_type": "code",
     "collapsed": false,
     "input": [],
     "language": "python",
     "metadata": {},
     "outputs": []
    }
   ],
   "metadata": {}
  }
 ]
}