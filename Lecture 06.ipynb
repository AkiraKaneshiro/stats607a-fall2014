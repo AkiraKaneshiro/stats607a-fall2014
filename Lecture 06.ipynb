{
 "metadata": {
  "name": "",
  "signature": "sha256:7a8acbd8c90c964f637ed951c016fc238a8cbe998bb30947fcc2009080c07795"
 },
 "nbformat": 3,
 "nbformat_minor": 0,
 "worksheets": [
  {
   "cells": [
    {
     "cell_type": "markdown",
     "metadata": {},
     "source": [
      "Today we'll cover:\n",
      "\n",
      "1. [Array input and output](#Array-input-and-output)\n",
      "2. [Linear algebra](#Linear-algebra)\n",
      "3. "
     ]
    },
    {
     "cell_type": "heading",
     "level": 1,
     "metadata": {},
     "source": [
      "Array input and output"
     ]
    },
    {
     "cell_type": "markdown",
     "metadata": {},
     "source": [
      "Sometimes you want store your arrays on disk for reading them later. `numpy.save` and `numpy.load` are the basic functions for doing that."
     ]
    },
    {
     "cell_type": "code",
     "collapsed": false,
     "input": [
      "import numpy as np"
     ],
     "language": "python",
     "metadata": {},
     "outputs": [],
     "prompt_number": 1
    },
    {
     "cell_type": "code",
     "collapsed": false,
     "input": [
      "array2d = np.array([[1, 2], [3, 4]]); print array2d"
     ],
     "language": "python",
     "metadata": {},
     "outputs": [
      {
       "output_type": "stream",
       "stream": "stdout",
       "text": [
        "[[1 2]\n",
        " [3 4]]\n"
       ]
      }
     ],
     "prompt_number": 2
    },
    {
     "cell_type": "code",
     "collapsed": false,
     "input": [
      "np.save('my_array', array2d)  # stores the array on disk as my_array.npy (the extension .npy is added if not provided)"
     ],
     "language": "python",
     "metadata": {},
     "outputs": [],
     "prompt_number": 3
    },
    {
     "cell_type": "code",
     "collapsed": false,
     "input": [
      "from glob import glob  # python module for finding files whose names match a pattern"
     ],
     "language": "python",
     "metadata": {},
     "outputs": [],
     "prompt_number": 4
    },
    {
     "cell_type": "code",
     "collapsed": false,
     "input": [
      "glob('*.npy')  # find all files in the current directory with extension .npy"
     ],
     "language": "python",
     "metadata": {},
     "outputs": [
      {
       "metadata": {},
       "output_type": "pyout",
       "prompt_number": 5,
       "text": [
        "['my_array.npy']"
       ]
      }
     ],
     "prompt_number": 5
    },
    {
     "cell_type": "code",
     "collapsed": false,
     "input": [
      "del array2d  # del is a built-in Python function that deletes the binding of a name to an object"
     ],
     "language": "python",
     "metadata": {},
     "outputs": [],
     "prompt_number": 6
    },
    {
     "cell_type": "code",
     "collapsed": false,
     "input": [
      "print array2d  # now raises an error since we deleted the name array2d"
     ],
     "language": "python",
     "metadata": {},
     "outputs": [
      {
       "ename": "NameError",
       "evalue": "name 'array2d' is not defined",
       "output_type": "pyerr",
       "traceback": [
        "\u001b[0;31m---------------------------------------------------------------------------\u001b[0m\n\u001b[0;31mNameError\u001b[0m                                 Traceback (most recent call last)",
        "\u001b[0;32m<ipython-input-7-2f9feb4af104>\u001b[0m in \u001b[0;36m<module>\u001b[0;34m()\u001b[0m\n\u001b[0;32m----> 1\u001b[0;31m \u001b[0;32mprint\u001b[0m \u001b[0marray2d\u001b[0m  \u001b[0;31m# now raises an error since we deleted the name array2d\u001b[0m\u001b[0;34m\u001b[0m\u001b[0m\n\u001b[0m",
        "\u001b[0;31mNameError\u001b[0m: name 'array2d' is not defined"
       ]
      }
     ],
     "prompt_number": 7
    },
    {
     "cell_type": "code",
     "collapsed": false,
     "input": [
      "array2d = np.load('my_array.npy')  # need to supply the extension .npy when using np.load"
     ],
     "language": "python",
     "metadata": {},
     "outputs": [],
     "prompt_number": 8
    },
    {
     "cell_type": "code",
     "collapsed": false,
     "input": [
      "print array2d"
     ],
     "language": "python",
     "metadata": {},
     "outputs": [
      {
       "output_type": "stream",
       "stream": "stdout",
       "text": [
        "[[1 2]\n",
        " [3 4]]\n"
       ]
      }
     ],
     "prompt_number": 9
    },
    {
     "cell_type": "markdown",
     "metadata": {},
     "source": [
      "You can also save multiple arrays via `numpy.savez` and later load them via `numpy.load`."
     ]
    },
    {
     "cell_type": "code",
     "collapsed": false,
     "input": [
      "random_2d = np.random.random((3, 4)); print random_2d  # 10 random values drawn uniformly from [0,1)"
     ],
     "language": "python",
     "metadata": {},
     "outputs": [
      {
       "output_type": "stream",
       "stream": "stdout",
       "text": [
        "[[ 0.37580431  0.24534979  0.16280553  0.59423945]\n",
        " [ 0.52028941  0.14424235  0.29596367  0.610745  ]\n",
        " [ 0.43036986  0.83315275  0.68672547  0.22145325]]\n"
       ]
      }
     ],
     "prompt_number": 10
    },
    {
     "cell_type": "code",
     "collapsed": false,
     "input": [
      "log_2d = np.log(random_2d); print log_2d"
     ],
     "language": "python",
     "metadata": {},
     "outputs": [
      {
       "output_type": "stream",
       "stream": "stdout",
       "text": [
        "[[-0.97868671 -1.40507038 -1.81519885 -0.52047292]\n",
        " [-0.65337006 -1.93626042 -1.21751858 -0.49307575]\n",
        " [-0.84311031 -0.18253828 -0.37582067 -1.50754376]]\n"
       ]
      }
     ],
     "prompt_number": 11
    },
    {
     "cell_type": "code",
     "collapsed": false,
     "input": [
      "exp_2d = np.exp(random_2d); print exp_2d"
     ],
     "language": "python",
     "metadata": {},
     "outputs": [
      {
       "output_type": "stream",
       "stream": "stdout",
       "text": [
        "[[ 1.45616216  1.27806829  1.17680781  1.81165258]\n",
        " [ 1.68251452  1.15516403  1.34442131  1.84180304]\n",
        " [ 1.53782619  2.30056041  1.98719774  1.24788891]]\n"
       ]
      }
     ],
     "prompt_number": 12
    },
    {
     "cell_type": "markdown",
     "metadata": {},
     "source": [
      "Now let us save the last three arrays we created into a file."
     ]
    },
    {
     "cell_type": "code",
     "collapsed": false,
     "input": [
      "np.savez('three_arrays', random_2d, log_2d, exp_2d)  # An .npz extension is supplied if not already given"
     ],
     "language": "python",
     "metadata": {},
     "outputs": [],
     "prompt_number": 13
    },
    {
     "cell_type": "code",
     "collapsed": false,
     "input": [
      "loaded_arrays = np.load('three_arrays.npz')   # for .npz files, np.load returns a dictionary-like object"
     ],
     "language": "python",
     "metadata": {},
     "outputs": [],
     "prompt_number": 14
    },
    {
     "cell_type": "code",
     "collapsed": false,
     "input": [
      "print loaded_arrays['arr_0']  # the first stored array can be accesses via the key 'arr_0'"
     ],
     "language": "python",
     "metadata": {},
     "outputs": [
      {
       "output_type": "stream",
       "stream": "stdout",
       "text": [
        "[[ 0.37580431  0.24534979  0.16280553  0.59423945]\n",
        " [ 0.52028941  0.14424235  0.29596367  0.610745  ]\n",
        " [ 0.43036986  0.83315275  0.68672547  0.22145325]]\n"
       ]
      }
     ],
     "prompt_number": 15
    },
    {
     "cell_type": "code",
     "collapsed": false,
     "input": [
      "print loaded_arrays['arr_1']  # the second stored array can be accessed via the key 'arr_1' (and so on ...)"
     ],
     "language": "python",
     "metadata": {},
     "outputs": [
      {
       "output_type": "stream",
       "stream": "stdout",
       "text": [
        "[[-0.97868671 -1.40507038 -1.81519885 -0.52047292]\n",
        " [-0.65337006 -1.93626042 -1.21751858 -0.49307575]\n",
        " [-0.84311031 -0.18253828 -0.37582067 -1.50754376]]\n"
       ]
      }
     ],
     "prompt_number": 16
    },
    {
     "cell_type": "code",
     "collapsed": false,
     "input": [
      "print loaded_arrays['arr_2']"
     ],
     "language": "python",
     "metadata": {},
     "outputs": [
      {
       "output_type": "stream",
       "stream": "stdout",
       "text": [
        "[[ 1.45616216  1.27806829  1.17680781  1.81165258]\n",
        " [ 1.68251452  1.15516403  1.34442131  1.84180304]\n",
        " [ 1.53782619  2.30056041  1.98719774  1.24788891]]\n"
       ]
      }
     ],
     "prompt_number": 17
    },
    {
     "cell_type": "markdown",
     "metadata": {},
     "source": [
      "If you want to save the arrays using meaningful names then use keyword arguments in `numpy.savez`."
     ]
    },
    {
     "cell_type": "code",
     "collapsed": false,
     "input": [
      "np.savez('three_arrays', random=random_2d, logs=log_2d, exps=exp_2d)"
     ],
     "language": "python",
     "metadata": {},
     "outputs": [],
     "prompt_number": 18
    },
    {
     "cell_type": "code",
     "collapsed": false,
     "input": [
      "loaded_arrays = np.load('three_arrays.npz')"
     ],
     "language": "python",
     "metadata": {},
     "outputs": [],
     "prompt_number": 19
    },
    {
     "cell_type": "code",
     "collapsed": false,
     "input": [
      "for key in loaded_arrays.keys():\n",
      "    print \"loaded_arrays['\" + key + \"'] is the following:\"\n",
      "    print loaded_arrays[key]"
     ],
     "language": "python",
     "metadata": {},
     "outputs": [
      {
       "output_type": "stream",
       "stream": "stdout",
       "text": [
        "loaded_arrays['exps'] is the following:\n",
        "[[ 1.45616216  1.27806829  1.17680781  1.81165258]\n",
        " [ 1.68251452  1.15516403  1.34442131  1.84180304]\n",
        " [ 1.53782619  2.30056041  1.98719774  1.24788891]]\n",
        "loaded_arrays['random'] is the following:\n",
        "[[ 0.37580431  0.24534979  0.16280553  0.59423945]\n",
        " [ 0.52028941  0.14424235  0.29596367  0.610745  ]\n",
        " [ 0.43036986  0.83315275  0.68672547  0.22145325]]\n",
        "loaded_arrays['logs'] is the following:\n",
        "[[-0.97868671 -1.40507038 -1.81519885 -0.52047292]\n",
        " [-0.65337006 -1.93626042 -1.21751858 -0.49307575]\n",
        " [-0.84311031 -0.18253828 -0.37582067 -1.50754376]]\n"
       ]
      }
     ],
     "prompt_number": 20
    },
    {
     "cell_type": "markdown",
     "metadata": {},
     "source": [
      "When dealing with data destinations or sources outside of Python, the ability to save and load text files is useful. The functions `numpy.savetxt` and `numpy.loadtxt` offer basic functionality for doing that."
     ]
    },
    {
     "cell_type": "code",
     "collapsed": false,
     "input": [
      "two_decimals = np.arange(0, .4, .01).reshape((5, 8)); print two_decimals "
     ],
     "language": "python",
     "metadata": {},
     "outputs": [
      {
       "output_type": "stream",
       "stream": "stdout",
       "text": [
        "[[ 0.    0.01  0.02  0.03  0.04  0.05  0.06  0.07]\n",
        " [ 0.08  0.09  0.1   0.11  0.12  0.13  0.14  0.15]\n",
        " [ 0.16  0.17  0.18  0.19  0.2   0.21  0.22  0.23]\n",
        " [ 0.24  0.25  0.26  0.27  0.28  0.29  0.3   0.31]\n",
        " [ 0.32  0.33  0.34  0.35  0.36  0.37  0.38  0.39]]\n"
       ]
      }
     ],
     "prompt_number": 21
    },
    {
     "cell_type": "code",
     "collapsed": false,
     "input": [
      "np.savetxt('two_decimals.csv', two_decimals, delimiter=',')  # default delimiter is space"
     ],
     "language": "python",
     "metadata": {},
     "outputs": [],
     "prompt_number": 22
    },
    {
     "cell_type": "markdown",
     "metadata": {},
     "source": [
      "In IPython (the enhanced interactive Python environment used to create this notebook), commands starting with an exclamation mark (!) are possed on to the shell for execution and the resulting output is shown. Do not use this in your python scripts meant to be run using the standard Python interpreter! Python will flag a syntax error for lines that start with an exclamation mark."
     ]
    },
    {
     "cell_type": "code",
     "collapsed": false,
     "input": [
      "!cat two_decimals.csv  # we did create a file with comma separated values but the float representation is too long"
     ],
     "language": "python",
     "metadata": {},
     "outputs": [
      {
       "output_type": "stream",
       "stream": "stdout",
       "text": [
        "0.000000000000000000e+00,1.000000000000000021e-02,2.000000000000000042e-02,2.999999999999999889e-02,4.000000000000000083e-02,5.000000000000000278e-02,5.999999999999999778e-02,7.000000000000000666e-02\r\n",
        "8.000000000000000167e-02,8.999999999999999667e-02,1.000000000000000056e-01,1.100000000000000006e-01,1.199999999999999956e-01,1.300000000000000044e-01,1.400000000000000133e-01,1.499999999999999944e-01\r\n",
        "1.600000000000000033e-01,1.700000000000000122e-01,1.799999999999999933e-01,1.900000000000000022e-01,2.000000000000000111e-01,2.099999999999999922e-01,2.200000000000000011e-01,2.300000000000000100e-01\r\n",
        "2.399999999999999911e-01,2.500000000000000000e-01,2.600000000000000089e-01,2.700000000000000178e-01,2.800000000000000266e-01,2.899999999999999800e-01,2.999999999999999889e-01,3.099999999999999978e-01\r\n",
        "3.200000000000000067e-01,3.300000000000000155e-01,3.400000000000000244e-01,3.500000000000000333e-01,3.599999999999999867e-01,3.699999999999999956e-01,3.800000000000000044e-01,3.900000000000000133e-01\r\n"
       ]
      }
     ],
     "prompt_number": 23
    },
    {
     "cell_type": "code",
     "collapsed": false,
     "input": [
      "np.savetxt('two_decimals.csv', two_decimals, fmt='%.2f', delimiter=',')  # we'll now use a better format string"
     ],
     "language": "python",
     "metadata": {},
     "outputs": [],
     "prompt_number": 24
    },
    {
     "cell_type": "code",
     "collapsed": false,
     "input": [
      "!cat two_decimals.csv"
     ],
     "language": "python",
     "metadata": {},
     "outputs": [
      {
       "output_type": "stream",
       "stream": "stdout",
       "text": [
        "0.00,0.01,0.02,0.03,0.04,0.05,0.06,0.07\r\n",
        "0.08,0.09,0.10,0.11,0.12,0.13,0.14,0.15\r\n",
        "0.16,0.17,0.18,0.19,0.20,0.21,0.22,0.23\r\n",
        "0.24,0.25,0.26,0.27,0.28,0.29,0.30,0.31\r\n",
        "0.32,0.33,0.34,0.35,0.36,0.37,0.38,0.39\r\n"
       ]
      }
     ],
     "prompt_number": 25
    },
    {
     "cell_type": "markdown",
     "metadata": {},
     "source": [
      "Let us now delete the local variable `two_decimals` and then load the csv file."
     ]
    },
    {
     "cell_type": "code",
     "collapsed": false,
     "input": [
      "del two_decimals"
     ],
     "language": "python",
     "metadata": {},
     "outputs": [],
     "prompt_number": 26
    },
    {
     "cell_type": "code",
     "collapsed": false,
     "input": [
      "two_decimals = np.loadtxt('two_decimals.csv', delimiter=','); print two_decimals"
     ],
     "language": "python",
     "metadata": {},
     "outputs": [
      {
       "output_type": "stream",
       "stream": "stdout",
       "text": [
        "[[ 0.    0.01  0.02  0.03  0.04  0.05  0.06  0.07]\n",
        " [ 0.08  0.09  0.1   0.11  0.12  0.13  0.14  0.15]\n",
        " [ 0.16  0.17  0.18  0.19  0.2   0.21  0.22  0.23]\n",
        " [ 0.24  0.25  0.26  0.27  0.28  0.29  0.3   0.31]\n",
        " [ 0.32  0.33  0.34  0.35  0.36  0.37  0.38  0.39]]\n"
       ]
      }
     ],
     "prompt_number": 27
    },
    {
     "cell_type": "markdown",
     "metadata": {},
     "source": [
      "Let us now add a header line to two_decimals.csv"
     ]
    },
    {
     "cell_type": "code",
     "collapsed": false,
     "input": [
      "!echo \"This is a header.\" > header"
     ],
     "language": "python",
     "metadata": {},
     "outputs": [],
     "prompt_number": 28
    },
    {
     "cell_type": "code",
     "collapsed": false,
     "input": [
      "!cat header two_decimals.csv > two_decimals_header.csv"
     ],
     "language": "python",
     "metadata": {},
     "outputs": [],
     "prompt_number": 29
    },
    {
     "cell_type": "code",
     "collapsed": false,
     "input": [
      "!cat two_decimals_header.csv"
     ],
     "language": "python",
     "metadata": {},
     "outputs": [
      {
       "output_type": "stream",
       "stream": "stdout",
       "text": [
        "This is a header.\r\n",
        "0.00,0.01,0.02,0.03,0.04,0.05,0.06,0.07\r\n",
        "0.08,0.09,0.10,0.11,0.12,0.13,0.14,0.15\r\n",
        "0.16,0.17,0.18,0.19,0.20,0.21,0.22,0.23\r\n",
        "0.24,0.25,0.26,0.27,0.28,0.29,0.30,0.31\r\n",
        "0.32,0.33,0.34,0.35,0.36,0.37,0.38,0.39\r\n"
       ]
      }
     ],
     "prompt_number": 30
    },
    {
     "cell_type": "code",
     "collapsed": false,
     "input": [
      "two_decimals = np.loadtxt('two_decimals_header.csv', delimiter=',', skiprows=1)  # skip the first row"
     ],
     "language": "python",
     "metadata": {},
     "outputs": [],
     "prompt_number": 31
    },
    {
     "cell_type": "code",
     "collapsed": false,
     "input": [
      "print two_decimals"
     ],
     "language": "python",
     "metadata": {},
     "outputs": [
      {
       "output_type": "stream",
       "stream": "stdout",
       "text": [
        "[[ 0.    0.01  0.02  0.03  0.04  0.05  0.06  0.07]\n",
        " [ 0.08  0.09  0.1   0.11  0.12  0.13  0.14  0.15]\n",
        " [ 0.16  0.17  0.18  0.19  0.2   0.21  0.22  0.23]\n",
        " [ 0.24  0.25  0.26  0.27  0.28  0.29  0.3   0.31]\n",
        " [ 0.32  0.33  0.34  0.35  0.36  0.37  0.38  0.39]]\n"
       ]
      }
     ],
     "prompt_number": 32
    },
    {
     "cell_type": "code",
     "collapsed": false,
     "input": [
      "!echo \"# This is a comment.\" >> two_decimals_header.csv"
     ],
     "language": "python",
     "metadata": {},
     "outputs": [],
     "prompt_number": 33
    },
    {
     "cell_type": "code",
     "collapsed": false,
     "input": [
      "!cat two_decimals_header.csv"
     ],
     "language": "python",
     "metadata": {},
     "outputs": [
      {
       "output_type": "stream",
       "stream": "stdout",
       "text": [
        "This is a header.\r\n",
        "0.00,0.01,0.02,0.03,0.04,0.05,0.06,0.07\r\n",
        "0.08,0.09,0.10,0.11,0.12,0.13,0.14,0.15\r\n",
        "0.16,0.17,0.18,0.19,0.20,0.21,0.22,0.23\r\n",
        "0.24,0.25,0.26,0.27,0.28,0.29,0.30,0.31\r\n",
        "0.32,0.33,0.34,0.35,0.36,0.37,0.38,0.39\r\n",
        "# This is a comment.\r\n"
       ]
      }
     ],
     "prompt_number": 34
    },
    {
     "cell_type": "code",
     "collapsed": false,
     "input": [
      "two_decimals = np.loadtxt('two_decimals_header.csv', delimiter=',', skiprows=1)  # np.loadtxt will automatically skip comments"
     ],
     "language": "python",
     "metadata": {},
     "outputs": [],
     "prompt_number": 35
    },
    {
     "cell_type": "code",
     "collapsed": false,
     "input": [
      "print two_decimals"
     ],
     "language": "python",
     "metadata": {},
     "outputs": [
      {
       "output_type": "stream",
       "stream": "stdout",
       "text": [
        "[[ 0.    0.01  0.02  0.03  0.04  0.05  0.06  0.07]\n",
        " [ 0.08  0.09  0.1   0.11  0.12  0.13  0.14  0.15]\n",
        " [ 0.16  0.17  0.18  0.19  0.2   0.21  0.22  0.23]\n",
        " [ 0.24  0.25  0.26  0.27  0.28  0.29  0.3   0.31]\n",
        " [ 0.32  0.33  0.34  0.35  0.36  0.37  0.38  0.39]]\n"
       ]
      }
     ],
     "prompt_number": 36
    },
    {
     "cell_type": "heading",
     "level": 1,
     "metadata": {},
     "source": [
      "Linear algebra"
     ]
    },
    {
     "cell_type": "markdown",
     "metadata": {},
     "source": [
      "We have already seen one linear algebra method, namely `numpy.dot()` (and the related ndarray method `numpy.ndarray.dot()`). For vectors, it computes inner products. For 2-d arrays, it computes matrix multiplication (we have already seen an example involving 2-d rotation matrices)."
     ]
    },
    {
     "cell_type": "code",
     "collapsed": false,
     "input": [
      "vec1 = np.array([1, 2])"
     ],
     "language": "python",
     "metadata": {},
     "outputs": [],
     "prompt_number": 37
    },
    {
     "cell_type": "code",
     "collapsed": false,
     "input": [
      "vec2 = np.array([3, 4])  # inner product of vec1 and vec2 is 11"
     ],
     "language": "python",
     "metadata": {},
     "outputs": [],
     "prompt_number": 38
    },
    {
     "cell_type": "code",
     "collapsed": false,
     "input": [
      "print np.dot(vec1, vec2)  # compute it using the function np.dot"
     ],
     "language": "python",
     "metadata": {},
     "outputs": [
      {
       "output_type": "stream",
       "stream": "stdout",
       "text": [
        "11\n"
       ]
      }
     ],
     "prompt_number": 39
    },
    {
     "cell_type": "code",
     "collapsed": false,
     "input": [
      "print vec1.dot(vec2)  # compute it using the method dot of ndarray objects"
     ],
     "language": "python",
     "metadata": {},
     "outputs": [
      {
       "output_type": "stream",
       "stream": "stdout",
       "text": [
        "11\n"
       ]
      }
     ],
     "prompt_number": 40
    },
    {
     "cell_type": "code",
     "collapsed": false,
     "input": [
      "my_arr = np.array([[1, 1], [2, 2]]); print my_arr"
     ],
     "language": "python",
     "metadata": {},
     "outputs": [
      {
       "output_type": "stream",
       "stream": "stdout",
       "text": [
        "[[1 1]\n",
        " [2 2]]\n"
       ]
      }
     ],
     "prompt_number": 41
    },
    {
     "cell_type": "code",
     "collapsed": false,
     "input": [
      "vec1.dot(my_arr)  # dot also works for 1-d and 2-d arrays"
     ],
     "language": "python",
     "metadata": {},
     "outputs": [
      {
       "metadata": {},
       "output_type": "pyout",
       "prompt_number": 42,
       "text": [
        "array([5, 5])"
       ]
      }
     ],
     "prompt_number": 42
    },
    {
     "cell_type": "code",
     "collapsed": false,
     "input": [
      "my_arr.dot(vec1)  # of course, the order is important"
     ],
     "language": "python",
     "metadata": {},
     "outputs": [
      {
       "metadata": {},
       "output_type": "pyout",
       "prompt_number": 43,
       "text": [
        "array([3, 6])"
       ]
      }
     ],
     "prompt_number": 43
    },
    {
     "cell_type": "code",
     "collapsed": false,
     "input": [
      "vec1.dot(my_arr.T)  # same as previous"
     ],
     "language": "python",
     "metadata": {},
     "outputs": [
      {
       "metadata": {},
       "output_type": "pyout",
       "prompt_number": 44,
       "text": [
        "array([3, 6])"
       ]
      }
     ],
     "prompt_number": 44
    },
    {
     "cell_type": "markdown",
     "metadata": {},
     "source": [
      "`numpy.inner` is the same as `numpy.dot` for 1-d arrays."
     ]
    },
    {
     "cell_type": "code",
     "collapsed": false,
     "input": [
      "np.inner(vec1, vec2)"
     ],
     "language": "python",
     "metadata": {},
     "outputs": [
      {
       "metadata": {},
       "output_type": "pyout",
       "prompt_number": 45,
       "text": [
        "11"
       ]
      }
     ],
     "prompt_number": 45
    },
    {
     "cell_type": "markdown",
     "metadata": {},
     "source": [
      "We can also compute the outer product via `numpy.outer`."
     ]
    },
    {
     "cell_type": "code",
     "collapsed": false,
     "input": [
      "np.outer(vec1, vec2)"
     ],
     "language": "python",
     "metadata": {},
     "outputs": [
      {
       "metadata": {},
       "output_type": "pyout",
       "prompt_number": 46,
       "text": [
        "array([[3, 4],\n",
        "       [6, 8]])"
       ]
      }
     ],
     "prompt_number": 46
    },
    {
     "cell_type": "code",
     "collapsed": false,
     "input": [
      "my_arr = np.column_stack((vec1, vec2)); print my_arr"
     ],
     "language": "python",
     "metadata": {},
     "outputs": [
      {
       "output_type": "stream",
       "stream": "stdout",
       "text": [
        "[[1 3]\n",
        " [2 4]]\n"
       ]
      }
     ],
     "prompt_number": 47
    },
    {
     "cell_type": "code",
     "collapsed": false,
     "input": [
      "np.kron(my_arr, np.ones((2, 2)))  # 2nd array scaled by entries of first (Kronecker product)"
     ],
     "language": "python",
     "metadata": {},
     "outputs": [
      {
       "metadata": {},
       "output_type": "pyout",
       "prompt_number": 48,
       "text": [
        "array([[ 1.,  1.,  3.,  3.],\n",
        "       [ 1.,  1.,  3.,  3.],\n",
        "       [ 2.,  2.,  4.,  4.],\n",
        "       [ 2.,  2.,  4.,  4.]])"
       ]
      }
     ],
     "prompt_number": 48
    },
    {
     "cell_type": "code",
     "collapsed": false,
     "input": [
      "from numpy import linalg as LA  # import the linear algebra subpackage of numpy"
     ],
     "language": "python",
     "metadata": {},
     "outputs": [],
     "prompt_number": 49
    },
    {
     "cell_type": "code",
     "collapsed": false,
     "input": [
      "forward_shift = np.array([[0, 0, 1], [1, 0, 0], [0, 1, 0]]); print forward_shift"
     ],
     "language": "python",
     "metadata": {},
     "outputs": [
      {
       "output_type": "stream",
       "stream": "stdout",
       "text": [
        "[[0 0 1]\n",
        " [1 0 0]\n",
        " [0 1 0]]\n"
       ]
      }
     ],
     "prompt_number": 50
    },
    {
     "cell_type": "code",
     "collapsed": false,
     "input": [
      "print forward_shift.dot(np.arange(3))"
     ],
     "language": "python",
     "metadata": {},
     "outputs": [
      {
       "output_type": "stream",
       "stream": "stdout",
       "text": [
        "[2 0 1]\n"
       ]
      }
     ],
     "prompt_number": 51
    },
    {
     "cell_type": "code",
     "collapsed": false,
     "input": [
      "shift_cubed = LA.matrix_power(forward_shift, 3)  # this should be identity"
     ],
     "language": "python",
     "metadata": {},
     "outputs": [],
     "prompt_number": 52
    },
    {
     "cell_type": "code",
     "collapsed": false,
     "input": [
      "print shift_cubed"
     ],
     "language": "python",
     "metadata": {},
     "outputs": [
      {
       "output_type": "stream",
       "stream": "stdout",
       "text": [
        "[[1 0 0]\n",
        " [0 1 0]\n",
        " [0 0 1]]\n"
       ]
      }
     ],
     "prompt_number": 53
    },
    {
     "cell_type": "markdown",
     "metadata": {},
     "source": [
      "Finally, just to clean up temporary files..."
     ]
    },
    {
     "cell_type": "code",
     "collapsed": false,
     "input": [
      "!rm my_array.npy three_arrays.npz two_decimals.csv two_decimals_header.csv"
     ],
     "language": "python",
     "metadata": {},
     "outputs": [],
     "prompt_number": 54
    }
   ],
   "metadata": {}
  }
 ]
}