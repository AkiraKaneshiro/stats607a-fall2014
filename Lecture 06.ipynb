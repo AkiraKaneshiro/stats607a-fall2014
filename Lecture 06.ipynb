{
 "metadata": {
  "name": "",
  "signature": "sha256:c29277a6fef26379d2b6be4f47e831011a84965a812ba6d1f68ab86bd78ab3ed"
 },
 "nbformat": 3,
 "nbformat_minor": 0,
 "worksheets": [
  {
   "cells": [
    {
     "cell_type": "markdown",
     "metadata": {},
     "source": [
      "Today we'll cover:\n",
      "\n",
      "1. [Array input and output](#Array-input-and-output)\n",
      "2. [Linear algebra](#Linear-algebra)\n",
      "3. "
     ]
    },
    {
     "cell_type": "heading",
     "level": 1,
     "metadata": {},
     "source": [
      "Array input and output"
     ]
    },
    {
     "cell_type": "markdown",
     "metadata": {},
     "source": [
      "Sometimes you want store your arrays on disk for reading them later. `numpy.save` and `numpy.load` are the basic functions for doing that."
     ]
    },
    {
     "cell_type": "code",
     "collapsed": false,
     "input": [
      "import numpy as np"
     ],
     "language": "python",
     "metadata": {},
     "outputs": [],
     "prompt_number": 1
    },
    {
     "cell_type": "code",
     "collapsed": false,
     "input": [
      "array2d = np.array([[1, 2], [3, 4]]); print array2d"
     ],
     "language": "python",
     "metadata": {},
     "outputs": [
      {
       "output_type": "stream",
       "stream": "stdout",
       "text": [
        "[[1 2]\n",
        " [3 4]]\n"
       ]
      }
     ],
     "prompt_number": 2
    },
    {
     "cell_type": "code",
     "collapsed": false,
     "input": [
      "np.save('my_array', array2d)  # stores the array on disk as my_array.npy (the extension .npy is added if not provided)"
     ],
     "language": "python",
     "metadata": {},
     "outputs": [],
     "prompt_number": 3
    },
    {
     "cell_type": "code",
     "collapsed": false,
     "input": [
      "from glob import glob  # python module for finding files whose names match a pattern"
     ],
     "language": "python",
     "metadata": {},
     "outputs": [],
     "prompt_number": 4
    },
    {
     "cell_type": "code",
     "collapsed": false,
     "input": [
      "glob('*.npy')  # find all files in the current directory with extension .npy"
     ],
     "language": "python",
     "metadata": {},
     "outputs": [
      {
       "metadata": {},
       "output_type": "pyout",
       "prompt_number": 5,
       "text": [
        "['my_array.npy']"
       ]
      }
     ],
     "prompt_number": 5
    },
    {
     "cell_type": "code",
     "collapsed": false,
     "input": [
      "del array2d  # del is a built-in Python function that deletes the binding of a name to an object"
     ],
     "language": "python",
     "metadata": {},
     "outputs": [],
     "prompt_number": 6
    },
    {
     "cell_type": "code",
     "collapsed": false,
     "input": [
      "print array2d  # now raises an error since we deleted the name array2d"
     ],
     "language": "python",
     "metadata": {},
     "outputs": [
      {
       "ename": "NameError",
       "evalue": "name 'array2d' is not defined",
       "output_type": "pyerr",
       "traceback": [
        "\u001b[0;31m---------------------------------------------------------------------------\u001b[0m\n\u001b[0;31mNameError\u001b[0m                                 Traceback (most recent call last)",
        "\u001b[0;32m<ipython-input-7-2f9feb4af104>\u001b[0m in \u001b[0;36m<module>\u001b[0;34m()\u001b[0m\n\u001b[0;32m----> 1\u001b[0;31m \u001b[0;32mprint\u001b[0m \u001b[0marray2d\u001b[0m  \u001b[0;31m# now raises an error since we deleted the name array2d\u001b[0m\u001b[0;34m\u001b[0m\u001b[0m\n\u001b[0m",
        "\u001b[0;31mNameError\u001b[0m: name 'array2d' is not defined"
       ]
      }
     ],
     "prompt_number": 7
    },
    {
     "cell_type": "code",
     "collapsed": false,
     "input": [
      "array2d = np.load('my_array.npy')  # need to supply the extension .npy when using np.load"
     ],
     "language": "python",
     "metadata": {},
     "outputs": [],
     "prompt_number": 8
    },
    {
     "cell_type": "code",
     "collapsed": false,
     "input": [
      "print array2d"
     ],
     "language": "python",
     "metadata": {},
     "outputs": [
      {
       "output_type": "stream",
       "stream": "stdout",
       "text": [
        "[[1 2]\n",
        " [3 4]]\n"
       ]
      }
     ],
     "prompt_number": 9
    },
    {
     "cell_type": "markdown",
     "metadata": {},
     "source": [
      "You can also save multiple arrays via `numpy.savez` and later load them via `numpy.load`."
     ]
    },
    {
     "cell_type": "code",
     "collapsed": false,
     "input": [
      "random_2d = np.random.random((3, 4)); print random_2d  # 10 random values drawn uniformly from [0,1)"
     ],
     "language": "python",
     "metadata": {},
     "outputs": [
      {
       "output_type": "stream",
       "stream": "stdout",
       "text": [
        "[[ 0.69273948  0.1391834   0.31635121  0.86107062]\n",
        " [ 0.3808983   0.87999351  0.54296973  0.90241794]\n",
        " [ 0.78238906  0.92972318  0.9704491   0.72141442]]\n"
       ]
      }
     ],
     "prompt_number": 10
    },
    {
     "cell_type": "code",
     "collapsed": false,
     "input": [
      "log_2d = np.log(random_2d); print log_2d"
     ],
     "language": "python",
     "metadata": {},
     "outputs": [
      {
       "output_type": "stream",
       "stream": "stdout",
       "text": [
        "[[-0.36710128 -1.97196278 -1.15090225 -0.14957876]\n",
        " [-0.96522287 -0.12784074 -0.6107017  -0.10267752]\n",
        " [-0.24540314 -0.07286839 -0.02999632 -0.32654152]]\n"
       ]
      }
     ],
     "prompt_number": 11
    },
    {
     "cell_type": "code",
     "collapsed": false,
     "input": [
      "exp_2d = np.exp(random_2d); print exp_2d"
     ],
     "language": "python",
     "metadata": {},
     "outputs": [
      {
       "output_type": "stream",
       "stream": "stdout",
       "text": [
        "[[ 1.99918476  1.14933487  1.37211207  2.36569209]\n",
        " [ 1.46359875  2.41088407  1.72111052  2.46555747]\n",
        " [ 2.18669017  2.53380768  2.63912944  2.05734111]]\n"
       ]
      }
     ],
     "prompt_number": 12
    },
    {
     "cell_type": "markdown",
     "metadata": {},
     "source": [
      "Now let us save the last three arrays we created into a file."
     ]
    },
    {
     "cell_type": "code",
     "collapsed": false,
     "input": [
      "np.savez('three_arrays', random_2d, log_2d, exp_2d)  # An .npz extension is supplied if not already given"
     ],
     "language": "python",
     "metadata": {},
     "outputs": [],
     "prompt_number": 13
    },
    {
     "cell_type": "code",
     "collapsed": false,
     "input": [
      "loaded_arrays = np.load('three_arrays.npz')   # for .npz files, np.load returns a dictionary-like object"
     ],
     "language": "python",
     "metadata": {},
     "outputs": [],
     "prompt_number": 14
    },
    {
     "cell_type": "code",
     "collapsed": false,
     "input": [
      "print loaded_arrays['arr_0']  # the first stored array can be accesses via the key 'arr_0'"
     ],
     "language": "python",
     "metadata": {},
     "outputs": [
      {
       "output_type": "stream",
       "stream": "stdout",
       "text": [
        "[[ 0.69273948  0.1391834   0.31635121  0.86107062]\n",
        " [ 0.3808983   0.87999351  0.54296973  0.90241794]\n",
        " [ 0.78238906  0.92972318  0.9704491   0.72141442]]\n"
       ]
      }
     ],
     "prompt_number": 15
    },
    {
     "cell_type": "code",
     "collapsed": false,
     "input": [
      "print loaded_arrays['arr_1']  # the second stored array can be accessed via the key 'arr_1' (and so on ...)"
     ],
     "language": "python",
     "metadata": {},
     "outputs": [
      {
       "output_type": "stream",
       "stream": "stdout",
       "text": [
        "[[-0.36710128 -1.97196278 -1.15090225 -0.14957876]\n",
        " [-0.96522287 -0.12784074 -0.6107017  -0.10267752]\n",
        " [-0.24540314 -0.07286839 -0.02999632 -0.32654152]]\n"
       ]
      }
     ],
     "prompt_number": 16
    },
    {
     "cell_type": "code",
     "collapsed": false,
     "input": [
      "print loaded_arrays['arr_2']"
     ],
     "language": "python",
     "metadata": {},
     "outputs": [
      {
       "output_type": "stream",
       "stream": "stdout",
       "text": [
        "[[ 1.99918476  1.14933487  1.37211207  2.36569209]\n",
        " [ 1.46359875  2.41088407  1.72111052  2.46555747]\n",
        " [ 2.18669017  2.53380768  2.63912944  2.05734111]]\n"
       ]
      }
     ],
     "prompt_number": 17
    },
    {
     "cell_type": "markdown",
     "metadata": {},
     "source": [
      "If you want to save the arrays using meaningful names then use keyword arguments in `numpy.savez`."
     ]
    },
    {
     "cell_type": "code",
     "collapsed": false,
     "input": [
      "np.savez('three_arrays', random=random_2d, logs=log_2d, exps=exp_2d)"
     ],
     "language": "python",
     "metadata": {},
     "outputs": [],
     "prompt_number": 18
    },
    {
     "cell_type": "code",
     "collapsed": false,
     "input": [
      "loaded_arrays = np.load('three_arrays.npz')"
     ],
     "language": "python",
     "metadata": {},
     "outputs": [],
     "prompt_number": 19
    },
    {
     "cell_type": "code",
     "collapsed": false,
     "input": [
      "for key in loaded_arrays.keys():\n",
      "    print \"loaded_arrays['\" + key + \"'] is the following:\"\n",
      "    print loaded_arrays[key]"
     ],
     "language": "python",
     "metadata": {},
     "outputs": [
      {
       "output_type": "stream",
       "stream": "stdout",
       "text": [
        "loaded_arrays['exps'] is the following:\n",
        "[[ 1.99918476  1.14933487  1.37211207  2.36569209]\n",
        " [ 1.46359875  2.41088407  1.72111052  2.46555747]\n",
        " [ 2.18669017  2.53380768  2.63912944  2.05734111]]\n",
        "loaded_arrays['random'] is the following:\n",
        "[[ 0.69273948  0.1391834   0.31635121  0.86107062]\n",
        " [ 0.3808983   0.87999351  0.54296973  0.90241794]\n",
        " [ 0.78238906  0.92972318  0.9704491   0.72141442]]\n",
        "loaded_arrays['logs'] is the following:\n",
        "[[-0.36710128 -1.97196278 -1.15090225 -0.14957876]\n",
        " [-0.96522287 -0.12784074 -0.6107017  -0.10267752]\n",
        " [-0.24540314 -0.07286839 -0.02999632 -0.32654152]]\n"
       ]
      }
     ],
     "prompt_number": 20
    },
    {
     "cell_type": "markdown",
     "metadata": {},
     "source": [
      "When dealing with data destinations or sources outside of Python, the ability to save and load text files is useful. The functions `numpy.savetxt` and `numpy.loadtxt` offer basic functionality for doing that."
     ]
    },
    {
     "cell_type": "code",
     "collapsed": false,
     "input": [
      "two_decimals = np.arange(0, .4, .01).reshape((5, 8)); print two_decimals "
     ],
     "language": "python",
     "metadata": {},
     "outputs": [
      {
       "output_type": "stream",
       "stream": "stdout",
       "text": [
        "[[ 0.    0.01  0.02  0.03  0.04  0.05  0.06  0.07]\n",
        " [ 0.08  0.09  0.1   0.11  0.12  0.13  0.14  0.15]\n",
        " [ 0.16  0.17  0.18  0.19  0.2   0.21  0.22  0.23]\n",
        " [ 0.24  0.25  0.26  0.27  0.28  0.29  0.3   0.31]\n",
        " [ 0.32  0.33  0.34  0.35  0.36  0.37  0.38  0.39]]\n"
       ]
      }
     ],
     "prompt_number": 21
    },
    {
     "cell_type": "code",
     "collapsed": false,
     "input": [
      "np.savetxt('two_decimals.csv', two_decimals, delimiter=',')  # default delimiter is space"
     ],
     "language": "python",
     "metadata": {},
     "outputs": [],
     "prompt_number": 22
    },
    {
     "cell_type": "markdown",
     "metadata": {},
     "source": [
      "In IPython (the enhanced interactive Python environment used to create this notebook), commands starting with an exclamation mark (!) are possed on to the shell for execution and the resulting output is shown. Do not use this in your python scripts meant to be run using the standard Python interpreter! Python will flag a syntax error for lines that start with an exclamation mark."
     ]
    },
    {
     "cell_type": "code",
     "collapsed": false,
     "input": [
      "!cat two_decimals.csv  # we did create a file with comma separated values but the float representation is too long"
     ],
     "language": "python",
     "metadata": {},
     "outputs": [
      {
       "output_type": "stream",
       "stream": "stdout",
       "text": [
        "0.000000000000000000e+00,1.000000000000000021e-02,2.000000000000000042e-02,2.999999999999999889e-02,4.000000000000000083e-02,5.000000000000000278e-02,5.999999999999999778e-02,7.000000000000000666e-02\r\n",
        "8.000000000000000167e-02,8.999999999999999667e-02,1.000000000000000056e-01,1.100000000000000006e-01,1.199999999999999956e-01,1.300000000000000044e-01,1.400000000000000133e-01,1.499999999999999944e-01\r\n",
        "1.600000000000000033e-01,1.700000000000000122e-01,1.799999999999999933e-01,1.900000000000000022e-01,2.000000000000000111e-01,2.099999999999999922e-01,2.200000000000000011e-01,2.300000000000000100e-01\r\n",
        "2.399999999999999911e-01,2.500000000000000000e-01,2.600000000000000089e-01,2.700000000000000178e-01,2.800000000000000266e-01,2.899999999999999800e-01,2.999999999999999889e-01,3.099999999999999978e-01\r\n",
        "3.200000000000000067e-01,3.300000000000000155e-01,3.400000000000000244e-01,3.500000000000000333e-01,3.599999999999999867e-01,3.699999999999999956e-01,3.800000000000000044e-01,3.900000000000000133e-01\r\n"
       ]
      }
     ],
     "prompt_number": 23
    },
    {
     "cell_type": "code",
     "collapsed": false,
     "input": [
      "np.savetxt('two_decimals.csv', two_decimals, fmt='%.2f', delimiter=',')  # we'll now use a better format string"
     ],
     "language": "python",
     "metadata": {},
     "outputs": [],
     "prompt_number": 24
    },
    {
     "cell_type": "code",
     "collapsed": false,
     "input": [
      "!cat two_decimals.csv"
     ],
     "language": "python",
     "metadata": {},
     "outputs": [
      {
       "output_type": "stream",
       "stream": "stdout",
       "text": [
        "0.00,0.01,0.02,0.03,0.04,0.05,0.06,0.07\r\n",
        "0.08,0.09,0.10,0.11,0.12,0.13,0.14,0.15\r\n",
        "0.16,0.17,0.18,0.19,0.20,0.21,0.22,0.23\r\n",
        "0.24,0.25,0.26,0.27,0.28,0.29,0.30,0.31\r\n",
        "0.32,0.33,0.34,0.35,0.36,0.37,0.38,0.39\r\n"
       ]
      }
     ],
     "prompt_number": 25
    },
    {
     "cell_type": "markdown",
     "metadata": {},
     "source": [
      "Let us now delete the local variable `two_decimals` and then load the csv file."
     ]
    },
    {
     "cell_type": "code",
     "collapsed": false,
     "input": [
      "del two_decimals"
     ],
     "language": "python",
     "metadata": {},
     "outputs": [],
     "prompt_number": 26
    },
    {
     "cell_type": "code",
     "collapsed": false,
     "input": [
      "two_decimals = np.loadtxt('two_decimals.csv', delimiter=','); print two_decimals"
     ],
     "language": "python",
     "metadata": {},
     "outputs": [
      {
       "output_type": "stream",
       "stream": "stdout",
       "text": [
        "[[ 0.    0.01  0.02  0.03  0.04  0.05  0.06  0.07]\n",
        " [ 0.08  0.09  0.1   0.11  0.12  0.13  0.14  0.15]\n",
        " [ 0.16  0.17  0.18  0.19  0.2   0.21  0.22  0.23]\n",
        " [ 0.24  0.25  0.26  0.27  0.28  0.29  0.3   0.31]\n",
        " [ 0.32  0.33  0.34  0.35  0.36  0.37  0.38  0.39]]\n"
       ]
      }
     ],
     "prompt_number": 27
    },
    {
     "cell_type": "markdown",
     "metadata": {},
     "source": [
      "Let us now add a header line to two_decimals.csv"
     ]
    },
    {
     "cell_type": "code",
     "collapsed": false,
     "input": [
      "!echo \"This is a header.\" > header"
     ],
     "language": "python",
     "metadata": {},
     "outputs": [],
     "prompt_number": 28
    },
    {
     "cell_type": "code",
     "collapsed": false,
     "input": [
      "!cat header two_decimals.csv > two_decimals_header.csv"
     ],
     "language": "python",
     "metadata": {},
     "outputs": [],
     "prompt_number": 29
    },
    {
     "cell_type": "code",
     "collapsed": false,
     "input": [
      "!cat two_decimals_header.csv"
     ],
     "language": "python",
     "metadata": {},
     "outputs": [
      {
       "output_type": "stream",
       "stream": "stdout",
       "text": [
        "This is a header.\r\n",
        "0.00,0.01,0.02,0.03,0.04,0.05,0.06,0.07\r\n",
        "0.08,0.09,0.10,0.11,0.12,0.13,0.14,0.15\r\n",
        "0.16,0.17,0.18,0.19,0.20,0.21,0.22,0.23\r\n",
        "0.24,0.25,0.26,0.27,0.28,0.29,0.30,0.31\r\n",
        "0.32,0.33,0.34,0.35,0.36,0.37,0.38,0.39\r\n"
       ]
      }
     ],
     "prompt_number": 30
    },
    {
     "cell_type": "code",
     "collapsed": false,
     "input": [
      "two_decimals = np.loadtxt('two_decimals_header.csv', delimiter=',', skiprows=1)  # skip the first row"
     ],
     "language": "python",
     "metadata": {},
     "outputs": [],
     "prompt_number": 31
    },
    {
     "cell_type": "code",
     "collapsed": false,
     "input": [
      "print two_decimals"
     ],
     "language": "python",
     "metadata": {},
     "outputs": [
      {
       "output_type": "stream",
       "stream": "stdout",
       "text": [
        "[[ 0.    0.01  0.02  0.03  0.04  0.05  0.06  0.07]\n",
        " [ 0.08  0.09  0.1   0.11  0.12  0.13  0.14  0.15]\n",
        " [ 0.16  0.17  0.18  0.19  0.2   0.21  0.22  0.23]\n",
        " [ 0.24  0.25  0.26  0.27  0.28  0.29  0.3   0.31]\n",
        " [ 0.32  0.33  0.34  0.35  0.36  0.37  0.38  0.39]]\n"
       ]
      }
     ],
     "prompt_number": 32
    },
    {
     "cell_type": "code",
     "collapsed": false,
     "input": [
      "!echo \"# This is a comment.\" >> two_decimals_header.csv"
     ],
     "language": "python",
     "metadata": {},
     "outputs": [],
     "prompt_number": 33
    },
    {
     "cell_type": "code",
     "collapsed": false,
     "input": [
      "!cat two_decimals_header.csv"
     ],
     "language": "python",
     "metadata": {},
     "outputs": [
      {
       "output_type": "stream",
       "stream": "stdout",
       "text": [
        "This is a header.\r\n",
        "0.00,0.01,0.02,0.03,0.04,0.05,0.06,0.07\r\n",
        "0.08,0.09,0.10,0.11,0.12,0.13,0.14,0.15\r\n",
        "0.16,0.17,0.18,0.19,0.20,0.21,0.22,0.23\r\n",
        "0.24,0.25,0.26,0.27,0.28,0.29,0.30,0.31\r\n",
        "0.32,0.33,0.34,0.35,0.36,0.37,0.38,0.39\r\n",
        "# This is a comment.\r\n"
       ]
      }
     ],
     "prompt_number": 34
    },
    {
     "cell_type": "code",
     "collapsed": false,
     "input": [
      "two_decimals = np.loadtxt('two_decimals_header.csv', delimiter=',', skiprows=1)  # np.loadtxt will automatically skip comments"
     ],
     "language": "python",
     "metadata": {},
     "outputs": [],
     "prompt_number": 35
    },
    {
     "cell_type": "code",
     "collapsed": false,
     "input": [
      "print two_decimals"
     ],
     "language": "python",
     "metadata": {},
     "outputs": [
      {
       "output_type": "stream",
       "stream": "stdout",
       "text": [
        "[[ 0.    0.01  0.02  0.03  0.04  0.05  0.06  0.07]\n",
        " [ 0.08  0.09  0.1   0.11  0.12  0.13  0.14  0.15]\n",
        " [ 0.16  0.17  0.18  0.19  0.2   0.21  0.22  0.23]\n",
        " [ 0.24  0.25  0.26  0.27  0.28  0.29  0.3   0.31]\n",
        " [ 0.32  0.33  0.34  0.35  0.36  0.37  0.38  0.39]]\n"
       ]
      }
     ],
     "prompt_number": 36
    },
    {
     "cell_type": "heading",
     "level": 1,
     "metadata": {},
     "source": [
      "Linear algebra"
     ]
    },
    {
     "cell_type": "markdown",
     "metadata": {},
     "source": [
      "Finally, just to clean up temporary files..."
     ]
    },
    {
     "cell_type": "code",
     "collapsed": false,
     "input": [
      "!rm my_array.npy three_arrays.npz two_decimals.csv two_decimals_header.csv"
     ],
     "language": "python",
     "metadata": {},
     "outputs": [],
     "prompt_number": 37
    }
   ],
   "metadata": {}
  }
 ]
}