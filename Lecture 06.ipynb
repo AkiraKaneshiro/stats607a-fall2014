{
 "metadata": {
  "name": "",
  "signature": "sha256:b96c25467a4646e91d86989720a037534fa7e7ba5501462400406435c3149bdc"
 },
 "nbformat": 3,
 "nbformat_minor": 0,
 "worksheets": [
  {
   "cells": [
    {
     "cell_type": "markdown",
     "metadata": {},
     "source": [
      "Today we'll cover:\n",
      "\n",
      "1. [Array input and output](#Array-input-and-output)\n",
      "2. [Linear algebra](#Linear-algebra)\n",
      "3. "
     ]
    },
    {
     "cell_type": "heading",
     "level": 1,
     "metadata": {},
     "source": [
      "Array input and output"
     ]
    },
    {
     "cell_type": "markdown",
     "metadata": {},
     "source": [
      "Sometimes you want store your arrays on disk for reading them later. `numpy.save` and `numpy.load` are the basic functions for doing that."
     ]
    },
    {
     "cell_type": "code",
     "collapsed": false,
     "input": [
      "import numpy as np"
     ],
     "language": "python",
     "metadata": {},
     "outputs": [],
     "prompt_number": 1
    },
    {
     "cell_type": "code",
     "collapsed": false,
     "input": [
      "array2d = np.array([[1, 2], [3, 4]]); print array2d"
     ],
     "language": "python",
     "metadata": {},
     "outputs": [
      {
       "output_type": "stream",
       "stream": "stdout",
       "text": [
        "[[1 2]\n",
        " [3 4]]\n"
       ]
      }
     ],
     "prompt_number": 2
    },
    {
     "cell_type": "code",
     "collapsed": false,
     "input": [
      "np.save('my_array', array2d)  # stores the array on disk as my_array.npy (the extension .npy is added if not provided)"
     ],
     "language": "python",
     "metadata": {},
     "outputs": [],
     "prompt_number": 3
    },
    {
     "cell_type": "code",
     "collapsed": false,
     "input": [
      "from glob import glob  # python module for finding files whose names match a pattern"
     ],
     "language": "python",
     "metadata": {},
     "outputs": [],
     "prompt_number": 4
    },
    {
     "cell_type": "code",
     "collapsed": false,
     "input": [
      "glob('*.npy')  # find all files in the current directory with extension .npy"
     ],
     "language": "python",
     "metadata": {},
     "outputs": [
      {
       "metadata": {},
       "output_type": "pyout",
       "prompt_number": 5,
       "text": [
        "['my_array.npy']"
       ]
      }
     ],
     "prompt_number": 5
    },
    {
     "cell_type": "code",
     "collapsed": false,
     "input": [
      "del array2d  # del is a built-in Python function that deletes the binding of a name to an object"
     ],
     "language": "python",
     "metadata": {},
     "outputs": [],
     "prompt_number": 6
    },
    {
     "cell_type": "code",
     "collapsed": false,
     "input": [
      "print array2d  # now raises an error since we deleted the name array2d"
     ],
     "language": "python",
     "metadata": {},
     "outputs": [
      {
       "ename": "NameError",
       "evalue": "name 'array2d' is not defined",
       "output_type": "pyerr",
       "traceback": [
        "\u001b[0;31m---------------------------------------------------------------------------\u001b[0m\n\u001b[0;31mNameError\u001b[0m                                 Traceback (most recent call last)",
        "\u001b[0;32m<ipython-input-7-2f9feb4af104>\u001b[0m in \u001b[0;36m<module>\u001b[0;34m()\u001b[0m\n\u001b[0;32m----> 1\u001b[0;31m \u001b[0;32mprint\u001b[0m \u001b[0marray2d\u001b[0m  \u001b[0;31m# now raises an error since we deleted the name array2d\u001b[0m\u001b[0;34m\u001b[0m\u001b[0m\n\u001b[0m",
        "\u001b[0;31mNameError\u001b[0m: name 'array2d' is not defined"
       ]
      }
     ],
     "prompt_number": 7
    },
    {
     "cell_type": "code",
     "collapsed": false,
     "input": [
      "array2d = np.load('my_array.npy')  # need to supply the extension .npy when using np.load"
     ],
     "language": "python",
     "metadata": {},
     "outputs": [],
     "prompt_number": 8
    },
    {
     "cell_type": "code",
     "collapsed": false,
     "input": [
      "print array2d"
     ],
     "language": "python",
     "metadata": {},
     "outputs": [
      {
       "output_type": "stream",
       "stream": "stdout",
       "text": [
        "[[1 2]\n",
        " [3 4]]\n"
       ]
      }
     ],
     "prompt_number": 9
    },
    {
     "cell_type": "markdown",
     "metadata": {},
     "source": [
      "You can also save multiple arrays via `numpy.savez` and later load them via `numpy.load`."
     ]
    },
    {
     "cell_type": "code",
     "collapsed": false,
     "input": [
      "random_2d = np.random.random((3, 4)); print random_2d  # 10 random values drawn uniformly from [0,1)"
     ],
     "language": "python",
     "metadata": {},
     "outputs": [
      {
       "output_type": "stream",
       "stream": "stdout",
       "text": [
        "[[ 0.21026372  0.57275308  0.07633618  0.10279994]\n",
        " [ 0.23496327  0.38298664  0.32917718  0.32935169]\n",
        " [ 0.23692899  0.37127205  0.00894672  0.00273837]]\n"
       ]
      }
     ],
     "prompt_number": 10
    },
    {
     "cell_type": "code",
     "collapsed": false,
     "input": [
      "log_2d = np.log(random_2d); print log_2d"
     ],
     "language": "python",
     "metadata": {},
     "outputs": [
      {
       "output_type": "stream",
       "stream": "stdout",
       "text": [
        "[[-1.55939271 -0.55730059 -2.57260824 -2.27497051]\n",
        " [-1.44832609 -0.95975516 -1.11115913 -1.11062912]\n",
        " [-1.4399948  -0.99082019 -4.71646836 -5.9003934 ]]\n"
       ]
      }
     ],
     "prompt_number": 11
    },
    {
     "cell_type": "code",
     "collapsed": false,
     "input": [
      "exp_2d = np.exp(random_2d); print exp_2d"
     ],
     "language": "python",
     "metadata": {},
     "outputs": [
      {
       "output_type": "stream",
       "stream": "stdout",
       "text": [
        "[[ 1.23400345  1.77314193  1.07932536  1.10826967]\n",
        " [ 1.26486231  1.46665844  1.38982408  1.39006665]\n",
        " [ 1.26735112  1.44957738  1.00898686  1.00274212]]\n"
       ]
      }
     ],
     "prompt_number": 12
    },
    {
     "cell_type": "markdown",
     "metadata": {},
     "source": [
      "Now let us save the last three arrays we created into a file."
     ]
    },
    {
     "cell_type": "code",
     "collapsed": false,
     "input": [
      "np.savez('three_arrays', random_2d, log_2d, exp_2d)  # An .npz extension is supplied if not already given"
     ],
     "language": "python",
     "metadata": {},
     "outputs": [],
     "prompt_number": 13
    },
    {
     "cell_type": "code",
     "collapsed": false,
     "input": [
      "loaded_arrays = np.load('three_arrays.npz')   # we can now use loaded_arrays as a dictionary mapping array names to arrays"
     ],
     "language": "python",
     "metadata": {},
     "outputs": [],
     "prompt_number": 14
    },
    {
     "cell_type": "code",
     "collapsed": false,
     "input": [
      "print loaded_arrays['arr_0']  # the first stored array has the key 'arr_0'"
     ],
     "language": "python",
     "metadata": {},
     "outputs": [
      {
       "output_type": "stream",
       "stream": "stdout",
       "text": [
        "[[ 0.21026372  0.57275308  0.07633618  0.10279994]\n",
        " [ 0.23496327  0.38298664  0.32917718  0.32935169]\n",
        " [ 0.23692899  0.37127205  0.00894672  0.00273837]]\n"
       ]
      }
     ],
     "prompt_number": 15
    },
    {
     "cell_type": "code",
     "collapsed": false,
     "input": [
      "print loaded_arrays['arr_1']"
     ],
     "language": "python",
     "metadata": {},
     "outputs": [
      {
       "output_type": "stream",
       "stream": "stdout",
       "text": [
        "[[-1.55939271 -0.55730059 -2.57260824 -2.27497051]\n",
        " [-1.44832609 -0.95975516 -1.11115913 -1.11062912]\n",
        " [-1.4399948  -0.99082019 -4.71646836 -5.9003934 ]]\n"
       ]
      }
     ],
     "prompt_number": 16
    },
    {
     "cell_type": "code",
     "collapsed": false,
     "input": [
      "print loaded_arrays['arr_2']"
     ],
     "language": "python",
     "metadata": {},
     "outputs": [
      {
       "output_type": "stream",
       "stream": "stdout",
       "text": [
        "[[ 1.23400345  1.77314193  1.07932536  1.10826967]\n",
        " [ 1.26486231  1.46665844  1.38982408  1.39006665]\n",
        " [ 1.26735112  1.44957738  1.00898686  1.00274212]]\n"
       ]
      }
     ],
     "prompt_number": 17
    },
    {
     "cell_type": "markdown",
     "metadata": {},
     "source": [
      "If you want to save the arrays using meaningful names then use keyword arguments in `numpy.savez`."
     ]
    },
    {
     "cell_type": "code",
     "collapsed": false,
     "input": [
      "np.savez('three_arrays', random=random_2d, logs=log_2d, exps=exp_2d)"
     ],
     "language": "python",
     "metadata": {},
     "outputs": [],
     "prompt_number": 18
    },
    {
     "cell_type": "code",
     "collapsed": false,
     "input": [
      "loaded_arrays = np.load('three_arrays.npz')"
     ],
     "language": "python",
     "metadata": {},
     "outputs": [],
     "prompt_number": 19
    },
    {
     "cell_type": "code",
     "collapsed": false,
     "input": [
      "for key in loaded_arrays.keys():\n",
      "    print \"loaded_array['\" + key + \"'] is the following:\"\n",
      "    print loaded_arrays[key]"
     ],
     "language": "python",
     "metadata": {},
     "outputs": [
      {
       "output_type": "stream",
       "stream": "stdout",
       "text": [
        "loaded_array['exps'] is the following:\n",
        "[[ 1.23400345  1.77314193  1.07932536  1.10826967]\n",
        " [ 1.26486231  1.46665844  1.38982408  1.39006665]\n",
        " [ 1.26735112  1.44957738  1.00898686  1.00274212]]\n",
        "loaded_array['random'] is the following:\n",
        "[[ 0.21026372  0.57275308  0.07633618  0.10279994]\n",
        " [ 0.23496327  0.38298664  0.32917718  0.32935169]\n",
        " [ 0.23692899  0.37127205  0.00894672  0.00273837]]\n",
        "loaded_array['logs'] is the following:\n",
        "[[-1.55939271 -0.55730059 -2.57260824 -2.27497051]\n",
        " [-1.44832609 -0.95975516 -1.11115913 -1.11062912]\n",
        " [-1.4399948  -0.99082019 -4.71646836 -5.9003934 ]]\n"
       ]
      }
     ],
     "prompt_number": 20
    },
    {
     "cell_type": "heading",
     "level": 1,
     "metadata": {},
     "source": [
      "Linear Algebra"
     ]
    }
   ],
   "metadata": {}
  }
 ]
}