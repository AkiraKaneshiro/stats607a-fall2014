{
 "metadata": {
  "name": "",
  "signature": "sha256:93e29aa4b41a0fd1163bfb1c5300533f03a7ccdf5f3c3dd43d4b8b984a6e6145"
 },
 "nbformat": 3,
 "nbformat_minor": 0,
 "worksheets": [
  {
   "cells": [
    {
     "cell_type": "markdown",
     "metadata": {},
     "source": [
      "Today we'll cover:\n",
      "\n",
      "1. [Array input and output](#Array-input-and-output)\n",
      "2. [Linear algebra](#Linear-algebra)"
     ]
    },
    {
     "cell_type": "heading",
     "level": 1,
     "metadata": {},
     "source": [
      "Array input and output"
     ]
    },
    {
     "cell_type": "markdown",
     "metadata": {},
     "source": [
      "Sometimes you want store your arrays on disk for reading them later. `numpy.save` and `numpy.load` are the basic functions for doing that."
     ]
    },
    {
     "cell_type": "code",
     "collapsed": false,
     "input": [
      "import numpy as np"
     ],
     "language": "python",
     "metadata": {},
     "outputs": [],
     "prompt_number": 1
    },
    {
     "cell_type": "code",
     "collapsed": false,
     "input": [
      "array2d = np.array([[1, 2], [3, 4]]); print array2d"
     ],
     "language": "python",
     "metadata": {},
     "outputs": [
      {
       "output_type": "stream",
       "stream": "stdout",
       "text": [
        "[[1 2]\n",
        " [3 4]]\n"
       ]
      }
     ],
     "prompt_number": 2
    },
    {
     "cell_type": "code",
     "collapsed": false,
     "input": [
      "np.save('my_array', array2d)  # stores the array on disk as my_array.npy (the extension .npy is added if not provided)"
     ],
     "language": "python",
     "metadata": {},
     "outputs": [],
     "prompt_number": 3
    },
    {
     "cell_type": "code",
     "collapsed": false,
     "input": [
      "from glob import glob  # python module for finding files whose names match a pattern"
     ],
     "language": "python",
     "metadata": {},
     "outputs": [],
     "prompt_number": 4
    },
    {
     "cell_type": "code",
     "collapsed": false,
     "input": [
      "glob('*.npy')  # find all files in the current directory with extension .npy"
     ],
     "language": "python",
     "metadata": {},
     "outputs": [
      {
       "metadata": {},
       "output_type": "pyout",
       "prompt_number": 5,
       "text": [
        "['my_array.npy']"
       ]
      }
     ],
     "prompt_number": 5
    },
    {
     "cell_type": "code",
     "collapsed": false,
     "input": [
      "del array2d  # del is a built-in Python function that deletes the binding of a name to an object"
     ],
     "language": "python",
     "metadata": {},
     "outputs": [],
     "prompt_number": 6
    },
    {
     "cell_type": "code",
     "collapsed": false,
     "input": [
      "print array2d  # now raises an error since we deleted the name array2d"
     ],
     "language": "python",
     "metadata": {},
     "outputs": [
      {
       "ename": "NameError",
       "evalue": "name 'array2d' is not defined",
       "output_type": "pyerr",
       "traceback": [
        "\u001b[0;31m---------------------------------------------------------------------------\u001b[0m\n\u001b[0;31mNameError\u001b[0m                                 Traceback (most recent call last)",
        "\u001b[0;32m<ipython-input-7-2f9feb4af104>\u001b[0m in \u001b[0;36m<module>\u001b[0;34m()\u001b[0m\n\u001b[0;32m----> 1\u001b[0;31m \u001b[0;32mprint\u001b[0m \u001b[0marray2d\u001b[0m  \u001b[0;31m# now raises an error since we deleted the name array2d\u001b[0m\u001b[0;34m\u001b[0m\u001b[0m\n\u001b[0m",
        "\u001b[0;31mNameError\u001b[0m: name 'array2d' is not defined"
       ]
      }
     ],
     "prompt_number": 7
    },
    {
     "cell_type": "code",
     "collapsed": false,
     "input": [
      "array2d = np.load('my_array.npy')  # need to supply the extension .npy when using np.load"
     ],
     "language": "python",
     "metadata": {},
     "outputs": []
    },
    {
     "cell_type": "code",
     "collapsed": false,
     "input": [
      "print array2d"
     ],
     "language": "python",
     "metadata": {},
     "outputs": [
      {
       "ename": "NameError",
       "evalue": "name 'array2d' is not defined",
       "output_type": "pyerr",
       "traceback": [
        "\u001b[0;31m---------------------------------------------------------------------------\u001b[0m\n\u001b[0;31mNameError\u001b[0m                                 Traceback (most recent call last)",
        "\u001b[0;32m<ipython-input-8-47f034001372>\u001b[0m in \u001b[0;36m<module>\u001b[0;34m()\u001b[0m\n\u001b[0;32m----> 1\u001b[0;31m \u001b[0;32mprint\u001b[0m \u001b[0marray2d\u001b[0m\u001b[0;34m\u001b[0m\u001b[0m\n\u001b[0m",
        "\u001b[0;31mNameError\u001b[0m: name 'array2d' is not defined"
       ]
      }
     ],
     "prompt_number": 8
    },
    {
     "cell_type": "markdown",
     "metadata": {},
     "source": [
      "You can also save multiple arrays via `numpy.savez` and later load them via `numpy.load`."
     ]
    },
    {
     "cell_type": "code",
     "collapsed": false,
     "input": [
      "random_2d = np.random.random((3, 4)); print random_2d  # 10 random values drawn uniformly from [0,1)"
     ],
     "language": "python",
     "metadata": {},
     "outputs": [
      {
       "output_type": "stream",
       "stream": "stdout",
       "text": [
        "[[ 0.38534877  0.30836626  0.92164496  0.13258203]\n",
        " [ 0.95818087  0.94105766  0.32259512  0.61202507]\n",
        " [ 0.54751545  0.95517969  0.58742975  0.84460999]]\n"
       ]
      }
     ],
     "prompt_number": 9
    },
    {
     "cell_type": "code",
     "collapsed": false,
     "input": [
      "log_2d = np.log(random_2d); print log_2d"
     ],
     "language": "python",
     "metadata": {},
     "outputs": [
      {
       "output_type": "stream",
       "stream": "stdout",
       "text": [
        "[[-0.95360647 -1.17646705 -0.08159521 -2.0205537 ]\n",
        " [-0.04271872 -0.06075086 -1.13135724 -0.49098204]\n",
        " [-0.60236461 -0.0458558  -0.53199861 -0.16888031]]\n"
       ]
      }
     ],
     "prompt_number": 10
    },
    {
     "cell_type": "code",
     "collapsed": false,
     "input": [
      "exp_2d = np.exp(random_2d); print exp_2d"
     ],
     "language": "python",
     "metadata": {},
     "outputs": [
      {
       "output_type": "stream",
       "stream": "stdout",
       "text": [
        "[[ 1.47012696  1.36119945  2.51342146  1.14177268]\n",
        " [ 2.60694976  2.56269045  1.38070622  1.84416217]\n",
        " [ 1.728952    2.59913758  1.79935767  2.32707006]]\n"
       ]
      }
     ],
     "prompt_number": 11
    },
    {
     "cell_type": "markdown",
     "metadata": {},
     "source": [
      "Now let us save the last three arrays we created into a file."
     ]
    },
    {
     "cell_type": "code",
     "collapsed": false,
     "input": [
      "np.savez('three_arrays', random_2d, log_2d, exp_2d)  # An .npz extension is supplied if not already given"
     ],
     "language": "python",
     "metadata": {},
     "outputs": [],
     "prompt_number": 12
    },
    {
     "cell_type": "code",
     "collapsed": false,
     "input": [
      "loaded_arrays = np.load('three_arrays.npz')   # for .npz files, np.load returns a dictionary-like object"
     ],
     "language": "python",
     "metadata": {},
     "outputs": [],
     "prompt_number": 13
    },
    {
     "cell_type": "code",
     "collapsed": false,
     "input": [
      "print loaded_arrays['arr_0']  # the first stored array can be accesses via the key 'arr_0'"
     ],
     "language": "python",
     "metadata": {},
     "outputs": [
      {
       "output_type": "stream",
       "stream": "stdout",
       "text": [
        "[[ 0.38534877  0.30836626  0.92164496  0.13258203]\n",
        " [ 0.95818087  0.94105766  0.32259512  0.61202507]\n",
        " [ 0.54751545  0.95517969  0.58742975  0.84460999]]\n"
       ]
      }
     ],
     "prompt_number": 14
    },
    {
     "cell_type": "code",
     "collapsed": false,
     "input": [
      "print loaded_arrays['arr_1']  # the second stored array can be accessed via the key 'arr_1' (and so on ...)"
     ],
     "language": "python",
     "metadata": {},
     "outputs": [
      {
       "output_type": "stream",
       "stream": "stdout",
       "text": [
        "[[-0.95360647 -1.17646705 -0.08159521 -2.0205537 ]\n",
        " [-0.04271872 -0.06075086 -1.13135724 -0.49098204]\n",
        " [-0.60236461 -0.0458558  -0.53199861 -0.16888031]]\n"
       ]
      }
     ],
     "prompt_number": 15
    },
    {
     "cell_type": "code",
     "collapsed": false,
     "input": [
      "print loaded_arrays['arr_2']"
     ],
     "language": "python",
     "metadata": {},
     "outputs": [
      {
       "output_type": "stream",
       "stream": "stdout",
       "text": [
        "[[ 1.47012696  1.36119945  2.51342146  1.14177268]\n",
        " [ 2.60694976  2.56269045  1.38070622  1.84416217]\n",
        " [ 1.728952    2.59913758  1.79935767  2.32707006]]\n"
       ]
      }
     ],
     "prompt_number": 16
    },
    {
     "cell_type": "markdown",
     "metadata": {},
     "source": [
      "If you want to save the arrays using meaningful names then use keyword arguments in `numpy.savez`."
     ]
    },
    {
     "cell_type": "code",
     "collapsed": false,
     "input": [
      "np.savez('three_arrays', random=random_2d, logs=log_2d, exps=exp_2d)"
     ],
     "language": "python",
     "metadata": {},
     "outputs": [],
     "prompt_number": 17
    },
    {
     "cell_type": "code",
     "collapsed": false,
     "input": [
      "loaded_arrays = np.load('three_arrays.npz')"
     ],
     "language": "python",
     "metadata": {},
     "outputs": [],
     "prompt_number": 18
    },
    {
     "cell_type": "code",
     "collapsed": false,
     "input": [
      "for key in loaded_arrays.keys():\n",
      "    print \"loaded_arrays['\" + key + \"'] is the following:\"\n",
      "    print loaded_arrays[key]"
     ],
     "language": "python",
     "metadata": {},
     "outputs": [
      {
       "output_type": "stream",
       "stream": "stdout",
       "text": [
        "loaded_arrays['exps'] is the following:\n",
        "[[ 1.47012696  1.36119945  2.51342146  1.14177268]\n",
        " [ 2.60694976  2.56269045  1.38070622  1.84416217]\n",
        " [ 1.728952    2.59913758  1.79935767  2.32707006]]\n",
        "loaded_arrays['random'] is the following:\n",
        "[[ 0.38534877  0.30836626  0.92164496  0.13258203]\n",
        " [ 0.95818087  0.94105766  0.32259512  0.61202507]\n",
        " [ 0.54751545  0.95517969  0.58742975  0.84460999]]\n",
        "loaded_arrays['logs'] is the following:\n",
        "[[-0.95360647 -1.17646705 -0.08159521 -2.0205537 ]\n",
        " [-0.04271872 -0.06075086 -1.13135724 -0.49098204]\n",
        " [-0.60236461 -0.0458558  -0.53199861 -0.16888031]]\n"
       ]
      }
     ],
     "prompt_number": 19
    },
    {
     "cell_type": "markdown",
     "metadata": {},
     "source": [
      "When dealing with data destinations or sources outside of Python, the ability to save and load text files is useful. The functions `numpy.savetxt` and `numpy.loadtxt` offer basic functionality for doing that."
     ]
    },
    {
     "cell_type": "code",
     "collapsed": false,
     "input": [
      "two_decimals = np.arange(0, .4, .01).reshape((5, 8)); print two_decimals "
     ],
     "language": "python",
     "metadata": {},
     "outputs": [
      {
       "output_type": "stream",
       "stream": "stdout",
       "text": [
        "[[ 0.    0.01  0.02  0.03  0.04  0.05  0.06  0.07]\n",
        " [ 0.08  0.09  0.1   0.11  0.12  0.13  0.14  0.15]\n",
        " [ 0.16  0.17  0.18  0.19  0.2   0.21  0.22  0.23]\n",
        " [ 0.24  0.25  0.26  0.27  0.28  0.29  0.3   0.31]\n",
        " [ 0.32  0.33  0.34  0.35  0.36  0.37  0.38  0.39]]\n"
       ]
      }
     ],
     "prompt_number": 20
    },
    {
     "cell_type": "code",
     "collapsed": false,
     "input": [
      "np.savetxt('two_decimals.csv', two_decimals, delimiter=',')  # default delimiter is space"
     ],
     "language": "python",
     "metadata": {},
     "outputs": [],
     "prompt_number": 21
    },
    {
     "cell_type": "markdown",
     "metadata": {},
     "source": [
      "In IPython (the enhanced interactive Python environment used to create this notebook), commands starting with an exclamation mark (!) are possed on to the shell for execution and the resulting output is shown. Do not use this in your python scripts meant to be run using the standard Python interpreter! Python will flag a syntax error for lines that start with an exclamation mark."
     ]
    },
    {
     "cell_type": "code",
     "collapsed": false,
     "input": [
      "!cat two_decimals.csv  # we did create a file with comma separated values but the float representation is too long"
     ],
     "language": "python",
     "metadata": {},
     "outputs": [
      {
       "output_type": "stream",
       "stream": "stdout",
       "text": [
        "0.000000000000000000e+00,1.000000000000000021e-02,2.000000000000000042e-02,2.999999999999999889e-02,4.000000000000000083e-02,5.000000000000000278e-02,5.999999999999999778e-02,7.000000000000000666e-02\r\n",
        "8.000000000000000167e-02,8.999999999999999667e-02,1.000000000000000056e-01,1.100000000000000006e-01,1.199999999999999956e-01,1.300000000000000044e-01,1.400000000000000133e-01,1.499999999999999944e-01\r\n",
        "1.600000000000000033e-01,1.700000000000000122e-01,1.799999999999999933e-01,1.900000000000000022e-01,2.000000000000000111e-01,2.099999999999999922e-01,2.200000000000000011e-01,2.300000000000000100e-01\r\n",
        "2.399999999999999911e-01,2.500000000000000000e-01,2.600000000000000089e-01,2.700000000000000178e-01,2.800000000000000266e-01,2.899999999999999800e-01,2.999999999999999889e-01,3.099999999999999978e-01\r\n",
        "3.200000000000000067e-01,3.300000000000000155e-01,3.400000000000000244e-01,3.500000000000000333e-01,3.599999999999999867e-01,3.699999999999999956e-01,3.800000000000000044e-01,3.900000000000000133e-01\r\n"
       ]
      }
     ],
     "prompt_number": 22
    },
    {
     "cell_type": "code",
     "collapsed": false,
     "input": [
      "np.savetxt('two_decimals.csv', two_decimals, fmt='%.2f', delimiter=',')  # we'll now use a better format string"
     ],
     "language": "python",
     "metadata": {},
     "outputs": [],
     "prompt_number": 23
    },
    {
     "cell_type": "code",
     "collapsed": false,
     "input": [
      "!cat two_decimals.csv"
     ],
     "language": "python",
     "metadata": {},
     "outputs": [
      {
       "output_type": "stream",
       "stream": "stdout",
       "text": [
        "0.00,0.01,0.02,0.03,0.04,0.05,0.06,0.07\r\n",
        "0.08,0.09,0.10,0.11,0.12,0.13,0.14,0.15\r\n",
        "0.16,0.17,0.18,0.19,0.20,0.21,0.22,0.23\r\n",
        "0.24,0.25,0.26,0.27,0.28,0.29,0.30,0.31\r\n",
        "0.32,0.33,0.34,0.35,0.36,0.37,0.38,0.39\r\n"
       ]
      }
     ],
     "prompt_number": 24
    },
    {
     "cell_type": "markdown",
     "metadata": {},
     "source": [
      "Let us now delete the local variable `two_decimals` and then load the csv file."
     ]
    },
    {
     "cell_type": "code",
     "collapsed": false,
     "input": [
      "del two_decimals"
     ],
     "language": "python",
     "metadata": {},
     "outputs": [],
     "prompt_number": 25
    },
    {
     "cell_type": "code",
     "collapsed": false,
     "input": [
      "two_decimals = np.loadtxt('two_decimals.csv', delimiter=','); print two_decimals"
     ],
     "language": "python",
     "metadata": {},
     "outputs": [
      {
       "output_type": "stream",
       "stream": "stdout",
       "text": [
        "[[ 0.    0.01  0.02  0.03  0.04  0.05  0.06  0.07]\n",
        " [ 0.08  0.09  0.1   0.11  0.12  0.13  0.14  0.15]\n",
        " [ 0.16  0.17  0.18  0.19  0.2   0.21  0.22  0.23]\n",
        " [ 0.24  0.25  0.26  0.27  0.28  0.29  0.3   0.31]\n",
        " [ 0.32  0.33  0.34  0.35  0.36  0.37  0.38  0.39]]\n"
       ]
      }
     ],
     "prompt_number": 26
    },
    {
     "cell_type": "markdown",
     "metadata": {},
     "source": [
      "Let us now add a header line to two_decimals.csv"
     ]
    },
    {
     "cell_type": "code",
     "collapsed": false,
     "input": [
      "!echo \"This is a header.\" > header"
     ],
     "language": "python",
     "metadata": {},
     "outputs": [],
     "prompt_number": 27
    },
    {
     "cell_type": "code",
     "collapsed": false,
     "input": [
      "!cat header two_decimals.csv > two_decimals_header.csv"
     ],
     "language": "python",
     "metadata": {},
     "outputs": [],
     "prompt_number": 28
    },
    {
     "cell_type": "code",
     "collapsed": false,
     "input": [
      "!cat two_decimals_header.csv"
     ],
     "language": "python",
     "metadata": {},
     "outputs": [
      {
       "output_type": "stream",
       "stream": "stdout",
       "text": [
        "This is a header.\r\n",
        "0.00,0.01,0.02,0.03,0.04,0.05,0.06,0.07\r\n",
        "0.08,0.09,0.10,0.11,0.12,0.13,0.14,0.15\r\n",
        "0.16,0.17,0.18,0.19,0.20,0.21,0.22,0.23\r\n",
        "0.24,0.25,0.26,0.27,0.28,0.29,0.30,0.31\r\n",
        "0.32,0.33,0.34,0.35,0.36,0.37,0.38,0.39\r\n"
       ]
      }
     ],
     "prompt_number": 29
    },
    {
     "cell_type": "code",
     "collapsed": false,
     "input": [
      "two_decimals = np.loadtxt('two_decimals_header.csv', delimiter=',', skiprows=1)  # skip the first row"
     ],
     "language": "python",
     "metadata": {},
     "outputs": [],
     "prompt_number": 30
    },
    {
     "cell_type": "code",
     "collapsed": false,
     "input": [
      "print two_decimals"
     ],
     "language": "python",
     "metadata": {},
     "outputs": [
      {
       "output_type": "stream",
       "stream": "stdout",
       "text": [
        "[[ 0.    0.01  0.02  0.03  0.04  0.05  0.06  0.07]\n",
        " [ 0.08  0.09  0.1   0.11  0.12  0.13  0.14  0.15]\n",
        " [ 0.16  0.17  0.18  0.19  0.2   0.21  0.22  0.23]\n",
        " [ 0.24  0.25  0.26  0.27  0.28  0.29  0.3   0.31]\n",
        " [ 0.32  0.33  0.34  0.35  0.36  0.37  0.38  0.39]]\n"
       ]
      }
     ],
     "prompt_number": 31
    },
    {
     "cell_type": "code",
     "collapsed": false,
     "input": [
      "!echo \"# This is a comment.\" >> two_decimals_header.csv"
     ],
     "language": "python",
     "metadata": {},
     "outputs": [],
     "prompt_number": 32
    },
    {
     "cell_type": "code",
     "collapsed": false,
     "input": [
      "!cat two_decimals_header.csv"
     ],
     "language": "python",
     "metadata": {},
     "outputs": [
      {
       "output_type": "stream",
       "stream": "stdout",
       "text": [
        "This is a header.\r\n",
        "0.00,0.01,0.02,0.03,0.04,0.05,0.06,0.07\r\n",
        "0.08,0.09,0.10,0.11,0.12,0.13,0.14,0.15\r\n",
        "0.16,0.17,0.18,0.19,0.20,0.21,0.22,0.23\r\n",
        "0.24,0.25,0.26,0.27,0.28,0.29,0.30,0.31\r\n",
        "0.32,0.33,0.34,0.35,0.36,0.37,0.38,0.39\r\n",
        "# This is a comment.\r\n"
       ]
      }
     ],
     "prompt_number": 33
    },
    {
     "cell_type": "code",
     "collapsed": false,
     "input": [
      "two_decimals = np.loadtxt('two_decimals_header.csv', delimiter=',', skiprows=1)  # np.loadtxt will automatically skip comments"
     ],
     "language": "python",
     "metadata": {},
     "outputs": [],
     "prompt_number": 34
    },
    {
     "cell_type": "code",
     "collapsed": false,
     "input": [
      "print two_decimals"
     ],
     "language": "python",
     "metadata": {},
     "outputs": [
      {
       "output_type": "stream",
       "stream": "stdout",
       "text": [
        "[[ 0.    0.01  0.02  0.03  0.04  0.05  0.06  0.07]\n",
        " [ 0.08  0.09  0.1   0.11  0.12  0.13  0.14  0.15]\n",
        " [ 0.16  0.17  0.18  0.19  0.2   0.21  0.22  0.23]\n",
        " [ 0.24  0.25  0.26  0.27  0.28  0.29  0.3   0.31]\n",
        " [ 0.32  0.33  0.34  0.35  0.36  0.37  0.38  0.39]]\n"
       ]
      }
     ],
     "prompt_number": 35
    },
    {
     "cell_type": "heading",
     "level": 1,
     "metadata": {},
     "source": [
      "Linear algebra"
     ]
    },
    {
     "cell_type": "markdown",
     "metadata": {},
     "source": [
      "We have already seen one linear algebra method, namely `numpy.dot()` (and the related ndarray method `numpy.ndarray.dot()`). For vectors, it computes inner products. For 2-d arrays, it computes matrix multiplication (we have already seen an example involving 2-d rotation matrices)."
     ]
    },
    {
     "cell_type": "code",
     "collapsed": false,
     "input": [
      "vec1 = np.array([1, 2])"
     ],
     "language": "python",
     "metadata": {},
     "outputs": [],
     "prompt_number": 36
    },
    {
     "cell_type": "code",
     "collapsed": false,
     "input": [
      "vec2 = np.array([3, 4])  # inner product of vec1 and vec2 is 11"
     ],
     "language": "python",
     "metadata": {},
     "outputs": [],
     "prompt_number": 37
    },
    {
     "cell_type": "code",
     "collapsed": false,
     "input": [
      "print np.dot(vec1, vec2)  # compute it using the function np.dot"
     ],
     "language": "python",
     "metadata": {},
     "outputs": [
      {
       "output_type": "stream",
       "stream": "stdout",
       "text": [
        "11\n"
       ]
      }
     ],
     "prompt_number": 38
    },
    {
     "cell_type": "code",
     "collapsed": false,
     "input": [
      "print vec1.dot(vec2)  # compute it using the method dot of ndarray objects"
     ],
     "language": "python",
     "metadata": {},
     "outputs": [
      {
       "output_type": "stream",
       "stream": "stdout",
       "text": [
        "11\n"
       ]
      }
     ],
     "prompt_number": 39
    },
    {
     "cell_type": "code",
     "collapsed": false,
     "input": [
      "my_arr = np.array([[1, 1], [2, 2]]); print my_arr"
     ],
     "language": "python",
     "metadata": {},
     "outputs": [
      {
       "output_type": "stream",
       "stream": "stdout",
       "text": [
        "[[1 1]\n",
        " [2 2]]\n"
       ]
      }
     ],
     "prompt_number": 40
    },
    {
     "cell_type": "code",
     "collapsed": false,
     "input": [
      "vec1.dot(my_arr)  # dot also works for 1-d and 2-d arrays"
     ],
     "language": "python",
     "metadata": {},
     "outputs": [
      {
       "metadata": {},
       "output_type": "pyout",
       "prompt_number": 41,
       "text": [
        "array([5, 5])"
       ]
      }
     ],
     "prompt_number": 41
    },
    {
     "cell_type": "code",
     "collapsed": false,
     "input": [
      "my_arr.dot(vec1)  # of course, the order is important"
     ],
     "language": "python",
     "metadata": {},
     "outputs": [
      {
       "metadata": {},
       "output_type": "pyout",
       "prompt_number": 42,
       "text": [
        "array([3, 6])"
       ]
      }
     ],
     "prompt_number": 42
    },
    {
     "cell_type": "code",
     "collapsed": false,
     "input": [
      "vec1.dot(my_arr.T)  # same as previous"
     ],
     "language": "python",
     "metadata": {},
     "outputs": [
      {
       "metadata": {},
       "output_type": "pyout",
       "prompt_number": 43,
       "text": [
        "array([3, 6])"
       ]
      }
     ],
     "prompt_number": 43
    },
    {
     "cell_type": "markdown",
     "metadata": {},
     "source": [
      "`numpy.inner` is the same as `numpy.dot` for 1-d arrays."
     ]
    },
    {
     "cell_type": "code",
     "collapsed": false,
     "input": [
      "np.inner(vec1, vec2)"
     ],
     "language": "python",
     "metadata": {},
     "outputs": [
      {
       "metadata": {},
       "output_type": "pyout",
       "prompt_number": 44,
       "text": [
        "11"
       ]
      }
     ],
     "prompt_number": 44
    },
    {
     "cell_type": "markdown",
     "metadata": {},
     "source": [
      "We can also compute the outer product via `numpy.outer`."
     ]
    },
    {
     "cell_type": "code",
     "collapsed": false,
     "input": [
      "np.outer(vec1, vec2)"
     ],
     "language": "python",
     "metadata": {},
     "outputs": [
      {
       "metadata": {},
       "output_type": "pyout",
       "prompt_number": 45,
       "text": [
        "array([[3, 4],\n",
        "       [6, 8]])"
       ]
      }
     ],
     "prompt_number": 45
    },
    {
     "cell_type": "code",
     "collapsed": false,
     "input": [
      "my_arr = np.column_stack((vec1, vec2)); print my_arr"
     ],
     "language": "python",
     "metadata": {},
     "outputs": [
      {
       "output_type": "stream",
       "stream": "stdout",
       "text": [
        "[[1 3]\n",
        " [2 4]]\n"
       ]
      }
     ],
     "prompt_number": 46
    },
    {
     "cell_type": "code",
     "collapsed": false,
     "input": [
      "np.kron(my_arr, np.ones((2, 2)))  # 2nd array scaled by entries of first (Kronecker product)"
     ],
     "language": "python",
     "metadata": {},
     "outputs": [
      {
       "metadata": {},
       "output_type": "pyout",
       "prompt_number": 47,
       "text": [
        "array([[ 1.,  1.,  3.,  3.],\n",
        "       [ 1.,  1.,  3.,  3.],\n",
        "       [ 2.,  2.,  4.,  4.],\n",
        "       [ 2.,  2.,  4.,  4.]])"
       ]
      }
     ],
     "prompt_number": 47
    },
    {
     "cell_type": "code",
     "collapsed": false,
     "input": [
      "from numpy import linalg as LA  # import the linear algebra subpackage of numpy"
     ],
     "language": "python",
     "metadata": {},
     "outputs": [],
     "prompt_number": 48
    },
    {
     "cell_type": "code",
     "collapsed": false,
     "input": [
      "right_shift = np.array([[0, 0, 1], [1, 0, 0], [0, 1, 0]]); print right_shift"
     ],
     "language": "python",
     "metadata": {},
     "outputs": [
      {
       "output_type": "stream",
       "stream": "stdout",
       "text": [
        "[[0 0 1]\n",
        " [1 0 0]\n",
        " [0 1 0]]\n"
       ]
      }
     ],
     "prompt_number": 49
    },
    {
     "cell_type": "code",
     "collapsed": false,
     "input": [
      "print right_shift.dot(np.arange(3))  # [0 1 2] should becomes [2 0 1]"
     ],
     "language": "python",
     "metadata": {},
     "outputs": [
      {
       "output_type": "stream",
       "stream": "stdout",
       "text": [
        "[2 0 1]\n"
       ]
      }
     ],
     "prompt_number": 50
    },
    {
     "cell_type": "code",
     "collapsed": false,
     "input": [
      "shift_cubed = LA.matrix_power(right_shift, 3)  # this should be identity"
     ],
     "language": "python",
     "metadata": {},
     "outputs": [],
     "prompt_number": 51
    },
    {
     "cell_type": "code",
     "collapsed": false,
     "input": [
      "print shift_cubed"
     ],
     "language": "python",
     "metadata": {},
     "outputs": [
      {
       "output_type": "stream",
       "stream": "stdout",
       "text": [
        "[[1 0 0]\n",
        " [0 1 0]\n",
        " [0 0 1]]\n"
       ]
      }
     ],
     "prompt_number": 52
    },
    {
     "cell_type": "markdown",
     "metadata": {},
     "source": [
      "Let us look at functions for solving linear equations."
     ]
    },
    {
     "cell_type": "code",
     "collapsed": false,
     "input": [
      "gauss_arr = np.random.randn(3, 3); print gauss_arr  # 3 x 3 random matrix"
     ],
     "language": "python",
     "metadata": {},
     "outputs": [
      {
       "output_type": "stream",
       "stream": "stdout",
       "text": [
        "[[-0.97319229  0.2491614  -1.75862904]\n",
        " [-0.9318218   1.09006838  0.86152758]\n",
        " [ 1.18736303  0.14051484  0.19757944]]\n"
       ]
      }
     ],
     "prompt_number": 53
    },
    {
     "cell_type": "code",
     "collapsed": false,
     "input": [
      "gauss_arr_inv = LA.inv(gauss_arr); print gauss_arr_inv  # compute its inverse"
     ],
     "language": "python",
     "metadata": {},
     "outputs": [
      {
       "output_type": "stream",
       "stream": "stdout",
       "text": [
        "[[ 0.03473393 -0.10913271  0.78502575]\n",
        " [ 0.44451642  0.69817516  0.91225241]\n",
        " [-0.52486706  0.15930899 -0.30517119]]\n"
       ]
      }
     ],
     "prompt_number": 54
    },
    {
     "cell_type": "code",
     "collapsed": false,
     "input": [
      "print gauss_arr_inv.dot(gauss_arr) == np.eye(3)  # these should return all True's, right?"
     ],
     "language": "python",
     "metadata": {},
     "outputs": [
      {
       "output_type": "stream",
       "stream": "stdout",
       "text": [
        "[[ True False False]\n",
        " [ True  True False]\n",
        " [False False False]]\n"
       ]
      }
     ],
     "prompt_number": 55
    },
    {
     "cell_type": "code",
     "collapsed": false,
     "input": [
      "print np.allclose(gauss_arr_inv.dot(gauss_arr), np.eye(3))  # check for equality within some tolerance"
     ],
     "language": "python",
     "metadata": {},
     "outputs": [
      {
       "output_type": "stream",
       "stream": "stdout",
       "text": [
        "True\n"
       ]
      }
     ],
     "prompt_number": 56
    },
    {
     "cell_type": "code",
     "collapsed": false,
     "input": [
      "my_vec = np.arange(3); print my_vec"
     ],
     "language": "python",
     "metadata": {},
     "outputs": [
      {
       "output_type": "stream",
       "stream": "stdout",
       "text": [
        "[0 1 2]\n"
       ]
      }
     ],
     "prompt_number": 57
    },
    {
     "cell_type": "code",
     "collapsed": false,
     "input": [
      "A, b = gauss_arr, gauss_arr.dot(my_vec)  # set up a system of linear equations"
     ],
     "language": "python",
     "metadata": {},
     "outputs": [],
     "prompt_number": 58
    },
    {
     "cell_type": "code",
     "collapsed": false,
     "input": [
      "print LA.solve(A, b)  # and solve it"
     ],
     "language": "python",
     "metadata": {},
     "outputs": [
      {
       "output_type": "stream",
       "stream": "stdout",
       "text": [
        "[ -7.01274378e-17   1.00000000e+00   2.00000000e+00]\n"
       ]
      }
     ],
     "prompt_number": 59
    },
    {
     "cell_type": "code",
     "collapsed": false,
     "input": [
      "print np.allclose(my_vec, LA.solve(A, b))  # check if solution is correct"
     ],
     "language": "python",
     "metadata": {},
     "outputs": [
      {
       "output_type": "stream",
       "stream": "stdout",
       "text": [
        "True\n"
       ]
      }
     ],
     "prompt_number": 60
    },
    {
     "cell_type": "code",
     "collapsed": false,
     "input": [
      "print np.allclose(my_vec, LA.inv(A).dot(b))  # of course we could solve via inverse"
     ],
     "language": "python",
     "metadata": {},
     "outputs": [
      {
       "output_type": "stream",
       "stream": "stdout",
       "text": [
        "True\n"
       ]
      }
     ],
     "prompt_number": 61
    },
    {
     "cell_type": "markdown",
     "metadata": {},
     "source": [
      "But computing inverse to solve a system of linear equations is not recommended: it is slower."
     ]
    },
    {
     "cell_type": "code",
     "collapsed": false,
     "input": [
      "import timeit"
     ],
     "language": "python",
     "metadata": {},
     "outputs": [],
     "prompt_number": 62
    },
    {
     "cell_type": "code",
     "collapsed": false,
     "input": [
      "timeit.timeit('numpy.linalg.solve(A, b)',\n",
      "              'import numpy; A = numpy.random.randn(100, 100); b = A.dot(numpy.arange(100))', number=10**4)"
     ],
     "language": "python",
     "metadata": {},
     "outputs": [
      {
       "metadata": {},
       "output_type": "pyout",
       "prompt_number": 63,
       "text": [
        "1.960942029953003"
       ]
      }
     ],
     "prompt_number": 63
    },
    {
     "cell_type": "code",
     "collapsed": false,
     "input": [
      "timeit.timeit('numpy.linalg.inv(A).dot(b)',\n",
      "              'import numpy; A = numpy.random.randn(100, 100); b = A.dot(numpy.arange(100))', number=10**4)"
     ],
     "language": "python",
     "metadata": {},
     "outputs": [
      {
       "metadata": {},
       "output_type": "pyout",
       "prompt_number": 64,
       "text": [
        "2.985205888748169"
       ]
      }
     ],
     "prompt_number": 64
    },
    {
     "cell_type": "code",
     "collapsed": false,
     "input": [
      "beta_star = 1.0 / (np.arange(3) + 1); print beta_star  # choose the parameters in a linear model"
     ],
     "language": "python",
     "metadata": {},
     "outputs": [
      {
       "output_type": "stream",
       "stream": "stdout",
       "text": [
        "[ 1.          0.5         0.33333333]\n"
       ]
      }
     ],
     "prompt_number": 65
    },
    {
     "cell_type": "code",
     "collapsed": false,
     "input": [
      "X = np.random.randn(10, 3)  # covariates are iid gausssians, n = 10"
     ],
     "language": "python",
     "metadata": {},
     "outputs": [],
     "prompt_number": 66
    },
    {
     "cell_type": "code",
     "collapsed": false,
     "input": [
      "y = X.dot(beta_star) + .1*np.random.randn(10); print y  # y = X * beta_star + noise"
     ],
     "language": "python",
     "metadata": {},
     "outputs": [
      {
       "output_type": "stream",
       "stream": "stdout",
       "text": [
        "[-0.90301851  0.53280933 -1.02786057 -1.41995346  0.69601085 -0.95925837\n",
        " -0.41578454  1.4639513   1.02209728  0.41499413]\n"
       ]
      }
     ],
     "prompt_number": 67
    },
    {
     "cell_type": "code",
     "collapsed": false,
     "input": [
      "beta_hat = LA.lstsq(X, y)[0]; print beta_hat  # lstsq returns a 4-tuple first of which is the solution"
     ],
     "language": "python",
     "metadata": {},
     "outputs": [
      {
       "output_type": "stream",
       "stream": "stdout",
       "text": [
        "[ 0.93347115  0.48068666  0.37262143]\n"
       ]
      }
     ],
     "prompt_number": 68
    },
    {
     "cell_type": "markdown",
     "metadata": {},
     "source": [
      "Let us now do a QR decomposition. Recall that the QR decomposition of a matrix $A$ gives two matrices $Q$ and $R$ such that:\n",
      "\n",
      "* $A = QR$\n",
      "* $Q$ is orthogonal ($Q^T Q = I$)\n",
      "* $R$ is upper triangular"
     ]
    },
    {
     "cell_type": "code",
     "collapsed": false,
     "input": [
      "q, r = LA.qr(gauss_arr)"
     ],
     "language": "python",
     "metadata": {},
     "outputs": [],
     "prompt_number": 69
    },
    {
     "cell_type": "code",
     "collapsed": false,
     "input": [
      "np.allclose(q.dot(r), gauss_arr)"
     ],
     "language": "python",
     "metadata": {},
     "outputs": [
      {
       "metadata": {},
       "output_type": "pyout",
       "prompt_number": 70,
       "text": [
        "True"
       ]
      }
     ],
     "prompt_number": 70
    },
    {
     "cell_type": "code",
     "collapsed": false,
     "input": [
      "np.allclose(q.T.dot(q), np.eye(3))  # check q^T q = I"
     ],
     "language": "python",
     "metadata": {},
     "outputs": [
      {
       "metadata": {},
       "output_type": "pyout",
       "prompt_number": 71,
       "text": [
        "True"
       ]
      }
     ],
     "prompt_number": 71
    },
    {
     "cell_type": "code",
     "collapsed": false,
     "input": [
      "print r  # upper triangular"
     ],
     "language": "python",
     "metadata": {},
     "outputs": [
      {
       "output_type": "stream",
       "stream": "stdout",
       "text": [
        "[[ 1.79589144 -0.60771452  0.63661563]\n",
        " [ 0.         -0.94908269 -0.96470509]\n",
        " [-0.          0.         -1.5931441 ]]\n"
       ]
      }
     ],
     "prompt_number": 72
    },
    {
     "cell_type": "code",
     "collapsed": false,
     "input": [
      "evals = np.diag(np.arange(-1, 2)); print evals  # np.diag puts a 1-d array on the diagonal or extracts the diag"
     ],
     "language": "python",
     "metadata": {},
     "outputs": [
      {
       "output_type": "stream",
       "stream": "stdout",
       "text": [
        "[[-1  0  0]\n",
        " [ 0  0  0]\n",
        " [ 0  0  1]]\n"
       ]
      }
     ],
     "prompt_number": 73
    },
    {
     "cell_type": "code",
     "collapsed": false,
     "input": [
      "my_arr = q.dot(evals).dot(q.T)  # my_arr = q evals q^T"
     ],
     "language": "python",
     "metadata": {},
     "outputs": [],
     "prompt_number": 74
    },
    {
     "cell_type": "code",
     "collapsed": false,
     "input": [
      "w, v = LA.eigh(my_arr)  # eigh computes eigenvalues/vectors of symmetric (Hermitian) matrices"
     ],
     "language": "python",
     "metadata": {},
     "outputs": [],
     "prompt_number": 75
    },
    {
     "cell_type": "code",
     "collapsed": false,
     "input": [
      "print w  # very close to [-1, 0, 1]"
     ],
     "language": "python",
     "metadata": {},
     "outputs": [
      {
       "output_type": "stream",
       "stream": "stdout",
       "text": [
        "[ -1.00000000e+00  -1.68601787e-17   1.00000000e+00]\n"
       ]
      }
     ],
     "prompt_number": 76
    },
    {
     "cell_type": "code",
     "collapsed": false,
     "input": [
      "np.allclose(w, np.arange(-1, 2))"
     ],
     "language": "python",
     "metadata": {},
     "outputs": [
      {
       "metadata": {},
       "output_type": "pyout",
       "prompt_number": 77,
       "text": [
        "True"
       ]
      }
     ],
     "prompt_number": 77
    },
    {
     "cell_type": "code",
     "collapsed": false,
     "input": [
      "print v"
     ],
     "language": "python",
     "metadata": {},
     "outputs": [
      {
       "output_type": "stream",
       "stream": "stdout",
       "text": [
        "[[ 0.54189929 -0.0844591  -0.83618887]\n",
        " [ 0.5188631   0.81631216  0.25380218]\n",
        " [-0.66115524  0.57140277 -0.48618168]]\n"
       ]
      }
     ],
     "prompt_number": 78
    },
    {
     "cell_type": "code",
     "collapsed": false,
     "input": [
      "print q  # has same columns as v (up to sign flips)"
     ],
     "language": "python",
     "metadata": {},
     "outputs": [
      {
       "output_type": "stream",
       "stream": "stdout",
       "text": [
        "[[-0.54189929  0.0844591   0.83618887]\n",
        " [-0.5188631  -0.81631216 -0.25380218]\n",
        " [ 0.66115524 -0.57140277  0.48618168]]\n"
       ]
      }
     ],
     "prompt_number": 79
    },
    {
     "cell_type": "code",
     "collapsed": false,
     "input": [
      "q1, r = LA.qr(np.random.randn(10, 10))"
     ],
     "language": "python",
     "metadata": {},
     "outputs": [],
     "prompt_number": 80
    },
    {
     "cell_type": "code",
     "collapsed": false,
     "input": [
      "q2, r = LA.qr(np.random.randn(15, 15))"
     ],
     "language": "python",
     "metadata": {},
     "outputs": [],
     "prompt_number": 81
    },
    {
     "cell_type": "code",
     "collapsed": false,
     "input": [
      "low_rank = np.outer(q1[:,1], q2[:,1]) + np.outer(q1[:,2], q2[:,2])"
     ],
     "language": "python",
     "metadata": {},
     "outputs": [],
     "prompt_number": 82
    },
    {
     "cell_type": "code",
     "collapsed": false,
     "input": [
      "low_rank.shape  # we have a 10 x 15 rank-2 matrix"
     ],
     "language": "python",
     "metadata": {},
     "outputs": [
      {
       "metadata": {},
       "output_type": "pyout",
       "prompt_number": 83,
       "text": [
        "(10, 15)"
       ]
      }
     ],
     "prompt_number": 83
    },
    {
     "cell_type": "code",
     "collapsed": false,
     "input": [
      "low_rank_noisy = low_rank + .01*np.random.randn(10, 15)  # add some noise to each entry"
     ],
     "language": "python",
     "metadata": {},
     "outputs": [],
     "prompt_number": 84
    },
    {
     "cell_type": "code",
     "collapsed": false,
     "input": [
      "LA.matrix_rank(low_rank_noisy)"
     ],
     "language": "python",
     "metadata": {},
     "outputs": [
      {
       "metadata": {},
       "output_type": "pyout",
       "prompt_number": 85,
       "text": [
        "10"
       ]
      }
     ],
     "prompt_number": 85
    },
    {
     "cell_type": "code",
     "collapsed": false,
     "input": [
      "U, s, V = LA.svd(low_rank_noisy)  # compute the SVD (Singular Value Decomposition)"
     ],
     "language": "python",
     "metadata": {},
     "outputs": [],
     "prompt_number": 86
    },
    {
     "cell_type": "code",
     "collapsed": false,
     "input": [
      "print s  # we see two large singular values and 8 smaller ones"
     ],
     "language": "python",
     "metadata": {},
     "outputs": [
      {
       "output_type": "stream",
       "stream": "stdout",
       "text": [
        "[ 1.01918324  0.99153258  0.0588537   0.04272928  0.03923219  0.03222144\n",
        "  0.0260386   0.01690336  0.01348732  0.01120651]\n"
       ]
      }
     ],
     "prompt_number": 87
    },
    {
     "cell_type": "markdown",
     "metadata": {},
     "source": [
      "Finally, just to clean up temporary files..."
     ]
    },
    {
     "cell_type": "code",
     "collapsed": false,
     "input": [
      "!rm my_array.npy three_arrays.npz two_decimals.csv two_decimals_header.csv"
     ],
     "language": "python",
     "metadata": {},
     "outputs": [],
     "prompt_number": 88
    }
   ],
   "metadata": {}
  }
 ]
}