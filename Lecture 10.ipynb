{
 "metadata": {
  "name": "",
  "signature": "sha256:5cdc44cd766eb67f63bee6888dee6fb749e1ed231cbea5f6d4722cf88b4f5466"
 },
 "nbformat": 3,
 "nbformat_minor": 0,
 "worksheets": [
  {
   "cells": [
    {
     "cell_type": "markdown",
     "metadata": {},
     "source": [
      "Today we'll cover:\n",
      "\n",
      "1. [Reading and writing text](#Reading-and-writing-text)\n",
      "2. [Reading from databases](#Reading-from-databases)"
     ]
    },
    {
     "cell_type": "heading",
     "level": 1,
     "metadata": {},
     "source": [
      "Reading and writing text"
     ]
    },
    {
     "cell_type": "markdown",
     "metadata": {},
     "source": [
      "The 4 main reading functions in pandas are:\n",
      "\n",
      "* `read_csv()` to read comma separated data (we saw this in the last lecture)\n",
      "* `read_table()` to read tab separated data\n",
      "* `read_fwf()` to read data in f[ixed] w[idth] f[ormat]\n",
      "* `read_clipboard()` to read data from clipboard (great for reading webpage tables)\n",
      "\n",
      "But before we get into the details of these, let us create some data files first."
     ]
    },
    {
     "cell_type": "code",
     "collapsed": false,
     "input": [
      "import pandas as pd"
     ],
     "language": "python",
     "metadata": {},
     "outputs": [],
     "prompt_number": 1
    },
    {
     "cell_type": "code",
     "collapsed": false,
     "input": [
      "df = pd.DataFrame([['German', 1777, 1855],\n",
      "                   ['Swiss', 1707, 1783],\n",
      "                   ['French', 1736, 1813],\n",
      "                   ['French', 1749, 1827]],\n",
      "                  index=['Gauss', 'Euler', 'Lagrange', 'Laplace'],\n",
      "                  columns=['Nationality', 'Born', 'Died'])\n",
      "df.index.name = 'Mathematician'\n",
      "df"
     ],
     "language": "python",
     "metadata": {},
     "outputs": [
      {
       "html": [
        "<div style=\"max-height:1000px;max-width:1500px;overflow:auto;\">\n",
        "<table border=\"1\" class=\"dataframe\">\n",
        "  <thead>\n",
        "    <tr style=\"text-align: right;\">\n",
        "      <th></th>\n",
        "      <th>Nationality</th>\n",
        "      <th>Born</th>\n",
        "      <th>Died</th>\n",
        "    </tr>\n",
        "    <tr>\n",
        "      <th>Mathematician</th>\n",
        "      <th></th>\n",
        "      <th></th>\n",
        "      <th></th>\n",
        "    </tr>\n",
        "  </thead>\n",
        "  <tbody>\n",
        "    <tr>\n",
        "      <th>Gauss</th>\n",
        "      <td> German</td>\n",
        "      <td> 1777</td>\n",
        "      <td> 1855</td>\n",
        "    </tr>\n",
        "    <tr>\n",
        "      <th>Euler</th>\n",
        "      <td>  Swiss</td>\n",
        "      <td> 1707</td>\n",
        "      <td> 1783</td>\n",
        "    </tr>\n",
        "    <tr>\n",
        "      <th>Lagrange</th>\n",
        "      <td> French</td>\n",
        "      <td> 1736</td>\n",
        "      <td> 1813</td>\n",
        "    </tr>\n",
        "    <tr>\n",
        "      <th>Laplace</th>\n",
        "      <td> French</td>\n",
        "      <td> 1749</td>\n",
        "      <td> 1827</td>\n",
        "    </tr>\n",
        "  </tbody>\n",
        "</table>\n",
        "</div>"
       ],
       "metadata": {},
       "output_type": "pyout",
       "prompt_number": 2,
       "text": [
        "              Nationality  Born  Died\n",
        "Mathematician                        \n",
        "Gauss              German  1777  1855\n",
        "Euler               Swiss  1707  1783\n",
        "Lagrange           French  1736  1813\n",
        "Laplace            French  1749  1827"
       ]
      }
     ],
     "prompt_number": 2
    },
    {
     "cell_type": "code",
     "collapsed": false,
     "input": [
      "df.to_csv('math.csv')  # export to a csv file"
     ],
     "language": "python",
     "metadata": {},
     "outputs": [],
     "prompt_number": 3
    },
    {
     "cell_type": "code",
     "collapsed": false,
     "input": [
      "!cat math.csv  # run shell command to examine file"
     ],
     "language": "python",
     "metadata": {},
     "outputs": [
      {
       "output_type": "stream",
       "stream": "stdout",
       "text": [
        "Mathematician,Nationality,Born,Died\r\n",
        "Gauss,German,1777,1855\r\n",
        "Euler,Swiss,1707,1783\r\n",
        "Lagrange,French,1736,1813\r\n",
        "Laplace,French,1749,1827\r\n"
       ]
      }
     ],
     "prompt_number": 4
    },
    {
     "cell_type": "code",
     "collapsed": false,
     "input": [
      "del df  # delete the DataFrame\n",
      "df = pd.read_csv('math.csv')  # read it back in\n",
      "df"
     ],
     "language": "python",
     "metadata": {},
     "outputs": [
      {
       "html": [
        "<div style=\"max-height:1000px;max-width:1500px;overflow:auto;\">\n",
        "<table border=\"1\" class=\"dataframe\">\n",
        "  <thead>\n",
        "    <tr style=\"text-align: right;\">\n",
        "      <th></th>\n",
        "      <th>Mathematician</th>\n",
        "      <th>Nationality</th>\n",
        "      <th>Born</th>\n",
        "      <th>Died</th>\n",
        "    </tr>\n",
        "  </thead>\n",
        "  <tbody>\n",
        "    <tr>\n",
        "      <th>0</th>\n",
        "      <td>    Gauss</td>\n",
        "      <td> German</td>\n",
        "      <td> 1777</td>\n",
        "      <td> 1855</td>\n",
        "    </tr>\n",
        "    <tr>\n",
        "      <th>1</th>\n",
        "      <td>    Euler</td>\n",
        "      <td>  Swiss</td>\n",
        "      <td> 1707</td>\n",
        "      <td> 1783</td>\n",
        "    </tr>\n",
        "    <tr>\n",
        "      <th>2</th>\n",
        "      <td> Lagrange</td>\n",
        "      <td> French</td>\n",
        "      <td> 1736</td>\n",
        "      <td> 1813</td>\n",
        "    </tr>\n",
        "    <tr>\n",
        "      <th>3</th>\n",
        "      <td>  Laplace</td>\n",
        "      <td> French</td>\n",
        "      <td> 1749</td>\n",
        "      <td> 1827</td>\n",
        "    </tr>\n",
        "  </tbody>\n",
        "</table>\n",
        "</div>"
       ],
       "metadata": {},
       "output_type": "pyout",
       "prompt_number": 5,
       "text": [
        "  Mathematician Nationality  Born  Died\n",
        "0         Gauss      German  1777  1855\n",
        "1         Euler       Swiss  1707  1783\n",
        "2      Lagrange      French  1736  1813\n",
        "3       Laplace      French  1749  1827"
       ]
      }
     ],
     "prompt_number": 5
    },
    {
     "cell_type": "markdown",
     "metadata": {},
     "source": [
      "That didn't quite give our original DataFrame back. We need to tell `read_csv` to use the first column (column 0) as the index."
     ]
    },
    {
     "cell_type": "code",
     "collapsed": false,
     "input": [
      "df = pd.read_csv('math.csv', index_col=0)  # use columns 0 as index\n",
      "df"
     ],
     "language": "python",
     "metadata": {},
     "outputs": [
      {
       "html": [
        "<div style=\"max-height:1000px;max-width:1500px;overflow:auto;\">\n",
        "<table border=\"1\" class=\"dataframe\">\n",
        "  <thead>\n",
        "    <tr style=\"text-align: right;\">\n",
        "      <th></th>\n",
        "      <th>Nationality</th>\n",
        "      <th>Born</th>\n",
        "      <th>Died</th>\n",
        "    </tr>\n",
        "    <tr>\n",
        "      <th>Mathematician</th>\n",
        "      <th></th>\n",
        "      <th></th>\n",
        "      <th></th>\n",
        "    </tr>\n",
        "  </thead>\n",
        "  <tbody>\n",
        "    <tr>\n",
        "      <th>Gauss</th>\n",
        "      <td> German</td>\n",
        "      <td> 1777</td>\n",
        "      <td> 1855</td>\n",
        "    </tr>\n",
        "    <tr>\n",
        "      <th>Euler</th>\n",
        "      <td>  Swiss</td>\n",
        "      <td> 1707</td>\n",
        "      <td> 1783</td>\n",
        "    </tr>\n",
        "    <tr>\n",
        "      <th>Lagrange</th>\n",
        "      <td> French</td>\n",
        "      <td> 1736</td>\n",
        "      <td> 1813</td>\n",
        "    </tr>\n",
        "    <tr>\n",
        "      <th>Laplace</th>\n",
        "      <td> French</td>\n",
        "      <td> 1749</td>\n",
        "      <td> 1827</td>\n",
        "    </tr>\n",
        "  </tbody>\n",
        "</table>\n",
        "</div>"
       ],
       "metadata": {},
       "output_type": "pyout",
       "prompt_number": 6,
       "text": [
        "              Nationality  Born  Died\n",
        "Mathematician                        \n",
        "Gauss              German  1777  1855\n",
        "Euler               Swiss  1707  1783\n",
        "Lagrange           French  1736  1813\n",
        "Laplace            French  1749  1827"
       ]
      }
     ],
     "prompt_number": 6
    },
    {
     "cell_type": "markdown",
     "metadata": {},
     "source": [
      "We can also save a DataFrame without the header and index."
     ]
    },
    {
     "cell_type": "code",
     "collapsed": false,
     "input": [
      "df.to_csv('math.csv', index=False, header=False)"
     ],
     "language": "python",
     "metadata": {},
     "outputs": [],
     "prompt_number": 7
    },
    {
     "cell_type": "code",
     "collapsed": false,
     "input": [
      "!cat math.csv"
     ],
     "language": "python",
     "metadata": {},
     "outputs": [
      {
       "output_type": "stream",
       "stream": "stdout",
       "text": [
        "German,1777,1855\r\n",
        "Swiss,1707,1783\r\n",
        "French,1736,1813\r\n",
        "French,1749,1827\r\n"
       ]
      }
     ],
     "prompt_number": 8
    },
    {
     "cell_type": "code",
     "collapsed": false,
     "input": [
      "df = pd.read_csv('math.csv', names=['Nationality', 'Born', 'Died'])  # read and supply columns names\n",
      "df.index = ['Gauss', 'Euler', 'Lagrange', 'Laplace']   # supply the index\n",
      "df.index.name = 'Mathematicians'\n",
      "df"
     ],
     "language": "python",
     "metadata": {},
     "outputs": [
      {
       "html": [
        "<div style=\"max-height:1000px;max-width:1500px;overflow:auto;\">\n",
        "<table border=\"1\" class=\"dataframe\">\n",
        "  <thead>\n",
        "    <tr style=\"text-align: right;\">\n",
        "      <th></th>\n",
        "      <th>Nationality</th>\n",
        "      <th>Born</th>\n",
        "      <th>Died</th>\n",
        "    </tr>\n",
        "    <tr>\n",
        "      <th>Mathematicians</th>\n",
        "      <th></th>\n",
        "      <th></th>\n",
        "      <th></th>\n",
        "    </tr>\n",
        "  </thead>\n",
        "  <tbody>\n",
        "    <tr>\n",
        "      <th>Gauss</th>\n",
        "      <td> German</td>\n",
        "      <td> 1777</td>\n",
        "      <td> 1855</td>\n",
        "    </tr>\n",
        "    <tr>\n",
        "      <th>Euler</th>\n",
        "      <td>  Swiss</td>\n",
        "      <td> 1707</td>\n",
        "      <td> 1783</td>\n",
        "    </tr>\n",
        "    <tr>\n",
        "      <th>Lagrange</th>\n",
        "      <td> French</td>\n",
        "      <td> 1736</td>\n",
        "      <td> 1813</td>\n",
        "    </tr>\n",
        "    <tr>\n",
        "      <th>Laplace</th>\n",
        "      <td> French</td>\n",
        "      <td> 1749</td>\n",
        "      <td> 1827</td>\n",
        "    </tr>\n",
        "  </tbody>\n",
        "</table>\n",
        "</div>"
       ],
       "metadata": {},
       "output_type": "pyout",
       "prompt_number": 9,
       "text": [
        "               Nationality  Born  Died\n",
        "Mathematicians                        \n",
        "Gauss               German  1777  1855\n",
        "Euler                Swiss  1707  1783\n",
        "Lagrange            French  1736  1813\n",
        "Laplace             French  1749  1827"
       ]
      }
     ],
     "prompt_number": 9
    },
    {
     "cell_type": "markdown",
     "metadata": {},
     "source": [
      "For large files, it might make sense to read them in chunks."
     ]
    },
    {
     "cell_type": "code",
     "collapsed": false,
     "input": [
      "df.to_csv('math.csv')  # save again for index and header\n",
      "chunks = pd.read_csv('math.csv', chunksize=1)  # chunksize is in no. of lines\n",
      "french_count = 0\n",
      "for piece in chunks:\n",
      "    french_count += piece['Nationality'][0] == 'French'\n",
      "print 'Found %d French mathematicians.' % french_count"
     ],
     "language": "python",
     "metadata": {},
     "outputs": [
      {
       "output_type": "stream",
       "stream": "stdout",
       "text": [
        "Found 2 French mathematicians.\n"
       ]
      }
     ],
     "prompt_number": 10
    },
    {
     "cell_type": "code",
     "collapsed": false,
     "input": [
      "import sys\n",
      "df.to_csv(sys.stdout, sep=':')  # can use a separator other than comma"
     ],
     "language": "python",
     "metadata": {},
     "outputs": [
      {
       "output_type": "stream",
       "stream": "stdout",
       "text": [
        "Mathematicians:Nationality:Born:Died\n",
        "Gauss:German:1777:1855\n",
        "Euler:Swiss:1707:1783\n",
        "Lagrange:French:1736:1813\n",
        "Laplace:French:1749:1827\n"
       ]
      }
     ],
     "prompt_number": 11
    },
    {
     "cell_type": "heading",
     "level": 1,
     "metadata": {},
     "source": [
      "Reading from databases"
     ]
    },
    {
     "cell_type": "markdown",
     "metadata": {},
     "source": [
      "Often the data you want to work with resides in a [relational database management system](http://en.wikipedia.org/wiki/Relational_database_management_system) (RDBMS). Some common commerical RDBMS implementations are: Oracle Database, Microsoft SQL server, MySQL and IBM DB2. [SQLite](http://www.sqlite.org/) is a freely available lightweight, disk-based (doesn't require a database server) database engine. In python, the package `sqlite3` provides an interface to SQLite.\n",
      "\n",
      "SQL (Structured Query Language) is a language used to interact with a database. A quick introduction to SQL can be found here:\n",
      "\n",
      "http://www.w3schools.com/sql/\n",
      "\n",
      "The SQL command to create a table in a database is `CREATE` (SQL queries are not case-sensitive: `CREATE` is the same as `create`)."
     ]
    },
    {
     "cell_type": "code",
     "collapsed": false,
     "input": [
      "import sqlite3\n",
      "\n",
      "query = \"\"\"\n",
      "CREATE TABLE math\n",
      "(Mathematician VARCHAR(10),\n",
      " Nationality VARCHAR(10),\n",
      " Born INTEGER,\n",
      " Died INTEGER\n",
      ");\"\"\""
     ],
     "language": "python",
     "metadata": {},
     "outputs": [],
     "prompt_number": 12
    },
    {
     "cell_type": "markdown",
     "metadata": {},
     "source": [
      "Now that we have created our first query, let us connect to a database and execute the query. In SQLite, databases are stored on disk as files. However, we can create an in-memory database denoted by the special name `:memory:`.\n",
      "\n",
      "Any query that changes the database, need to be committed to ensure that the change is visible to other connections to the database that might be open at the same time."
     ]
    },
    {
     "cell_type": "code",
     "collapsed": false,
     "input": [
      "con = sqlite3.connect(':memory:')  # connect to an in-memory database\n",
      "con.execute(query)  # execute the query\n",
      "con.commit()  # commit the change"
     ],
     "language": "python",
     "metadata": {},
     "outputs": [],
     "prompt_number": 13
    },
    {
     "cell_type": "markdown",
     "metadata": {},
     "source": [
      "We now have an empty table in the `:memory:` database. Let us insert some values into it using the SQL command `INSERT`."
     ]
    },
    {
     "cell_type": "code",
     "collapsed": false,
     "input": [
      "con.execute(\"INSERT INTO math VALUES('Gauss', 'German', 1777, 1855)\")  # insert values\n",
      "con.commit()  # and commit"
     ],
     "language": "python",
     "metadata": {},
     "outputs": [],
     "prompt_number": 14
    },
    {
     "cell_type": "markdown",
     "metadata": {},
     "source": [
      "At this stage, the table has a single row in it. Let us retrieve contents of the table using the SQL command `SELECT`. The result of executing a `SELECT` command is a *cursor*. You can think of it as an iterator."
     ]
    },
    {
     "cell_type": "code",
     "collapsed": false,
     "input": [
      "cursor = con.execute('SELECT * FROM math')\n",
      "for row in cursor:\n",
      "    print row"
     ],
     "language": "python",
     "metadata": {},
     "outputs": [
      {
       "output_type": "stream",
       "stream": "stdout",
       "text": [
        "(u'Gauss', u'German', 1777, 1855)\n"
       ]
      }
     ],
     "prompt_number": 15
    },
    {
     "cell_type": "markdown",
     "metadata": {},
     "source": [
      "Let us insert some more values in our table. The `executemany` method is useful for executing many commands for the same type. The placeholder `?` gets replaces by the values supplied in the list argument."
     ]
    },
    {
     "cell_type": "code",
     "collapsed": false,
     "input": [
      "values = [('Euler', 'Swiss', 1707, 1783),\n",
      "          ('Lagrange', 'French', 1736, 1813),\n",
      "          ('Laplace', 'French', 1749, 1827)]\n",
      "con.executemany(\"INSERT INTO math VALUES(?, ?, ?, ?)\", values)\n",
      "con.commit()"
     ],
     "language": "python",
     "metadata": {},
     "outputs": [],
     "prompt_number": 16
    },
    {
     "cell_type": "markdown",
     "metadata": {},
     "source": [
      "We have seen that a cursor can be used an iterators. If you want one row, you can use the `fetchone()` method. If you you want all rows, you can use the `fetchall()` method."
     ]
    },
    {
     "cell_type": "code",
     "collapsed": false,
     "input": [
      "cursor = con.execute('SELECT * FROM math')\n",
      "print \"Fetching one row...\"\n",
      "print cursor.fetchone()\n",
      "print \"Fetching all remaining rows...\"\n",
      "print cursor.fetchall()"
     ],
     "language": "python",
     "metadata": {},
     "outputs": [
      {
       "output_type": "stream",
       "stream": "stdout",
       "text": [
        "Fetching one row...\n",
        "(u'Gauss', u'German', 1777, 1855)\n",
        "Fetching all remaining rows...\n",
        "[(u'Euler', u'Swiss', 1707, 1783), (u'Lagrange', u'French', 1736, 1813), (u'Laplace', u'French', 1749, 1827)]\n"
       ]
      }
     ],
     "prompt_number": 17
    },
    {
     "cell_type": "markdown",
     "metadata": {},
     "source": [
      "Pandas provides a convenient way to convert results of SQL queries in DataFrame objects."
     ]
    },
    {
     "cell_type": "code",
     "collapsed": false,
     "input": [
      "import pandas.io.sql as sql\n",
      "sql.read_sql('SELECT * FROM math', con)"
     ],
     "language": "python",
     "metadata": {},
     "outputs": [
      {
       "html": [
        "<div style=\"max-height:1000px;max-width:1500px;overflow:auto;\">\n",
        "<table border=\"1\" class=\"dataframe\">\n",
        "  <thead>\n",
        "    <tr style=\"text-align: right;\">\n",
        "      <th></th>\n",
        "      <th>Mathematician</th>\n",
        "      <th>Nationality</th>\n",
        "      <th>Born</th>\n",
        "      <th>Died</th>\n",
        "    </tr>\n",
        "  </thead>\n",
        "  <tbody>\n",
        "    <tr>\n",
        "      <th>0</th>\n",
        "      <td>    Gauss</td>\n",
        "      <td> German</td>\n",
        "      <td> 1777</td>\n",
        "      <td> 1855</td>\n",
        "    </tr>\n",
        "    <tr>\n",
        "      <th>1</th>\n",
        "      <td>    Euler</td>\n",
        "      <td>  Swiss</td>\n",
        "      <td> 1707</td>\n",
        "      <td> 1783</td>\n",
        "    </tr>\n",
        "    <tr>\n",
        "      <th>2</th>\n",
        "      <td> Lagrange</td>\n",
        "      <td> French</td>\n",
        "      <td> 1736</td>\n",
        "      <td> 1813</td>\n",
        "    </tr>\n",
        "    <tr>\n",
        "      <th>3</th>\n",
        "      <td>  Laplace</td>\n",
        "      <td> French</td>\n",
        "      <td> 1749</td>\n",
        "      <td> 1827</td>\n",
        "    </tr>\n",
        "  </tbody>\n",
        "</table>\n",
        "</div>"
       ],
       "metadata": {},
       "output_type": "pyout",
       "prompt_number": 18,
       "text": [
        "  Mathematician Nationality  Born  Died\n",
        "0         Gauss      German  1777  1855\n",
        "1         Euler       Swiss  1707  1783\n",
        "2      Lagrange      French  1736  1813\n",
        "3       Laplace      French  1749  1827"
       ]
      }
     ],
     "prompt_number": 18
    },
    {
     "cell_type": "markdown",
     "metadata": {},
     "source": [
      "Let us try retrieving only French mathematicians."
     ]
    },
    {
     "cell_type": "code",
     "collapsed": false,
     "input": [
      "sql.read_sql('SELECT * FROM math WHERE Nationality=\"French\"', con)"
     ],
     "language": "python",
     "metadata": {},
     "outputs": [
      {
       "html": [
        "<div style=\"max-height:1000px;max-width:1500px;overflow:auto;\">\n",
        "<table border=\"1\" class=\"dataframe\">\n",
        "  <thead>\n",
        "    <tr style=\"text-align: right;\">\n",
        "      <th></th>\n",
        "      <th>Mathematician</th>\n",
        "      <th>Nationality</th>\n",
        "      <th>Born</th>\n",
        "      <th>Died</th>\n",
        "    </tr>\n",
        "  </thead>\n",
        "  <tbody>\n",
        "    <tr>\n",
        "      <th>0</th>\n",
        "      <td> Lagrange</td>\n",
        "      <td> French</td>\n",
        "      <td> 1736</td>\n",
        "      <td> 1813</td>\n",
        "    </tr>\n",
        "    <tr>\n",
        "      <th>1</th>\n",
        "      <td>  Laplace</td>\n",
        "      <td> French</td>\n",
        "      <td> 1749</td>\n",
        "      <td> 1827</td>\n",
        "    </tr>\n",
        "  </tbody>\n",
        "</table>\n",
        "</div>"
       ],
       "metadata": {},
       "output_type": "pyout",
       "prompt_number": 19,
       "text": [
        "  Mathematician Nationality  Born  Died\n",
        "0      Lagrange      French  1736  1813\n",
        "1       Laplace      French  1749  1827"
       ]
      }
     ],
     "prompt_number": 19
    },
    {
     "cell_type": "code",
     "collapsed": false,
     "input": [
      "# clean up temporary files in the end\n",
      "!rm math.csv"
     ],
     "language": "python",
     "metadata": {},
     "outputs": [],
     "prompt_number": 20
    }
   ],
   "metadata": {}
  }
 ]
}