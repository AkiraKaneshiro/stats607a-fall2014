{
 "metadata": {
  "name": "",
  "signature": "sha256:c38a0f3f377982df4b07ca75e1f9d3cb30249d8e498d34d7de3e200e6ab880d5"
 },
 "nbformat": 3,
 "nbformat_minor": 0,
 "worksheets": [
  {
   "cells": [
    {
     "cell_type": "code",
     "collapsed": false,
     "input": [],
     "language": "python",
     "metadata": {},
     "outputs": []
    }
   ],
   "metadata": {}
  }
 ]
}