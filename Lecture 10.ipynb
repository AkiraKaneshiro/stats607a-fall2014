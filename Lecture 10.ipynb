{
 "metadata": {
  "name": "",
  "signature": "sha256:ae66174e72d864509ec3d381660840bce56fa4b6ad588b79a544bfbe2c0c4769"
 },
 "nbformat": 3,
 "nbformat_minor": 0,
 "worksheets": [
  {
   "cells": [
    {
     "cell_type": "markdown",
     "metadata": {},
     "source": [
      "Today we'll cover:\n",
      "\n",
      "1. [Reading and writing text](#Reading-and-writing-text)\n",
      "2. [Reading from databases](#Reading-from-databases)\n",
      "3. [Reading from web APIs](#Reading-from-web-APIs)"
     ]
    },
    {
     "cell_type": "heading",
     "level": 1,
     "metadata": {},
     "source": [
      "Reading and writing text"
     ]
    },
    {
     "cell_type": "markdown",
     "metadata": {},
     "source": [
      "The 2 main reading & writing functions in pandas we will discuss are:\n",
      "\n",
      "* `read_csv()` to read comma separated data (we saw this in the last lecture)\n",
      "* `to_csv()` to write comnna separated data\n",
      "\n",
      "But before we get into the details of these, let us create some data files first."
     ]
    },
    {
     "cell_type": "code",
     "collapsed": false,
     "input": [
      "import pandas as pd"
     ],
     "language": "python",
     "metadata": {},
     "outputs": [],
     "prompt_number": 1
    },
    {
     "cell_type": "code",
     "collapsed": false,
     "input": [
      "df = pd.DataFrame([['German', 1777, 1855],\n",
      "                   ['Swiss', 1707, 1783],\n",
      "                   ['French', 1736, 1813],\n",
      "                   ['French', 1749, 1827]],\n",
      "                  index=['Gauss', 'Euler', 'Lagrange', 'Laplace'],\n",
      "                  columns=['Nationality', 'Born', 'Died'])\n",
      "df.index.name = 'Mathematician'\n",
      "df"
     ],
     "language": "python",
     "metadata": {},
     "outputs": [
      {
       "html": [
        "<div style=\"max-height:1000px;max-width:1500px;overflow:auto;\">\n",
        "<table border=\"1\" class=\"dataframe\">\n",
        "  <thead>\n",
        "    <tr style=\"text-align: right;\">\n",
        "      <th></th>\n",
        "      <th>Nationality</th>\n",
        "      <th>Born</th>\n",
        "      <th>Died</th>\n",
        "    </tr>\n",
        "    <tr>\n",
        "      <th>Mathematician</th>\n",
        "      <th></th>\n",
        "      <th></th>\n",
        "      <th></th>\n",
        "    </tr>\n",
        "  </thead>\n",
        "  <tbody>\n",
        "    <tr>\n",
        "      <th>Gauss</th>\n",
        "      <td> German</td>\n",
        "      <td> 1777</td>\n",
        "      <td> 1855</td>\n",
        "    </tr>\n",
        "    <tr>\n",
        "      <th>Euler</th>\n",
        "      <td>  Swiss</td>\n",
        "      <td> 1707</td>\n",
        "      <td> 1783</td>\n",
        "    </tr>\n",
        "    <tr>\n",
        "      <th>Lagrange</th>\n",
        "      <td> French</td>\n",
        "      <td> 1736</td>\n",
        "      <td> 1813</td>\n",
        "    </tr>\n",
        "    <tr>\n",
        "      <th>Laplace</th>\n",
        "      <td> French</td>\n",
        "      <td> 1749</td>\n",
        "      <td> 1827</td>\n",
        "    </tr>\n",
        "  </tbody>\n",
        "</table>\n",
        "</div>"
       ],
       "metadata": {},
       "output_type": "pyout",
       "prompt_number": 2,
       "text": [
        "              Nationality  Born  Died\n",
        "Mathematician                        \n",
        "Gauss              German  1777  1855\n",
        "Euler               Swiss  1707  1783\n",
        "Lagrange           French  1736  1813\n",
        "Laplace            French  1749  1827"
       ]
      }
     ],
     "prompt_number": 2
    },
    {
     "cell_type": "code",
     "collapsed": false,
     "input": [
      "df.to_csv('math.csv')  # export to a csv file"
     ],
     "language": "python",
     "metadata": {},
     "outputs": [],
     "prompt_number": 3
    },
    {
     "cell_type": "code",
     "collapsed": false,
     "input": [
      "!cat math.csv  # run shell command to examine file"
     ],
     "language": "python",
     "metadata": {},
     "outputs": [
      {
       "output_type": "stream",
       "stream": "stdout",
       "text": [
        "Mathematician,Nationality,Born,Died\r\n",
        "Gauss,German,1777,1855\r\n",
        "Euler,Swiss,1707,1783\r\n",
        "Lagrange,French,1736,1813\r\n",
        "Laplace,French,1749,1827\r\n"
       ]
      }
     ],
     "prompt_number": 4
    },
    {
     "cell_type": "code",
     "collapsed": false,
     "input": [
      "del df  # delete the DataFrame\n",
      "df = pd.read_csv('math.csv')  # read it back in\n",
      "df"
     ],
     "language": "python",
     "metadata": {},
     "outputs": [
      {
       "html": [
        "<div style=\"max-height:1000px;max-width:1500px;overflow:auto;\">\n",
        "<table border=\"1\" class=\"dataframe\">\n",
        "  <thead>\n",
        "    <tr style=\"text-align: right;\">\n",
        "      <th></th>\n",
        "      <th>Mathematician</th>\n",
        "      <th>Nationality</th>\n",
        "      <th>Born</th>\n",
        "      <th>Died</th>\n",
        "    </tr>\n",
        "  </thead>\n",
        "  <tbody>\n",
        "    <tr>\n",
        "      <th>0</th>\n",
        "      <td>    Gauss</td>\n",
        "      <td> German</td>\n",
        "      <td> 1777</td>\n",
        "      <td> 1855</td>\n",
        "    </tr>\n",
        "    <tr>\n",
        "      <th>1</th>\n",
        "      <td>    Euler</td>\n",
        "      <td>  Swiss</td>\n",
        "      <td> 1707</td>\n",
        "      <td> 1783</td>\n",
        "    </tr>\n",
        "    <tr>\n",
        "      <th>2</th>\n",
        "      <td> Lagrange</td>\n",
        "      <td> French</td>\n",
        "      <td> 1736</td>\n",
        "      <td> 1813</td>\n",
        "    </tr>\n",
        "    <tr>\n",
        "      <th>3</th>\n",
        "      <td>  Laplace</td>\n",
        "      <td> French</td>\n",
        "      <td> 1749</td>\n",
        "      <td> 1827</td>\n",
        "    </tr>\n",
        "  </tbody>\n",
        "</table>\n",
        "</div>"
       ],
       "metadata": {},
       "output_type": "pyout",
       "prompt_number": 5,
       "text": [
        "  Mathematician Nationality  Born  Died\n",
        "0         Gauss      German  1777  1855\n",
        "1         Euler       Swiss  1707  1783\n",
        "2      Lagrange      French  1736  1813\n",
        "3       Laplace      French  1749  1827"
       ]
      }
     ],
     "prompt_number": 5
    },
    {
     "cell_type": "markdown",
     "metadata": {},
     "source": [
      "That didn't quite give our original DataFrame back. We need to tell `read_csv` to use the first column (column 0) as the index."
     ]
    },
    {
     "cell_type": "code",
     "collapsed": false,
     "input": [
      "df = pd.read_csv('math.csv', index_col=0)  # use columns 0 as index\n",
      "df"
     ],
     "language": "python",
     "metadata": {},
     "outputs": [
      {
       "html": [
        "<div style=\"max-height:1000px;max-width:1500px;overflow:auto;\">\n",
        "<table border=\"1\" class=\"dataframe\">\n",
        "  <thead>\n",
        "    <tr style=\"text-align: right;\">\n",
        "      <th></th>\n",
        "      <th>Nationality</th>\n",
        "      <th>Born</th>\n",
        "      <th>Died</th>\n",
        "    </tr>\n",
        "    <tr>\n",
        "      <th>Mathematician</th>\n",
        "      <th></th>\n",
        "      <th></th>\n",
        "      <th></th>\n",
        "    </tr>\n",
        "  </thead>\n",
        "  <tbody>\n",
        "    <tr>\n",
        "      <th>Gauss</th>\n",
        "      <td> German</td>\n",
        "      <td> 1777</td>\n",
        "      <td> 1855</td>\n",
        "    </tr>\n",
        "    <tr>\n",
        "      <th>Euler</th>\n",
        "      <td>  Swiss</td>\n",
        "      <td> 1707</td>\n",
        "      <td> 1783</td>\n",
        "    </tr>\n",
        "    <tr>\n",
        "      <th>Lagrange</th>\n",
        "      <td> French</td>\n",
        "      <td> 1736</td>\n",
        "      <td> 1813</td>\n",
        "    </tr>\n",
        "    <tr>\n",
        "      <th>Laplace</th>\n",
        "      <td> French</td>\n",
        "      <td> 1749</td>\n",
        "      <td> 1827</td>\n",
        "    </tr>\n",
        "  </tbody>\n",
        "</table>\n",
        "</div>"
       ],
       "metadata": {},
       "output_type": "pyout",
       "prompt_number": 6,
       "text": [
        "              Nationality  Born  Died\n",
        "Mathematician                        \n",
        "Gauss              German  1777  1855\n",
        "Euler               Swiss  1707  1783\n",
        "Lagrange           French  1736  1813\n",
        "Laplace            French  1749  1827"
       ]
      }
     ],
     "prompt_number": 6
    },
    {
     "cell_type": "markdown",
     "metadata": {},
     "source": [
      "We can also save a DataFrame without the header and index."
     ]
    },
    {
     "cell_type": "code",
     "collapsed": false,
     "input": [
      "df.to_csv('math.csv', index=False, header=False)"
     ],
     "language": "python",
     "metadata": {},
     "outputs": [],
     "prompt_number": 7
    },
    {
     "cell_type": "code",
     "collapsed": false,
     "input": [
      "!cat math.csv"
     ],
     "language": "python",
     "metadata": {},
     "outputs": [
      {
       "output_type": "stream",
       "stream": "stdout",
       "text": [
        "German,1777,1855\r\n",
        "Swiss,1707,1783\r\n",
        "French,1736,1813\r\n",
        "French,1749,1827\r\n"
       ]
      }
     ],
     "prompt_number": 8
    },
    {
     "cell_type": "code",
     "collapsed": false,
     "input": [
      "df = pd.read_csv('math.csv', names=['Nationality', 'Born', 'Died'])  # read and supply columns names\n",
      "df.index = ['Gauss', 'Euler', 'Lagrange', 'Laplace']   # supply the index\n",
      "df.index.name = 'Mathematicians'\n",
      "df"
     ],
     "language": "python",
     "metadata": {},
     "outputs": [
      {
       "html": [
        "<div style=\"max-height:1000px;max-width:1500px;overflow:auto;\">\n",
        "<table border=\"1\" class=\"dataframe\">\n",
        "  <thead>\n",
        "    <tr style=\"text-align: right;\">\n",
        "      <th></th>\n",
        "      <th>Nationality</th>\n",
        "      <th>Born</th>\n",
        "      <th>Died</th>\n",
        "    </tr>\n",
        "    <tr>\n",
        "      <th>Mathematicians</th>\n",
        "      <th></th>\n",
        "      <th></th>\n",
        "      <th></th>\n",
        "    </tr>\n",
        "  </thead>\n",
        "  <tbody>\n",
        "    <tr>\n",
        "      <th>Gauss</th>\n",
        "      <td> German</td>\n",
        "      <td> 1777</td>\n",
        "      <td> 1855</td>\n",
        "    </tr>\n",
        "    <tr>\n",
        "      <th>Euler</th>\n",
        "      <td>  Swiss</td>\n",
        "      <td> 1707</td>\n",
        "      <td> 1783</td>\n",
        "    </tr>\n",
        "    <tr>\n",
        "      <th>Lagrange</th>\n",
        "      <td> French</td>\n",
        "      <td> 1736</td>\n",
        "      <td> 1813</td>\n",
        "    </tr>\n",
        "    <tr>\n",
        "      <th>Laplace</th>\n",
        "      <td> French</td>\n",
        "      <td> 1749</td>\n",
        "      <td> 1827</td>\n",
        "    </tr>\n",
        "  </tbody>\n",
        "</table>\n",
        "</div>"
       ],
       "metadata": {},
       "output_type": "pyout",
       "prompt_number": 9,
       "text": [
        "               Nationality  Born  Died\n",
        "Mathematicians                        \n",
        "Gauss               German  1777  1855\n",
        "Euler                Swiss  1707  1783\n",
        "Lagrange            French  1736  1813\n",
        "Laplace             French  1749  1827"
       ]
      }
     ],
     "prompt_number": 9
    },
    {
     "cell_type": "markdown",
     "metadata": {},
     "source": [
      "For large files, it might make sense to read them in chunks."
     ]
    },
    {
     "cell_type": "code",
     "collapsed": false,
     "input": [
      "df.to_csv('math.csv')  # save again for index and header\n",
      "chunks = pd.read_csv('math.csv', chunksize=1)  # chunksize is in no. of lines\n",
      "french_count = 0\n",
      "for piece in chunks:\n",
      "    french_count += piece['Nationality'][0] == 'French'\n",
      "print 'Found %d French mathematicians.' % french_count"
     ],
     "language": "python",
     "metadata": {},
     "outputs": [
      {
       "output_type": "stream",
       "stream": "stdout",
       "text": [
        "Found 2 French mathematicians.\n"
       ]
      }
     ],
     "prompt_number": 10
    },
    {
     "cell_type": "code",
     "collapsed": false,
     "input": [
      "import sys\n",
      "df.to_csv(sys.stdout, sep=':')  # can use a separator other than comma"
     ],
     "language": "python",
     "metadata": {},
     "outputs": [
      {
       "output_type": "stream",
       "stream": "stdout",
       "text": [
        "Mathematicians:Nationality:Born:Died\n",
        "Gauss:German:1777:1855\n",
        "Euler:Swiss:1707:1783\n",
        "Lagrange:French:1736:1813\n",
        "Laplace:French:1749:1827\n"
       ]
      }
     ],
     "prompt_number": 11
    },
    {
     "cell_type": "heading",
     "level": 1,
     "metadata": {},
     "source": [
      "Reading from databases"
     ]
    },
    {
     "cell_type": "markdown",
     "metadata": {},
     "source": [
      "Often the data you want to work with resides in a [relational database management system](http://en.wikipedia.org/wiki/Relational_database_management_system) (RDBMS). Some common commerical RDBMS implementations are: Oracle Database, Microsoft SQL server, MySQL and IBM DB2. [SQLite](http://www.sqlite.org/) is a freely available lightweight, disk-based (doesn't require a database server) database engine. In python, the package `sqlite3` provides an interface to SQLite.\n",
      "\n",
      "SQL (Structured Query Language) is a language used to interact with a database. A quick introduction to SQL can be found here:\n",
      "\n",
      "http://www.w3schools.com/sql/\n",
      "\n",
      "The SQL command to create a table in a database is `CREATE` (SQL queries are not case-sensitive: `CREATE` is the same as `create`)."
     ]
    },
    {
     "cell_type": "code",
     "collapsed": false,
     "input": [
      "import sqlite3\n",
      "\n",
      "query = \"\"\"\n",
      "CREATE TABLE math\n",
      "(Mathematician VARCHAR(10),\n",
      " Nationality VARCHAR(10),\n",
      " Born INTEGER,\n",
      " Died INTEGER\n",
      ");\"\"\""
     ],
     "language": "python",
     "metadata": {},
     "outputs": [],
     "prompt_number": 12
    },
    {
     "cell_type": "markdown",
     "metadata": {},
     "source": [
      "Now that we have created our first query, let us connect to a database and execute the query. In SQLite, databases are stored on disk as files. However, we can create an in-memory database denoted by the special name `:memory:`.\n",
      "\n",
      "Any query that changes the database, need to be committed to ensure that the change is visible to other connections to the database that might be open at the same time."
     ]
    },
    {
     "cell_type": "code",
     "collapsed": false,
     "input": [
      "con = sqlite3.connect(':memory:')  # connect to an in-memory database\n",
      "con.execute(query)  # execute the query\n",
      "con.commit()  # commit the change"
     ],
     "language": "python",
     "metadata": {},
     "outputs": [],
     "prompt_number": 13
    },
    {
     "cell_type": "markdown",
     "metadata": {},
     "source": [
      "We now have an empty table in the `:memory:` database. Let us insert some values into it using the SQL command `INSERT`."
     ]
    },
    {
     "cell_type": "code",
     "collapsed": false,
     "input": [
      "con.execute(\"INSERT INTO math VALUES('Gauss', 'German', 1777, 1855)\")  # insert values\n",
      "con.commit()  # and commit"
     ],
     "language": "python",
     "metadata": {},
     "outputs": [],
     "prompt_number": 14
    },
    {
     "cell_type": "markdown",
     "metadata": {},
     "source": [
      "At this stage, the table has a single row in it. Let us retrieve contents of the table using the SQL command `SELECT`. The result of executing a `SELECT` command is a *cursor*. You can think of it as an iterator."
     ]
    },
    {
     "cell_type": "code",
     "collapsed": false,
     "input": [
      "cursor = con.execute('SELECT * FROM math')\n",
      "for row in cursor:\n",
      "    print row"
     ],
     "language": "python",
     "metadata": {},
     "outputs": [
      {
       "output_type": "stream",
       "stream": "stdout",
       "text": [
        "(u'Gauss', u'German', 1777, 1855)\n"
       ]
      }
     ],
     "prompt_number": 15
    },
    {
     "cell_type": "markdown",
     "metadata": {},
     "source": [
      "Let us insert some more values in our table. The `executemany` method is useful for executing many commands for the same type. The placeholder `?` gets replaces by the values supplied in the list argument."
     ]
    },
    {
     "cell_type": "code",
     "collapsed": false,
     "input": [
      "values = [('Euler', 'Swiss', 1707, 1783),\n",
      "          ('Lagrange', 'French', 1736, 1813),\n",
      "          ('Laplace', 'French', 1749, 1827)]\n",
      "con.executemany(\"INSERT INTO math VALUES(?, ?, ?, ?)\", values)\n",
      "con.commit()"
     ],
     "language": "python",
     "metadata": {},
     "outputs": [],
     "prompt_number": 16
    },
    {
     "cell_type": "markdown",
     "metadata": {},
     "source": [
      "We have seen that a cursor can be used an iterators. If you want one row, you can use the `fetchone()` method. If you you want all rows, you can use the `fetchall()` method."
     ]
    },
    {
     "cell_type": "code",
     "collapsed": false,
     "input": [
      "cursor = con.execute('SELECT * FROM math')\n",
      "print \"Fetching one row...\"\n",
      "print cursor.fetchone()\n",
      "print \"Fetching all remaining rows...\"\n",
      "print cursor.fetchall()"
     ],
     "language": "python",
     "metadata": {},
     "outputs": [
      {
       "output_type": "stream",
       "stream": "stdout",
       "text": [
        "Fetching one row...\n",
        "(u'Gauss', u'German', 1777, 1855)\n",
        "Fetching all remaining rows...\n",
        "[(u'Euler', u'Swiss', 1707, 1783), (u'Lagrange', u'French', 1736, 1813), (u'Laplace', u'French', 1749, 1827)]\n"
       ]
      }
     ],
     "prompt_number": 17
    },
    {
     "cell_type": "markdown",
     "metadata": {},
     "source": [
      "Pandas provides a convenient way to convert results of SQL queries in DataFrame objects."
     ]
    },
    {
     "cell_type": "code",
     "collapsed": false,
     "input": [
      "import pandas.io.sql as sql\n",
      "sql.read_sql('SELECT * FROM math', con)"
     ],
     "language": "python",
     "metadata": {},
     "outputs": [
      {
       "html": [
        "<div style=\"max-height:1000px;max-width:1500px;overflow:auto;\">\n",
        "<table border=\"1\" class=\"dataframe\">\n",
        "  <thead>\n",
        "    <tr style=\"text-align: right;\">\n",
        "      <th></th>\n",
        "      <th>Mathematician</th>\n",
        "      <th>Nationality</th>\n",
        "      <th>Born</th>\n",
        "      <th>Died</th>\n",
        "    </tr>\n",
        "  </thead>\n",
        "  <tbody>\n",
        "    <tr>\n",
        "      <th>0</th>\n",
        "      <td>    Gauss</td>\n",
        "      <td> German</td>\n",
        "      <td> 1777</td>\n",
        "      <td> 1855</td>\n",
        "    </tr>\n",
        "    <tr>\n",
        "      <th>1</th>\n",
        "      <td>    Euler</td>\n",
        "      <td>  Swiss</td>\n",
        "      <td> 1707</td>\n",
        "      <td> 1783</td>\n",
        "    </tr>\n",
        "    <tr>\n",
        "      <th>2</th>\n",
        "      <td> Lagrange</td>\n",
        "      <td> French</td>\n",
        "      <td> 1736</td>\n",
        "      <td> 1813</td>\n",
        "    </tr>\n",
        "    <tr>\n",
        "      <th>3</th>\n",
        "      <td>  Laplace</td>\n",
        "      <td> French</td>\n",
        "      <td> 1749</td>\n",
        "      <td> 1827</td>\n",
        "    </tr>\n",
        "  </tbody>\n",
        "</table>\n",
        "</div>"
       ],
       "metadata": {},
       "output_type": "pyout",
       "prompt_number": 18,
       "text": [
        "  Mathematician Nationality  Born  Died\n",
        "0         Gauss      German  1777  1855\n",
        "1         Euler       Swiss  1707  1783\n",
        "2      Lagrange      French  1736  1813\n",
        "3       Laplace      French  1749  1827"
       ]
      }
     ],
     "prompt_number": 18
    },
    {
     "cell_type": "markdown",
     "metadata": {},
     "source": [
      "Let us try retrieving only French mathematicians."
     ]
    },
    {
     "cell_type": "code",
     "collapsed": false,
     "input": [
      "sql.read_sql('SELECT * FROM math WHERE Nationality=\"French\"', con)"
     ],
     "language": "python",
     "metadata": {},
     "outputs": [
      {
       "html": [
        "<div style=\"max-height:1000px;max-width:1500px;overflow:auto;\">\n",
        "<table border=\"1\" class=\"dataframe\">\n",
        "  <thead>\n",
        "    <tr style=\"text-align: right;\">\n",
        "      <th></th>\n",
        "      <th>Mathematician</th>\n",
        "      <th>Nationality</th>\n",
        "      <th>Born</th>\n",
        "      <th>Died</th>\n",
        "    </tr>\n",
        "  </thead>\n",
        "  <tbody>\n",
        "    <tr>\n",
        "      <th>0</th>\n",
        "      <td> Lagrange</td>\n",
        "      <td> French</td>\n",
        "      <td> 1736</td>\n",
        "      <td> 1813</td>\n",
        "    </tr>\n",
        "    <tr>\n",
        "      <th>1</th>\n",
        "      <td>  Laplace</td>\n",
        "      <td> French</td>\n",
        "      <td> 1749</td>\n",
        "      <td> 1827</td>\n",
        "    </tr>\n",
        "  </tbody>\n",
        "</table>\n",
        "</div>"
       ],
       "metadata": {},
       "output_type": "pyout",
       "prompt_number": 19,
       "text": [
        "  Mathematician Nationality  Born  Died\n",
        "0      Lagrange      French  1736  1813\n",
        "1       Laplace      French  1749  1827"
       ]
      }
     ],
     "prompt_number": 19
    },
    {
     "cell_type": "heading",
     "level": 1,
     "metadata": {},
     "source": [
      "Reading from web APIs"
     ]
    },
    {
     "cell_type": "markdown",
     "metadata": {},
     "source": [
      "We will use the [Twitter Search API](https://dev.twitter.com/rest/public/search) to search for tweets. The API returns results in the [JSON format](http://en.wikipedia.org/wiki/JSON). You will remember that IPython notebooks (such as this document!) are also encoded in the JSON format.\n",
      "\n",
      "But before we can build a search query and execute it on twitter, we need to authenticate. We will use Twitter's [Application-only authentication](https://dev.twitter.com/oauth/application-only). The way this works is:\n",
      "\n",
      "1. Our (Python) application will encodes its *consumer key* and *consumer secret* into a specially encoded set of credentials.\n",
      "2. Then the application will make a request to exchange these credentials for a *bearer token*.\n",
      "3. When accessing the API, our application will use the *bearer token* to authenticate.\n",
      "\n",
      "Let us work on Step 1."
     ]
    },
    {
     "cell_type": "code",
     "collapsed": false,
     "input": [
      "from urllib2 import urlopen, Request  # to create HTTP requests and open URLs\n",
      "import base64  # for base64 encoding\n",
      "import json  # for handling the JSON format\n",
      "\n",
      "consumer_key = 'dNcn9ZjPJ6dSaXJMYnVgna7jg'  # our app's consumer key\n",
      "consumer_secret = open('consumer_secret', 'r').read().strip()  # read secret (should not be made public) from file\n",
      "\n",
      "bearer_token = '%s:%s' % (consumer_key, consumer_secret)\n",
      "encoded_bearer_token = base64.b64encode(bearer_token.encode('ascii'))  # bearer token needs to be base64 encoded\n",
      "request = Request('https://api.twitter.com/oauth2/token')\n",
      "request.add_header('Content-Type',\n",
      "                   'application/x-www-form-urlencoded;charset=UTF-8')\n",
      "request.add_header('Authorization',\n",
      "                   'Basic %s' % encoded_bearer_token.decode('utf-8'))\n",
      "request_data = 'grant_type=client_credentials'.encode('ascii')\n",
      "request.add_data(request_data)"
     ],
     "language": "python",
     "metadata": {},
     "outputs": [],
     "prompt_number": 20
    },
    {
     "cell_type": "markdown",
     "metadata": {},
     "source": [
      "Now that we have a Request object ready, let us send our request to get a bearer token to Twitter (Step 2)."
     ]
    },
    {
     "cell_type": "code",
     "collapsed": false,
     "input": [
      "response = urlopen(request)  # make the request\n",
      "raw_data = response.read().decode('utf-8')  # read the raw results in JSON format\n",
      "data = json.loads(raw_data)  # decode JSON into Python data structures\n",
      "bearer_token = data['access_token']  # extract the token"
     ],
     "language": "python",
     "metadata": {},
     "outputs": [],
     "prompt_number": 21
    },
    {
     "cell_type": "markdown",
     "metadata": {},
     "source": [
      "We can now use the bearer token to search (Step 3). Let us search for tweets containing \"data science\"."
     ]
    },
    {
     "cell_type": "code",
     "collapsed": false,
     "input": [
      "url = 'https://api.twitter.com/1.1/search/tweets.json?q=data%20science'  # search for \"data science\"\n",
      "request = Request(url)\n",
      "request.add_header('Authorization', 'Bearer %s' % bearer_token)  # use the bearer token from Step 2\n",
      "response = urlopen(request)  # make the request\n",
      "raw_data = response.read().decode('utf-8')  # results in raw JSON\n",
      "data = json.loads(raw_data)  # decode JSON into Python data structures"
     ],
     "language": "python",
     "metadata": {},
     "outputs": [],
     "prompt_number": 22
    },
    {
     "cell_type": "markdown",
     "metadata": {},
     "source": [
      "At this point `data` is a dictionary with just two keys: `search_metadata` and `statuses`. The latter has the tweets inside a Python list."
     ]
    },
    {
     "cell_type": "code",
     "collapsed": false,
     "input": [
      "print data.keys()"
     ],
     "language": "python",
     "metadata": {},
     "outputs": [
      {
       "output_type": "stream",
       "stream": "stdout",
       "text": [
        "[u'search_metadata', u'statuses']\n"
       ]
      }
     ],
     "prompt_number": 23
    },
    {
     "cell_type": "code",
     "collapsed": false,
     "input": [
      "import pprint  # import pretty print module\n",
      "pprint.pprint(data['statuses'][0])  # print the first tweet, it is a Python dict"
     ],
     "language": "python",
     "metadata": {},
     "outputs": [
      {
       "output_type": "stream",
       "stream": "stdout",
       "text": [
        "{u'contributors': None,\n",
        " u'coordinates': None,\n",
        " u'created_at': u'Wed Oct 15 16:54:43 +0000 2014',\n",
        " u'entities': {u'hashtags': [],\n",
        "               u'media': [{u'display_url': u'pic.twitter.com/2AL5UNB4df',\n",
        "                           u'expanded_url': u'http://twitter.com/NBCNews/status/522167310396583938/photo/1',\n",
        "                           u'id': 522167310203645954,\n",
        "                           u'id_str': u'522167310203645954',\n",
        "                           u'indices': [100, 122],\n",
        "                           u'media_url': u'http://pbs.twimg.com/media/Bz8cZu4CcAIp-k8.jpg',\n",
        "                           u'media_url_https': u'https://pbs.twimg.com/media/Bz8cZu4CcAIp-k8.jpg',\n",
        "                           u'sizes': {u'large': {u'h': 376,\n",
        "                                                 u'resize': u'fit',\n",
        "                                                 u'w': 600},\n",
        "                                      u'medium': {u'h': 376,\n",
        "                                                  u'resize': u'fit',\n",
        "                                                  u'w': 600},\n",
        "                                      u'small': {u'h': 213,\n",
        "                                                 u'resize': u'fit',\n",
        "                                                 u'w': 340},\n",
        "                                      u'thumb': {u'h': 150,\n",
        "                                                 u'resize': u'crop',\n",
        "                                                 u'w': 150}},\n",
        "                           u'source_status_id': 522167310396583938,\n",
        "                           u'source_status_id_str': u'522167310396583938',\n",
        "                           u'type': u'photo',\n",
        "                           u'url': u'http://t.co/2AL5UNB4df'}],\n",
        "               u'symbols': [],\n",
        "               u'urls': [{u'display_url': u'nbcnews.to/1w7b4f4',\n",
        "                          u'expanded_url': u'http://nbcnews.to/1w7b4f4',\n",
        "                          u'indices': [77, 99],\n",
        "                          u'url': u'http://t.co/jDpM9wmxTu'}],\n",
        "               u'user_mentions': [{u'id': 14173315,\n",
        "                                   u'id_str': u'14173315',\n",
        "                                   u'indices': [3, 11],\n",
        "                                   u'name': u'NBC News',\n",
        "                                   u'screen_name': u'NBCNews'}]},\n",
        " u'favorite_count': 0,\n",
        " u'favorited': False,\n",
        " u'geo': None,\n",
        " u'id': 522430378330832896,\n",
        " u'id_str': u'522430378330832896',\n",
        " u'in_reply_to_screen_name': None,\n",
        " u'in_reply_to_status_id': None,\n",
        " u'in_reply_to_status_id_str': None,\n",
        " u'in_reply_to_user_id': None,\n",
        " u'in_reply_to_user_id_str': None,\n",
        " u'lang': u'en',\n",
        " u'metadata': {u'iso_language_code': u'en', u'result_type': u'recent'},\n",
        " u'place': None,\n",
        " u'possibly_sensitive': False,\n",
        " u'retweet_count': 1019,\n",
        " u'retweeted': False,\n",
        " u'retweeted_status': {u'contributors': None,\n",
        "                       u'coordinates': None,\n",
        "                       u'created_at': u'Tue Oct 14 23:29:22 +0000 2014',\n",
        "                       u'entities': {u'hashtags': [],\n",
        "                                     u'media': [{u'display_url': u'pic.twitter.com/2AL5UNB4df',\n",
        "                                                 u'expanded_url': u'http://twitter.com/NBCNews/status/522167310396583938/photo/1',\n",
        "                                                 u'id': 522167310203645954,\n",
        "                                                 u'id_str': u'522167310203645954',\n",
        "                                                 u'indices': [87, 109],\n",
        "                                                 u'media_url': u'http://pbs.twimg.com/media/Bz8cZu4CcAIp-k8.jpg',\n",
        "                                                 u'media_url_https': u'https://pbs.twimg.com/media/Bz8cZu4CcAIp-k8.jpg',\n",
        "                                                 u'sizes': {u'large': {u'h': 376,\n",
        "                                                                       u'resize': u'fit',\n",
        "                                                                       u'w': 600},\n",
        "                                                            u'medium': {u'h': 376,\n",
        "                                                                        u'resize': u'fit',\n",
        "                                                                        u'w': 600},\n",
        "                                                            u'small': {u'h': 213,\n",
        "                                                                       u'resize': u'fit',\n",
        "                                                                       u'w': 340},\n",
        "                                                            u'thumb': {u'h': 150,\n",
        "                                                                       u'resize': u'crop',\n",
        "                                                                       u'w': 150}},\n",
        "                                                 u'type': u'photo',\n",
        "                                                 u'url': u'http://t.co/2AL5UNB4df'}],\n",
        "                                     u'symbols': [],\n",
        "                                     u'urls': [{u'display_url': u'nbcnews.to/1w7b4f4',\n",
        "                                                u'expanded_url': u'http://nbcnews.to/1w7b4f4',\n",
        "                                                u'indices': [64, 86],\n",
        "                                                u'url': u'http://t.co/jDpM9wmxTu'}],\n",
        "                                     u'user_mentions': []},\n",
        "                       u'favorite_count': 383,\n",
        "                       u'favorited': False,\n",
        "                       u'geo': None,\n",
        "                       u'id': 522167310396583938,\n",
        "                       u'id_str': u'522167310396583938',\n",
        "                       u'in_reply_to_screen_name': None,\n",
        "                       u'in_reply_to_status_id': None,\n",
        "                       u'in_reply_to_status_id_str': None,\n",
        "                       u'in_reply_to_user_id': None,\n",
        "                       u'in_reply_to_user_id_str': None,\n",
        "                       u'lang': u'en',\n",
        "                       u'metadata': {u'iso_language_code': u'en',\n",
        "                                     u'result_type': u'recent'},\n",
        "                       u'place': None,\n",
        "                       u'possibly_sensitive': False,\n",
        "                       u'retweet_count': 1019,\n",
        "                       u'retweeted': False,\n",
        "                       u'source': u'<a href=\"http://adobe.com\" rel=\"nofollow\">Adobe\\xae Social</a>',\n",
        "                       u'text': u'Planet sees warmest September ever recorded, NASA data indicate http://t.co/jDpM9wmxTu http://t.co/2AL5UNB4df',\n",
        "                       u'truncated': False,\n",
        "                       u'user': {u'contributors_enabled': False,\n",
        "                                 u'created_at': u'Tue Mar 18 23:19:17 +0000 2008',\n",
        "                                 u'default_profile': False,\n",
        "                                 u'default_profile_image': False,\n",
        "                                 u'description': u'A leading source of global news and information for more than 75 years. Have a news tip or question? Ask @dubois, @jbaiata, @cdellaverson or @jilliansed.',\n",
        "                                 u'entities': {u'description': {u'urls': []},\n",
        "                                               u'url': {u'urls': [{u'display_url': u'NBCNews.com',\n",
        "                                                                   u'expanded_url': u'http://NBCNews.com',\n",
        "                                                                   u'indices': [0,\n",
        "                                                                                22],\n",
        "                                                                   u'url': u'http://t.co/UXSP362YuW'}]}},\n",
        "                                 u'favourites_count': 403,\n",
        "                                 u'follow_request_sent': None,\n",
        "                                 u'followers_count': 1834608,\n",
        "                                 u'following': None,\n",
        "                                 u'friends_count': 2897,\n",
        "                                 u'geo_enabled': False,\n",
        "                                 u'id': 14173315,\n",
        "                                 u'id_str': u'14173315',\n",
        "                                 u'is_translation_enabled': False,\n",
        "                                 u'is_translator': False,\n",
        "                                 u'lang': u'en',\n",
        "                                 u'listed_count': 23921,\n",
        "                                 u'location': u'New York, NY',\n",
        "                                 u'name': u'NBC News',\n",
        "                                 u'notifications': None,\n",
        "                                 u'profile_background_color': u'062131',\n",
        "                                 u'profile_background_image_url': u'http://pbs.twimg.com/profile_background_images/378800000181859512/-65VAaUv.jpeg',\n",
        "                                 u'profile_background_image_url_https': u'https://pbs.twimg.com/profile_background_images/378800000181859512/-65VAaUv.jpeg',\n",
        "                                 u'profile_background_tile': True,\n",
        "                                 u'profile_banner_url': u'https://pbs.twimg.com/profile_banners/14173315/1398265945',\n",
        "                                 u'profile_image_url': u'http://pbs.twimg.com/profile_images/459828346726010880/CrshV_Oa_normal.png',\n",
        "                                 u'profile_image_url_https': u'https://pbs.twimg.com/profile_images/459828346726010880/CrshV_Oa_normal.png',\n",
        "                                 u'profile_link_color': u'5172A0',\n",
        "                                 u'profile_location': None,\n",
        "                                 u'profile_sidebar_border_color': u'FFFFFF',\n",
        "                                 u'profile_sidebar_fill_color': u'FFFFFF',\n",
        "                                 u'profile_text_color': u'000000',\n",
        "                                 u'profile_use_background_image': True,\n",
        "                                 u'protected': False,\n",
        "                                 u'screen_name': u'NBCNews',\n",
        "                                 u'statuses_count': 41983,\n",
        "                                 u'time_zone': u'Eastern Time (US & Canada)',\n",
        "                                 u'url': u'http://t.co/UXSP362YuW',\n",
        "                                 u'utc_offset': -14400,\n",
        "                                 u'verified': True}},\n",
        " u'source': u'<a href=\"http://twitter.com/download/iphone\" rel=\"nofollow\">Twitter for iPhone</a>',\n",
        " u'text': u'RT @NBCNews: Planet sees warmest September ever recorded, NASA data indicate http://t.co/jDpM9wmxTu http://t.co/2AL5UNB4df',\n",
        " u'truncated': False,\n",
        " u'user': {u'contributors_enabled': False,\n",
        "           u'created_at': u'Mon Apr 26 03:25:29 +0000 2010',\n",
        "           u'default_profile': False,\n",
        "           u'default_profile_image': False,\n",
        "           u'description': u'Knicks \\u2022 Spurs \\u2022 Hornets',\n",
        "           u'entities': {u'description': {u'urls': []},\n",
        "                         u'url': {u'urls': [{u'display_url': u'instagram.com/alexcanales',\n",
        "                                             u'expanded_url': u'http://instagram.com/alexcanales',\n",
        "                                             u'indices': [0, 22],\n",
        "                                             u'url': u'http://t.co/Ou1vQNGD3P'}]}},\n",
        "           u'favourites_count': 9898,\n",
        "           u'follow_request_sent': None,\n",
        "           u'followers_count': 566,\n",
        "           u'following': None,\n",
        "           u'friends_count': 951,\n",
        "           u'geo_enabled': True,\n",
        "           u'id': 137204642,\n",
        "           u'id_str': u'137204642',\n",
        "           u'is_translation_enabled': False,\n",
        "           u'is_translator': False,\n",
        "           u'lang': u'en',\n",
        "           u'listed_count': 1,\n",
        "           u'location': u'Student of the game',\n",
        "           u'name': u'Alex Canales ',\n",
        "           u'notifications': None,\n",
        "           u'profile_background_color': u'131516',\n",
        "           u'profile_background_image_url': u'http://abs.twimg.com/images/themes/theme14/bg.gif',\n",
        "           u'profile_background_image_url_https': u'https://abs.twimg.com/images/themes/theme14/bg.gif',\n",
        "           u'profile_background_tile': True,\n",
        "           u'profile_banner_url': u'https://pbs.twimg.com/profile_banners/137204642/1406465640',\n",
        "           u'profile_image_url': u'http://pbs.twimg.com/profile_images/493378300434067456/Dtpegcm1_normal.jpeg',\n",
        "           u'profile_image_url_https': u'https://pbs.twimg.com/profile_images/493378300434067456/Dtpegcm1_normal.jpeg',\n",
        "           u'profile_link_color': u'009999',\n",
        "           u'profile_location': None,\n",
        "           u'profile_sidebar_border_color': u'EEEEEE',\n",
        "           u'profile_sidebar_fill_color': u'EFEFEF',\n",
        "           u'profile_text_color': u'333333',\n",
        "           u'profile_use_background_image': True,\n",
        "           u'protected': False,\n",
        "           u'screen_name': u'AlexCles',\n",
        "           u'statuses_count': 11033,\n",
        "           u'time_zone': u'Eastern Time (US & Canada)',\n",
        "           u'url': u'http://t.co/Ou1vQNGD3P',\n",
        "           u'utc_offset': -14400,\n",
        "           u'verified': False}}\n"
       ]
      }
     ],
     "prompt_number": 25
    },
    {
     "cell_type": "code",
     "collapsed": false,
     "input": [
      "# Extract the text and created_at fields and convert in pandas DataFrame\n",
      "tweets_df = pd.DataFrame(data['statuses'], columns=['created_at', 'text'])\n",
      "tweets_df"
     ],
     "language": "python",
     "metadata": {},
     "outputs": [
      {
       "html": [
        "<div style=\"max-height:1000px;max-width:1500px;overflow:auto;\">\n",
        "<table border=\"1\" class=\"dataframe\">\n",
        "  <thead>\n",
        "    <tr style=\"text-align: right;\">\n",
        "      <th></th>\n",
        "      <th>created_at</th>\n",
        "      <th>text</th>\n",
        "    </tr>\n",
        "  </thead>\n",
        "  <tbody>\n",
        "    <tr>\n",
        "      <th>0 </th>\n",
        "      <td> Wed Oct 15 16:54:43 +0000 2014</td>\n",
        "      <td> RT @NBCNews: Planet sees warmest September eve...</td>\n",
        "    </tr>\n",
        "    <tr>\n",
        "      <th>1 </th>\n",
        "      <td> Wed Oct 15 16:53:57 +0000 2014</td>\n",
        "      <td> Pour voir l'int\u00e9gralit\u00e9 du classement, c'est i...</td>\n",
        "    </tr>\n",
        "    <tr>\n",
        "      <th>2 </th>\n",
        "      <td> Wed Oct 15 16:53:56 +0000 2014</td>\n",
        "      <td> the #Oracle Data Science Daily is out! http://...</td>\n",
        "    </tr>\n",
        "    <tr>\n",
        "      <th>3 </th>\n",
        "      <td> Wed Oct 15 16:53:00 +0000 2014</td>\n",
        "      <td> RT @hmkyale: #YODAProject goes live: new era o...</td>\n",
        "    </tr>\n",
        "    <tr>\n",
        "      <th>4 </th>\n",
        "      <td> Wed Oct 15 16:52:16 +0000 2014</td>\n",
        "      <td> World class faculty in Finance, Data Science, ...</td>\n",
        "    </tr>\n",
        "    <tr>\n",
        "      <th>5 </th>\n",
        "      <td> Wed Oct 15 16:51:28 +0000 2014</td>\n",
        "      <td> RT @digiphile: Context for #CIMAevents on data...</td>\n",
        "    </tr>\n",
        "    <tr>\n",
        "      <th>6 </th>\n",
        "      <td> Wed Oct 15 16:51:23 +0000 2014</td>\n",
        "      <td> \u65b0\u7248\u500b\u8cc7\u6cd5\u4e0a\u8def\uff0c4\u500b\u91cd\u9ede\u30018\u5927\u6848\u4f8b\uff0c\u8a8d\u8b58\u7db2\u8def\u500b\u4eba\u8cc7\u6599\u4fdd\u8b77\u554f\u984c http://t.co/dqo...</td>\n",
        "    </tr>\n",
        "    <tr>\n",
        "      <th>7 </th>\n",
        "      <td> Wed Oct 15 16:50:27 +0000 2014</td>\n",
        "      <td> Kochava Assembles Powerhouse Executive Team an...</td>\n",
        "    </tr>\n",
        "    <tr>\n",
        "      <th>8 </th>\n",
        "      <td> Wed Oct 15 16:50:20 +0000 2014</td>\n",
        "      <td> New blog post: Working with external data and ...</td>\n",
        "    </tr>\n",
        "    <tr>\n",
        "      <th>9 </th>\n",
        "      <td> Wed Oct 15 16:50:09 +0000 2014</td>\n",
        "      <td> Solution #Expert, Life Science #Industry Job n...</td>\n",
        "    </tr>\n",
        "    <tr>\n",
        "      <th>10</th>\n",
        "      <td> Wed Oct 15 16:49:53 +0000 2014</td>\n",
        "      <td> @KristinTice H! Been reading your Fashion x Te...</td>\n",
        "    </tr>\n",
        "    <tr>\n",
        "      <th>11</th>\n",
        "      <td> Wed Oct 15 16:49:23 +0000 2014</td>\n",
        "      <td> Will Salesforce's New Analytics Cloud Make Wav...</td>\n",
        "    </tr>\n",
        "    <tr>\n",
        "      <th>12</th>\n",
        "      <td> Wed Oct 15 16:47:41 +0000 2014</td>\n",
        "      <td> RT @digiphile: Context for #CIMAevents on data...</td>\n",
        "    </tr>\n",
        "    <tr>\n",
        "      <th>13</th>\n",
        "      <td> Wed Oct 15 16:45:32 +0000 2014</td>\n",
        "      <td> Startup Crunches 100 Terabytes of Data in a Re...</td>\n",
        "    </tr>\n",
        "    <tr>\n",
        "      <th>14</th>\n",
        "      <td> Wed Oct 15 16:45:17 +0000 2014</td>\n",
        "      <td> RT @digiphile: Context for #CIMAevents on data...</td>\n",
        "    </tr>\n",
        "  </tbody>\n",
        "</table>\n",
        "</div>"
       ],
       "metadata": {},
       "output_type": "pyout",
       "prompt_number": 26,
       "text": [
        "                        created_at  \\\n",
        "0   Wed Oct 15 16:54:43 +0000 2014   \n",
        "1   Wed Oct 15 16:53:57 +0000 2014   \n",
        "2   Wed Oct 15 16:53:56 +0000 2014   \n",
        "3   Wed Oct 15 16:53:00 +0000 2014   \n",
        "4   Wed Oct 15 16:52:16 +0000 2014   \n",
        "5   Wed Oct 15 16:51:28 +0000 2014   \n",
        "6   Wed Oct 15 16:51:23 +0000 2014   \n",
        "7   Wed Oct 15 16:50:27 +0000 2014   \n",
        "8   Wed Oct 15 16:50:20 +0000 2014   \n",
        "9   Wed Oct 15 16:50:09 +0000 2014   \n",
        "10  Wed Oct 15 16:49:53 +0000 2014   \n",
        "11  Wed Oct 15 16:49:23 +0000 2014   \n",
        "12  Wed Oct 15 16:47:41 +0000 2014   \n",
        "13  Wed Oct 15 16:45:32 +0000 2014   \n",
        "14  Wed Oct 15 16:45:17 +0000 2014   \n",
        "\n",
        "                                                 text  \n",
        "0   RT @NBCNews: Planet sees warmest September eve...  \n",
        "1   Pour voir l'int\u00e9gralit\u00e9 du classement, c'est i...  \n",
        "2   the #Oracle Data Science Daily is out! http://...  \n",
        "3   RT @hmkyale: #YODAProject goes live: new era o...  \n",
        "4   World class faculty in Finance, Data Science, ...  \n",
        "5   RT @digiphile: Context for #CIMAevents on data...  \n",
        "6   \u65b0\u7248\u500b\u8cc7\u6cd5\u4e0a\u8def\uff0c4\u500b\u91cd\u9ede\u30018\u5927\u6848\u4f8b\uff0c\u8a8d\u8b58\u7db2\u8def\u500b\u4eba\u8cc7\u6599\u4fdd\u8b77\u554f\u984c http://t.co/dqo...  \n",
        "7   Kochava Assembles Powerhouse Executive Team an...  \n",
        "8   New blog post: Working with external data and ...  \n",
        "9   Solution #Expert, Life Science #Industry Job n...  \n",
        "10  @KristinTice H! Been reading your Fashion x Te...  \n",
        "11  Will Salesforce's New Analytics Cloud Make Wav...  \n",
        "12  RT @digiphile: Context for #CIMAevents on data...  \n",
        "13  Startup Crunches 100 Terabytes of Data in a Re...  \n",
        "14  RT @digiphile: Context for #CIMAevents on data...  "
       ]
      }
     ],
     "prompt_number": 26
    },
    {
     "cell_type": "code",
     "collapsed": false,
     "input": [
      "url = 'https://api.twitter.com/1.1/search/tweets.json?q=%23datascience'  # search for the hashtag #datascience\n",
      "request = Request(url)\n",
      "request.add_header('Authorization', 'Bearer %s' % bearer_token)  # use the bearer token from Step 2\n",
      "response = urlopen(request)  # make the request\n",
      "raw_data = response.read().decode('utf-8')  # results in raw JSON\n",
      "data = json.loads(raw_data)  # decode JSON into Python data structures\n",
      "hashtag_tweets_df = pd.DataFrame(data['statuses'], columns=['created_at', 'text'])\n",
      "hashtag_tweets_df"
     ],
     "language": "python",
     "metadata": {},
     "outputs": [
      {
       "html": [
        "<div style=\"max-height:1000px;max-width:1500px;overflow:auto;\">\n",
        "<table border=\"1\" class=\"dataframe\">\n",
        "  <thead>\n",
        "    <tr style=\"text-align: right;\">\n",
        "      <th></th>\n",
        "      <th>created_at</th>\n",
        "      <th>text</th>\n",
        "    </tr>\n",
        "  </thead>\n",
        "  <tbody>\n",
        "    <tr>\n",
        "      <th>0 </th>\n",
        "      <td> Wed Oct 15 16:58:50 +0000 2014</td>\n",
        "      <td> Follow @TedOBrien93 the head of our #DataScien...</td>\n",
        "    </tr>\n",
        "    <tr>\n",
        "      <th>1 </th>\n",
        "      <td> Wed Oct 15 16:58:07 +0000 2014</td>\n",
        "      <td>  @NetworkFact everything fact really #datascience</td>\n",
        "    </tr>\n",
        "    <tr>\n",
        "      <th>2 </th>\n",
        "      <td> Wed Oct 15 16:57:03 +0000 2014</td>\n",
        "      <td> RT @GilPress: Most companies analyze a mere 12...</td>\n",
        "    </tr>\n",
        "    <tr>\n",
        "      <th>3 </th>\n",
        "      <td> Wed Oct 15 16:53:15 +0000 2014</td>\n",
        "      <td> RT @mjcavaretta: RT @kbreitman: Book: #DataMin...</td>\n",
        "    </tr>\n",
        "    <tr>\n",
        "      <th>4 </th>\n",
        "      <td> Wed Oct 15 16:49:12 +0000 2014</td>\n",
        "      <td> RT @kbreitman: Book: #DataMining with #Rattle ...</td>\n",
        "    </tr>\n",
        "    <tr>\n",
        "      <th>5 </th>\n",
        "      <td> Wed Oct 15 16:43:58 +0000 2014</td>\n",
        "      <td> RT @GilPress: Most companies analyze a mere 12...</td>\n",
        "    </tr>\n",
        "    <tr>\n",
        "      <th>6 </th>\n",
        "      <td> Wed Oct 15 16:43:56 +0000 2014</td>\n",
        "      <td> RT@devonkirschmann: gotta love #datascience di...</td>\n",
        "    </tr>\n",
        "    <tr>\n",
        "      <th>7 </th>\n",
        "      <td> Wed Oct 15 16:40:00 +0000 2014</td>\n",
        "      <td> RT @tinagroves: @jeggers describes how, unlike...</td>\n",
        "    </tr>\n",
        "    <tr>\n",
        "      <th>8 </th>\n",
        "      <td> Wed Oct 15 16:39:50 +0000 2014</td>\n",
        "      <td> RT @BigDataTechCon: Why Do We Need #DataScienc...</td>\n",
        "    </tr>\n",
        "    <tr>\n",
        "      <th>9 </th>\n",
        "      <td> Wed Oct 15 16:39:37 +0000 2014</td>\n",
        "      <td> RT @devonkirschmann: gotta love #datascience #...</td>\n",
        "    </tr>\n",
        "    <tr>\n",
        "      <th>10</th>\n",
        "      <td> Wed Oct 15 16:38:32 +0000 2014</td>\n",
        "      <td> RT @lindz: RT@devonkirschmann: gotta love #dat...</td>\n",
        "    </tr>\n",
        "    <tr>\n",
        "      <th>11</th>\n",
        "      <td> Wed Oct 15 16:37:37 +0000 2014</td>\n",
        "      <td> RT@devonkirschmann: gotta love #datascience #d...</td>\n",
        "    </tr>\n",
        "    <tr>\n",
        "      <th>12</th>\n",
        "      <td> Wed Oct 15 16:36:52 +0000 2014</td>\n",
        "      <td> Good read RT @kleaf: Building better sales org...</td>\n",
        "    </tr>\n",
        "    <tr>\n",
        "      <th>13</th>\n",
        "      <td> Wed Oct 15 16:36:41 +0000 2014</td>\n",
        "      <td> RT @MDM_SDP: Disruption Coming For MDM  - http...</td>\n",
        "    </tr>\n",
        "    <tr>\n",
        "      <th>14</th>\n",
        "      <td> Wed Oct 15 16:35:48 +0000 2014</td>\n",
        "      <td>      RT @devonkirschmann: gotta love #datascience</td>\n",
        "    </tr>\n",
        "  </tbody>\n",
        "</table>\n",
        "</div>"
       ],
       "metadata": {},
       "output_type": "pyout",
       "prompt_number": 27,
       "text": [
        "                        created_at  \\\n",
        "0   Wed Oct 15 16:58:50 +0000 2014   \n",
        "1   Wed Oct 15 16:58:07 +0000 2014   \n",
        "2   Wed Oct 15 16:57:03 +0000 2014   \n",
        "3   Wed Oct 15 16:53:15 +0000 2014   \n",
        "4   Wed Oct 15 16:49:12 +0000 2014   \n",
        "5   Wed Oct 15 16:43:58 +0000 2014   \n",
        "6   Wed Oct 15 16:43:56 +0000 2014   \n",
        "7   Wed Oct 15 16:40:00 +0000 2014   \n",
        "8   Wed Oct 15 16:39:50 +0000 2014   \n",
        "9   Wed Oct 15 16:39:37 +0000 2014   \n",
        "10  Wed Oct 15 16:38:32 +0000 2014   \n",
        "11  Wed Oct 15 16:37:37 +0000 2014   \n",
        "12  Wed Oct 15 16:36:52 +0000 2014   \n",
        "13  Wed Oct 15 16:36:41 +0000 2014   \n",
        "14  Wed Oct 15 16:35:48 +0000 2014   \n",
        "\n",
        "                                                 text  \n",
        "0   Follow @TedOBrien93 the head of our #DataScien...  \n",
        "1    @NetworkFact everything fact really #datascience  \n",
        "2   RT @GilPress: Most companies analyze a mere 12...  \n",
        "3   RT @mjcavaretta: RT @kbreitman: Book: #DataMin...  \n",
        "4   RT @kbreitman: Book: #DataMining with #Rattle ...  \n",
        "5   RT @GilPress: Most companies analyze a mere 12...  \n",
        "6   RT@devonkirschmann: gotta love #datascience di...  \n",
        "7   RT @tinagroves: @jeggers describes how, unlike...  \n",
        "8   RT @BigDataTechCon: Why Do We Need #DataScienc...  \n",
        "9   RT @devonkirschmann: gotta love #datascience #...  \n",
        "10  RT @lindz: RT@devonkirschmann: gotta love #dat...  \n",
        "11  RT@devonkirschmann: gotta love #datascience #d...  \n",
        "12  Good read RT @kleaf: Building better sales org...  \n",
        "13  RT @MDM_SDP: Disruption Coming For MDM  - http...  \n",
        "14       RT @devonkirschmann: gotta love #datascience  "
       ]
      }
     ],
     "prompt_number": 27
    },
    {
     "cell_type": "code",
     "collapsed": false,
     "input": [
      "# clean up temporary files in the end\n",
      "!rm math.csv"
     ],
     "language": "python",
     "metadata": {},
     "outputs": [],
     "prompt_number": 28
    }
   ],
   "metadata": {}
  }
 ]
}