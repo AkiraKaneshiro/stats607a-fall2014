{
 "metadata": {
  "name": "",
  "signature": "sha256:76012935e088078dff47ea5f7aaaf191c41734aa927b5315a77164382d3f6eea"
 },
 "nbformat": 3,
 "nbformat_minor": 0,
 "worksheets": [
  {
   "cells": [
    {
     "cell_type": "markdown",
     "metadata": {},
     "source": [
      "Today we'll cover:\n",
      "\n",
      "1. [Running OS (operating system) commands](#OS-interface)\n",
      "2. [Handling command line arguments](#Command-line-arguments)\n",
      "3. [Pattern matching](#Pattern-matching)\n",
      "4. [Dates and times](#Dates-and-times)\n",
      "5. [Performance measurement](#Performance-measurement)"
     ]
    },
    {
     "cell_type": "heading",
     "level": 1,
     "metadata": {},
     "source": [
      "OS interface"
     ]
    },
    {
     "cell_type": "code",
     "collapsed": false,
     "input": [
      "import os"
     ],
     "language": "python",
     "metadata": {},
     "outputs": [],
     "prompt_number": 2
    },
    {
     "cell_type": "code",
     "collapsed": false,
     "input": [
      "os.getcwd()"
     ],
     "language": "python",
     "metadata": {},
     "outputs": [
      {
       "metadata": {},
       "output_type": "pyout",
       "prompt_number": 6,
       "text": [
        "'/Users/tewaria/Development/stats607a-fall2014'"
       ]
      }
     ],
     "prompt_number": 6
    },
    {
     "cell_type": "code",
     "collapsed": false,
     "input": [
      "os.chdir('homeworks')"
     ],
     "language": "python",
     "metadata": {},
     "outputs": [],
     "prompt_number": 7
    },
    {
     "cell_type": "code",
     "collapsed": false,
     "input": [
      "os.getcwd()"
     ],
     "language": "python",
     "metadata": {},
     "outputs": [
      {
       "metadata": {},
       "output_type": "pyout",
       "prompt_number": 10,
       "text": [
        "'/Users/tewaria/Development/stats607a-fall2014/homeworks'"
       ]
      }
     ],
     "prompt_number": 10
    },
    {
     "cell_type": "code",
     "collapsed": false,
     "input": [
      "os.chdir('..') # change directory to parent directory"
     ],
     "language": "python",
     "metadata": {},
     "outputs": [],
     "prompt_number": 11
    },
    {
     "cell_type": "code",
     "collapsed": false,
     "input": [
      "os.getcwd()"
     ],
     "language": "python",
     "metadata": {},
     "outputs": [
      {
       "metadata": {},
       "output_type": "pyout",
       "prompt_number": 14,
       "text": [
        "'/Users/tewaria/Development/stats607a-fall2014'"
       ]
      }
     ],
     "prompt_number": 14
    },
    {
     "cell_type": "code",
     "collapsed": false,
     "input": [
      "[os.getenv(var) for var in ['HOME', 'PATH']] # return the environment variables HOME and PATH"
     ],
     "language": "python",
     "metadata": {},
     "outputs": [
      {
       "metadata": {},
       "output_type": "pyout",
       "prompt_number": 17,
       "text": [
        "['/Users/tewaria',\n",
        " '/Users/tewaria/anaconda/bin:/opt/local/bin:/opt/local/sbin:/usr/bin:/bin:/usr/sbin:/sbin:/usr/local/bin:/opt/X11/bin:/usr/local/munki:/usr/texbin']"
       ]
      }
     ],
     "prompt_number": 17
    },
    {
     "cell_type": "markdown",
     "metadata": {},
     "source": [
      "You can list files in a directory using `listdir`."
     ]
    },
    {
     "cell_type": "code",
     "collapsed": false,
     "input": [
      "os.listdir('homeworks') # list files in directory homeworks"
     ],
     "language": "python",
     "metadata": {},
     "outputs": [
      {
       "metadata": {},
       "output_type": "pyout",
       "prompt_number": 23,
       "text": [
        "['assignment_one_kmeans.py',\n",
        " 'assignment_one_nbayes.py',\n",
        " 'assignment_one_optimization.py',\n",
        " 'datasets',\n",
        " 'hw1.aux',\n",
        " 'hw1.log',\n",
        " 'hw1.out',\n",
        " 'hw1.pdf',\n",
        " 'hw1.synctex.gz',\n",
        " 'hw1.tex',\n",
        " 'hw1_ver1.0.pdf',\n",
        " 'seeds_dataset.txt',\n",
        " 'stats607-header.tex']"
       ]
      }
     ],
     "prompt_number": 23
    },
    {
     "cell_type": "heading",
     "level": 1,
     "metadata": {},
     "source": [
      "Command line arguments"
     ]
    },
    {
     "cell_type": "markdown",
     "metadata": {},
     "source": [
      "When you run a command on the OS shell, such as `ls -l -a`, the arguments supplied to it (`-l` and `-a` in this case) are called command line arguments.\n",
      "\n",
      "Now let us put the following python commands in a script called `print_cmdline_args.py`:\n",
      "\n",
      "    import sys\n",
      "    \n",
      "    print 'This python\\'s script name is ' + sys.argv[0]\n",
      "    \n",
      "    if len(sys.argv) > 1:\n",
      "        print 'It was called with the following arguments:',\n",
      "        for arg in sys.argv[1:]:\n",
      "            print arg,\n",
      "        print\n",
      "    else:\n",
      "        print 'It was called with no arguments.'"
     ]
    },
    {
     "cell_type": "code",
     "collapsed": false,
     "input": [
      "os.system('python print_cmdline_args.py')"
     ],
     "language": "python",
     "metadata": {},
     "outputs": [
      {
       "metadata": {},
       "output_type": "pyout",
       "prompt_number": 24,
       "text": [
        "0"
       ]
      }
     ],
     "prompt_number": 24
    },
    {
     "cell_type": "markdown",
     "metadata": {},
     "source": [
      "Well... That just told us that the command executed successfully. What if we want to see the output?"
     ]
    },
    {
     "cell_type": "code",
     "collapsed": false,
     "input": [
      "print os.popen('python print_cmdline_args.py').read()"
     ],
     "language": "python",
     "metadata": {},
     "outputs": [
      {
       "output_type": "stream",
       "stream": "stdout",
       "text": [
        "This python's script name is print_cmdline_args.py\n",
        "It was called with no arguments.\n",
        "\n"
       ]
      }
     ],
     "prompt_number": 28
    },
    {
     "cell_type": "markdown",
     "metadata": {},
     "source": [
      "In Python 2.7 or later, one can also use the `subprocess.check_output()` function from the `subprocess` module.\n",
      "Let us now call the script with some arguments."
     ]
    },
    {
     "cell_type": "code",
     "collapsed": false,
     "input": [
      "print os.popen('python print_cmdline_args.py having arguments that enlighten are fun in scripts as well as in life!').read()"
     ],
     "language": "python",
     "metadata": {},
     "outputs": [
      {
       "output_type": "stream",
       "stream": "stdout",
       "text": [
        "This python's script name is print_cmdline_args.py\n",
        "It was called with the following arguments: having arguments that enlighten are fun in scripts as well as in life!\n",
        "\n"
       ]
      }
     ],
     "prompt_number": 32
    },
    {
     "cell_type": "code",
     "collapsed": false,
     "input": [],
     "language": "python",
     "metadata": {},
     "outputs": []
    },
    {
     "cell_type": "heading",
     "level": 1,
     "metadata": {},
     "source": [
      "Pattern matching"
     ]
    },
    {
     "cell_type": "heading",
     "level": 1,
     "metadata": {},
     "source": [
      "Dates and times"
     ]
    },
    {
     "cell_type": "heading",
     "level": 1,
     "metadata": {},
     "source": [
      "Performance measurement"
     ]
    },
    {
     "cell_type": "code",
     "collapsed": false,
     "input": [],
     "language": "python",
     "metadata": {},
     "outputs": []
    }
   ],
   "metadata": {}
  }
 ]
}