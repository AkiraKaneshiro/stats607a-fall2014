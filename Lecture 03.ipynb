{
 "metadata": {
  "name": "",
  "signature": "sha256:488b4aa8d3260bae699f4b848d9841a5f9b90a0a858bf5f625216c63a2ab42d2"
 },
 "nbformat": 3,
 "nbformat_minor": 0,
 "worksheets": [
  {
   "cells": [
    {
     "cell_type": "markdown",
     "metadata": {},
     "source": [
      "Today we'll cover:\n",
      "\n",
      "1. [Running OS (operating system) commands](#OS-interface)\n",
      "2. [Handling command line arguments](#Command-line-arguments)\n",
      "3. [Pattern matching](#Pattern-matching)\n",
      "4. [Dates and times](#Dates-and-times)\n",
      "5. [Performance measurement](#Performance-measurement)"
     ]
    },
    {
     "cell_type": "heading",
     "level": 1,
     "metadata": {},
     "source": [
      "OS interface"
     ]
    },
    {
     "cell_type": "heading",
     "level": 1,
     "metadata": {},
     "source": [
      "Command line arguments"
     ]
    },
    {
     "cell_type": "heading",
     "level": 1,
     "metadata": {},
     "source": [
      "Pattern matching"
     ]
    },
    {
     "cell_type": "heading",
     "level": 1,
     "metadata": {},
     "source": [
      "Dates and times"
     ]
    },
    {
     "cell_type": "heading",
     "level": 1,
     "metadata": {},
     "source": [
      "Performance measurement"
     ]
    },
    {
     "cell_type": "code",
     "collapsed": false,
     "input": [],
     "language": "python",
     "metadata": {},
     "outputs": []
    }
   ],
   "metadata": {}
  }
 ]
}