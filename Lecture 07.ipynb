{
 "metadata": {
  "name": "",
  "signature": "sha256:82ee4b9ca9157928979504134763b8b209ec795da706ac675c5205f4a3e8bf43"
 },
 "nbformat": 3,
 "nbformat_minor": 0,
 "worksheets": [
  {
   "cells": [
    {
     "cell_type": "markdown",
     "metadata": {},
     "source": [
      "Today we'll cover:\n",
      "\n",
      "1. [Optimization and root finding](#Optimization-and-root-finding)\n",
      "2. [Special functions](#Special-functions)\n",
      "3. [Statistical functions](#Statistical-functions)"
     ]
    },
    {
     "cell_type": "heading",
     "level": 1,
     "metadata": {},
     "source": [
      "Optimization and root finding"
     ]
    },
    {
     "cell_type": "heading",
     "level": 1,
     "metadata": {},
     "source": [
      "Special functions"
     ]
    },
    {
     "cell_type": "heading",
     "level": 1,
     "metadata": {},
     "source": [
      "Statistical functions"
     ]
    }
   ],
   "metadata": {}
  }
 ]
}