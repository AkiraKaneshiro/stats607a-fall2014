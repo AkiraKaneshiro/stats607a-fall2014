{
 "metadata": {
  "name": "",
  "signature": "sha256:2adef0e5b124f766774fb1d980f257d23a7fa8a8390d3974c0b6145c8536ca7d"
 },
 "nbformat": 3,
 "nbformat_minor": 0,
 "worksheets": [
  {
   "cells": [
    {
     "cell_type": "markdown",
     "metadata": {},
     "source": [
      "Today we'll cover:\n",
      "\n",
      "1. [More operations on lists](#More-operations-on-lists)\n",
      "2. Tuples and Sequences\n",
      "3. Sets\n",
      "4. Dictionaries\n",
      "5. Looping techniques\n"
     ]
    },
    {
     "cell_type": "heading",
     "level": 1,
     "metadata": {},
     "source": [
      "More operations on lists"
     ]
    },
    {
     "cell_type": "code",
     "collapsed": false,
     "input": [
      "planets = [\"mercury\", \"venus\", \"earth\"]"
     ],
     "language": "python",
     "metadata": {},
     "outputs": [],
     "prompt_number": 1
    },
    {
     "cell_type": "code",
     "collapsed": false,
     "input": [
      "print planets"
     ],
     "language": "python",
     "metadata": {},
     "outputs": [
      {
       "output_type": "stream",
       "stream": "stdout",
       "text": [
        "['mercury', 'venus', 'earth']\n"
       ]
      }
     ],
     "prompt_number": 2
    },
    {
     "cell_type": "code",
     "collapsed": false,
     "input": [
      "planets.append(\"mars\") # adds a single element at the end"
     ],
     "language": "python",
     "metadata": {},
     "outputs": [],
     "prompt_number": 3
    },
    {
     "cell_type": "code",
     "collapsed": false,
     "input": [
      "print planets"
     ],
     "language": "python",
     "metadata": {},
     "outputs": [
      {
       "output_type": "stream",
       "stream": "stdout",
       "text": [
        "['mercury', 'venus', 'earth', 'mars']\n"
       ]
      }
     ],
     "prompt_number": 4
    },
    {
     "cell_type": "code",
     "collapsed": false,
     "input": [
      "planets.extend([\"jupiter\", \"saturn\", \"uranus\", \"pluto\"])"
     ],
     "language": "python",
     "metadata": {},
     "outputs": [],
     "prompt_number": 5
    },
    {
     "cell_type": "code",
     "collapsed": false,
     "input": [
      "print planets"
     ],
     "language": "python",
     "metadata": {},
     "outputs": [
      {
       "output_type": "stream",
       "stream": "stdout",
       "text": [
        "['mercury', 'venus', 'earth', 'mars', 'jupiter', 'saturn', 'uranus', 'pluto']\n"
       ]
      }
     ],
     "prompt_number": 6
    },
    {
     "cell_type": "markdown",
     "metadata": {},
     "source": [
      "They removed Pluto from the list of planets. See this [wikipedia page](http://en.wikipedia.org/wiki/Pluto#2006:_IAU_classification). We'll do the same. One way is to remove it by value."
     ]
    },
    {
     "cell_type": "code",
     "collapsed": false,
     "input": [
      "planets.remove(\"pluto\")"
     ],
     "language": "python",
     "metadata": {},
     "outputs": [],
     "prompt_number": 7
    },
    {
     "cell_type": "code",
     "collapsed": false,
     "input": [
      "print planets"
     ],
     "language": "python",
     "metadata": {},
     "outputs": [
      {
       "output_type": "stream",
       "stream": "stdout",
       "text": [
        "['mercury', 'venus', 'earth', 'mars', 'jupiter', 'saturn', 'uranus']\n"
       ]
      }
     ],
     "prompt_number": 8
    },
    {
     "cell_type": "markdown",
     "metadata": {},
     "source": [
      "Let's put it back in, this time using the `insert` method."
     ]
    },
    {
     "cell_type": "code",
     "collapsed": false,
     "input": [
      "planets.insert(7,\"pluto\")"
     ],
     "language": "python",
     "metadata": {},
     "outputs": [],
     "prompt_number": 9
    },
    {
     "cell_type": "code",
     "collapsed": false,
     "input": [
      "print planets"
     ],
     "language": "python",
     "metadata": {},
     "outputs": [
      {
       "output_type": "stream",
       "stream": "stdout",
       "text": [
        "['mercury', 'venus', 'earth', 'mars', 'jupiter', 'saturn', 'uranus', 'pluto']\n"
       ]
      }
     ],
     "prompt_number": 10
    },
    {
     "cell_type": "markdown",
     "metadata": {},
     "source": [
      "We've already seen another way to remove an item from the end of a list."
     ]
    },
    {
     "cell_type": "code",
     "collapsed": false,
     "input": [
      "print planets.pop()"
     ],
     "language": "python",
     "metadata": {},
     "outputs": [
      {
       "output_type": "stream",
       "stream": "stdout",
       "text": [
        "pluto\n"
       ]
      }
     ],
     "prompt_number": 11
    },
    {
     "cell_type": "markdown",
     "metadata": {},
     "source": [
      "Note that, unlike, `remove`, `pop` also returns the removed element. Also, it removes using indices, not values."
     ]
    },
    {
     "cell_type": "code",
     "collapsed": false,
     "input": [
      "print planets.pop(2) # will remove 'earth'"
     ],
     "language": "python",
     "metadata": {},
     "outputs": [
      {
       "output_type": "stream",
       "stream": "stdout",
       "text": [
        "earth\n"
       ]
      }
     ],
     "prompt_number": 12
    },
    {
     "cell_type": "code",
     "collapsed": false,
     "input": [
      "print planets"
     ],
     "language": "python",
     "metadata": {},
     "outputs": [
      {
       "output_type": "stream",
       "stream": "stdout",
       "text": [
        "['mercury', 'venus', 'mars', 'jupiter', 'saturn', 'uranus']\n"
       ]
      }
     ],
     "prompt_number": 13
    },
    {
     "cell_type": "markdown",
     "metadata": {},
     "source": [
      "Now let's put Earth back in."
     ]
    },
    {
     "cell_type": "code",
     "collapsed": false,
     "input": [
      "planets.insert(2,\"earth\")"
     ],
     "language": "python",
     "metadata": {},
     "outputs": [],
     "prompt_number": 14
    },
    {
     "cell_type": "code",
     "collapsed": false,
     "input": [
      "print planets"
     ],
     "language": "python",
     "metadata": {},
     "outputs": [
      {
       "output_type": "stream",
       "stream": "stdout",
       "text": [
        "['mercury', 'venus', 'earth', 'mars', 'jupiter', 'saturn', 'uranus']\n"
       ]
      }
     ],
     "prompt_number": 15
    },
    {
     "cell_type": "code",
     "collapsed": false,
     "input": [],
     "language": "python",
     "metadata": {},
     "outputs": []
    }
   ],
   "metadata": {}
  }
 ]
}