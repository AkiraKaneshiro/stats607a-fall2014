{
 "metadata": {
  "name": "",
  "signature": "sha256:8bb31e28b2053e600b3e7c046fc9d2f21d98c746d435fc26120f7f8cea68fa8d"
 },
 "nbformat": 3,
 "nbformat_minor": 0,
 "worksheets": [
  {
   "cells": [
    {
     "cell_type": "markdown",
     "metadata": {},
     "source": [
      "Today we'll cover:\n",
      "\n",
      "1. [More operations on lists](#More-operations-on-lists)\n",
      "2. [Tuples](#Tuples)\n",
      "3. [Sets](#Sets)\n",
      "4. [Dictionaries](#Dictionaries)\n",
      "5. [Looping techniques](#Looping-techniques)\n",
      "\n",
      "\n"
     ]
    },
    {
     "cell_type": "heading",
     "level": 1,
     "metadata": {},
     "source": [
      "More operations on lists"
     ]
    },
    {
     "cell_type": "code",
     "collapsed": false,
     "input": [
      "planets = [\"mercury\", \"venus\", \"earth\"]"
     ],
     "language": "python",
     "metadata": {},
     "outputs": [],
     "prompt_number": 1
    },
    {
     "cell_type": "code",
     "collapsed": false,
     "input": [
      "print planets"
     ],
     "language": "python",
     "metadata": {},
     "outputs": [
      {
       "output_type": "stream",
       "stream": "stdout",
       "text": [
        "['mercury', 'venus', 'earth']\n"
       ]
      }
     ],
     "prompt_number": 2
    },
    {
     "cell_type": "code",
     "collapsed": false,
     "input": [
      "planets.append(\"mars\") # adds a single element at the end"
     ],
     "language": "python",
     "metadata": {},
     "outputs": [],
     "prompt_number": 3
    },
    {
     "cell_type": "code",
     "collapsed": false,
     "input": [
      "print planets"
     ],
     "language": "python",
     "metadata": {},
     "outputs": [
      {
       "output_type": "stream",
       "stream": "stdout",
       "text": [
        "['mercury', 'venus', 'earth', 'mars']\n"
       ]
      }
     ],
     "prompt_number": 4
    },
    {
     "cell_type": "code",
     "collapsed": false,
     "input": [
      "planets.extend([\"jupiter\", \"saturn\", \"uranus\", \"pluto\"])"
     ],
     "language": "python",
     "metadata": {},
     "outputs": [],
     "prompt_number": 5
    },
    {
     "cell_type": "code",
     "collapsed": false,
     "input": [
      "print planets"
     ],
     "language": "python",
     "metadata": {},
     "outputs": [
      {
       "output_type": "stream",
       "stream": "stdout",
       "text": [
        "['mercury', 'venus', 'earth', 'mars', 'jupiter', 'saturn', 'uranus', 'pluto']\n"
       ]
      }
     ],
     "prompt_number": 6
    },
    {
     "cell_type": "markdown",
     "metadata": {},
     "source": [
      "They removed Pluto from the list of planets. See this [wikipedia page](http://en.wikipedia.org/wiki/Pluto#2006:_IAU_classification). We'll do the same. One way is to remove it by value."
     ]
    },
    {
     "cell_type": "code",
     "collapsed": false,
     "input": [
      "planets.remove(\"pluto\")"
     ],
     "language": "python",
     "metadata": {},
     "outputs": [],
     "prompt_number": 7
    },
    {
     "cell_type": "code",
     "collapsed": false,
     "input": [
      "print planets"
     ],
     "language": "python",
     "metadata": {},
     "outputs": [
      {
       "output_type": "stream",
       "stream": "stdout",
       "text": [
        "['mercury', 'venus', 'earth', 'mars', 'jupiter', 'saturn', 'uranus']\n"
       ]
      }
     ],
     "prompt_number": 8
    },
    {
     "cell_type": "markdown",
     "metadata": {},
     "source": [
      "Let's put it back in, this time using the `insert` method."
     ]
    },
    {
     "cell_type": "code",
     "collapsed": false,
     "input": [
      "planets.insert(7,\"pluto\")"
     ],
     "language": "python",
     "metadata": {},
     "outputs": [],
     "prompt_number": 9
    },
    {
     "cell_type": "code",
     "collapsed": false,
     "input": [
      "print planets"
     ],
     "language": "python",
     "metadata": {},
     "outputs": [
      {
       "output_type": "stream",
       "stream": "stdout",
       "text": [
        "['mercury', 'venus', 'earth', 'mars', 'jupiter', 'saturn', 'uranus', 'pluto']\n"
       ]
      }
     ],
     "prompt_number": 10
    },
    {
     "cell_type": "markdown",
     "metadata": {},
     "source": [
      "We've already seen another way to remove an item from the end of a list."
     ]
    },
    {
     "cell_type": "code",
     "collapsed": false,
     "input": [
      "print planets.pop()"
     ],
     "language": "python",
     "metadata": {},
     "outputs": [
      {
       "output_type": "stream",
       "stream": "stdout",
       "text": [
        "pluto\n"
       ]
      }
     ],
     "prompt_number": 11
    },
    {
     "cell_type": "markdown",
     "metadata": {},
     "source": [
      "Note that, unlike, `remove`, `pop` also returns the removed element. Also, it removes using indices, not values."
     ]
    },
    {
     "cell_type": "code",
     "collapsed": false,
     "input": [
      "print planets.pop(2) # will remove 'earth'"
     ],
     "language": "python",
     "metadata": {},
     "outputs": [
      {
       "output_type": "stream",
       "stream": "stdout",
       "text": [
        "earth\n"
       ]
      }
     ],
     "prompt_number": 12
    },
    {
     "cell_type": "code",
     "collapsed": false,
     "input": [
      "print planets"
     ],
     "language": "python",
     "metadata": {},
     "outputs": [
      {
       "output_type": "stream",
       "stream": "stdout",
       "text": [
        "['mercury', 'venus', 'mars', 'jupiter', 'saturn', 'uranus']\n"
       ]
      }
     ],
     "prompt_number": 13
    },
    {
     "cell_type": "markdown",
     "metadata": {},
     "source": [
      "Now let's put Earth back in."
     ]
    },
    {
     "cell_type": "code",
     "collapsed": false,
     "input": [
      "planets.insert(2,\"earth\")"
     ],
     "language": "python",
     "metadata": {},
     "outputs": [],
     "prompt_number": 14
    },
    {
     "cell_type": "code",
     "collapsed": false,
     "input": [
      "print planets"
     ],
     "language": "python",
     "metadata": {},
     "outputs": [
      {
       "output_type": "stream",
       "stream": "stdout",
       "text": [
        "['mercury', 'venus', 'earth', 'mars', 'jupiter', 'saturn', 'uranus']\n"
       ]
      }
     ],
     "prompt_number": 15
    },
    {
     "cell_type": "markdown",
     "metadata": {},
     "source": [
      "Let's sort the planets by their names. Note that `sort` does not return a new list. Instead, it sorts the list in place."
     ]
    },
    {
     "cell_type": "code",
     "collapsed": false,
     "input": [
      "print planets.sort()"
     ],
     "language": "python",
     "metadata": {},
     "outputs": [
      {
       "output_type": "stream",
       "stream": "stdout",
       "text": [
        "None\n"
       ]
      }
     ],
     "prompt_number": 16
    },
    {
     "cell_type": "code",
     "collapsed": false,
     "input": [
      "print planets"
     ],
     "language": "python",
     "metadata": {},
     "outputs": [
      {
       "output_type": "stream",
       "stream": "stdout",
       "text": [
        "['earth', 'jupiter', 'mars', 'mercury', 'saturn', 'uranus', 'venus']\n"
       ]
      }
     ],
     "prompt_number": 17
    },
    {
     "cell_type": "markdown",
     "metadata": {},
     "source": [
      "Similarly, `reverse` reverse a list in place."
     ]
    },
    {
     "cell_type": "code",
     "collapsed": false,
     "input": [
      "print planets.reverse()"
     ],
     "language": "python",
     "metadata": {},
     "outputs": [
      {
       "output_type": "stream",
       "stream": "stdout",
       "text": [
        "None\n"
       ]
      }
     ],
     "prompt_number": 18
    },
    {
     "cell_type": "code",
     "collapsed": false,
     "input": [
      "print planets"
     ],
     "language": "python",
     "metadata": {},
     "outputs": [
      {
       "output_type": "stream",
       "stream": "stdout",
       "text": [
        "['venus', 'uranus', 'saturn', 'mercury', 'mars', 'jupiter', 'earth']\n"
       ]
      }
     ],
     "prompt_number": 19
    },
    {
     "cell_type": "markdown",
     "metadata": {},
     "source": [
      "Note that inserting and deleting elements from the *end* of a list is much more efficient compared to the same operations done at the *beginning* of a list."
     ]
    },
    {
     "cell_type": "code",
     "collapsed": false,
     "input": [
      "def insert_and_remove_at_end(mylist, n):\n",
      "    \"\"\" Insert and removing a dummy element, 'pluto', at the end of the list mylist.\"\"\"\n",
      "    \n",
      "    for i in range(n):\n",
      "        mylist.append('pluto')\n",
      "        mylist.pop()"
     ],
     "language": "python",
     "metadata": {},
     "outputs": [],
     "prompt_number": 32
    },
    {
     "cell_type": "code",
     "collapsed": false,
     "input": [
      "def insert_and_remove_at_beginning(mylist, n):\n",
      "    \"\"\" Insert and removing a dummy element, 'pluto', at the beginning of the list mylist.\"\"\"\n",
      "    \n",
      "    for i in range(n):\n",
      "        mylist.insert(0,'pluto')\n",
      "        mylist.pop(0)"
     ],
     "language": "python",
     "metadata": {},
     "outputs": [],
     "prompt_number": 41
    },
    {
     "cell_type": "markdown",
     "metadata": {},
     "source": [
      "Let's import the time module"
     ]
    },
    {
     "cell_type": "code",
     "collapsed": false,
     "input": [
      "import time"
     ],
     "language": "python",
     "metadata": {},
     "outputs": [],
     "prompt_number": 34
    },
    {
     "cell_type": "markdown",
     "metadata": {},
     "source": [
      "Now we'll time the executing of the two functions above with a million insertions and removals."
     ]
    },
    {
     "cell_type": "code",
     "collapsed": false,
     "input": [
      "t1 = time.time(); insert_and_remove_at_end(planets, 10**6); print str(time.time() - t1) + \" seconds\""
     ],
     "language": "python",
     "metadata": {},
     "outputs": [
      {
       "output_type": "stream",
       "stream": "stdout",
       "text": [
        "0.347989082336 seconds\n"
       ]
      }
     ],
     "prompt_number": 50
    },
    {
     "cell_type": "code",
     "collapsed": false,
     "input": [
      "t1 = time.time(); insert_and_remove_at_beginning(planets, 10**6); print str(time.time() - t1) + \" seconds\""
     ],
     "language": "python",
     "metadata": {},
     "outputs": [
      {
       "output_type": "stream",
       "stream": "stdout",
       "text": [
        "0.535968065262 seconds\n"
       ]
      }
     ],
     "prompt_number": 51
    },
    {
     "cell_type": "markdown",
     "metadata": {},
     "source": [
      "So inserts and deletions at beginning were slower. If you want equally fast inserts and deletions from both ends, use deques."
     ]
    },
    {
     "cell_type": "code",
     "collapsed": false,
     "input": [
      "from collections import deque"
     ],
     "language": "python",
     "metadata": {},
     "outputs": [],
     "prompt_number": 52
    },
    {
     "cell_type": "code",
     "collapsed": false,
     "input": [
      "my_deque = deque(planets)"
     ],
     "language": "python",
     "metadata": {},
     "outputs": [],
     "prompt_number": 54
    },
    {
     "cell_type": "code",
     "collapsed": false,
     "input": [
      "print my_deque"
     ],
     "language": "python",
     "metadata": {},
     "outputs": [
      {
       "output_type": "stream",
       "stream": "stdout",
       "text": [
        "deque(['venus', 'uranus', 'saturn', 'mercury', 'mars', 'jupiter', 'earth'])\n"
       ]
      }
     ],
     "prompt_number": 55
    },
    {
     "cell_type": "code",
     "collapsed": false,
     "input": [
      "def insert_and_remove_at_end(mydeque, n):\n",
      "    \"\"\" Insert and removing a dummy element, 'pluto', at the end of the list mylist.\"\"\"\n",
      "    \n",
      "    for i in range(n):\n",
      "        mydeque.append('pluto')\n",
      "        mydeque.pop()"
     ],
     "language": "python",
     "metadata": {},
     "outputs": [],
     "prompt_number": 56
    },
    {
     "cell_type": "code",
     "collapsed": false,
     "input": [
      "def insert_and_remove_at_beginning(mydeque, n):\n",
      "    \"\"\" Insert and removing a dummy element, 'pluto', at the beginning of the list mylist.\"\"\"\n",
      "    \n",
      "    for i in range(n):\n",
      "        mydeque.appendleft('pluto') # appendleft appends at the beginning\n",
      "        mydeque.popleft() # popleft pops from the beginning"
     ],
     "language": "python",
     "metadata": {},
     "outputs": [],
     "prompt_number": 61
    },
    {
     "cell_type": "markdown",
     "metadata": {},
     "source": [
      "Now let's run a timing experiment again."
     ]
    },
    {
     "cell_type": "code",
     "collapsed": false,
     "input": [
      "t1 = time.time(); insert_and_remove_at_end(my_deque, 10**6); print str(time.time() - t1) + \" seconds\""
     ],
     "language": "python",
     "metadata": {},
     "outputs": [
      {
       "output_type": "stream",
       "stream": "stdout",
       "text": [
        "0.270136833191 seconds\n"
       ]
      }
     ],
     "prompt_number": 58
    },
    {
     "cell_type": "code",
     "collapsed": false,
     "input": [
      "t1 = time.time(); insert_and_remove_at_beginning(my_deque, 10**6); print str(time.time() - t1) + \" seconds\""
     ],
     "language": "python",
     "metadata": {},
     "outputs": [
      {
       "output_type": "stream",
       "stream": "stdout",
       "text": [
        "0.262016773224 seconds\n"
       ]
      }
     ],
     "prompt_number": 62
    },
    {
     "cell_type": "markdown",
     "metadata": {},
     "source": [
      "This time there wasn't much difference."
     ]
    },
    {
     "cell_type": "heading",
     "level": 2,
     "metadata": {},
     "source": [
      "Functional programming tools"
     ]
    },
    {
     "cell_type": "markdown",
     "metadata": {},
     "source": [
      "`filter(function, sequence)` returns those items in a sequence for which `function(item)` returns `True`."
     ]
    },
    {
     "cell_type": "code",
     "collapsed": false,
     "input": [
      "def isodd(n):\n",
      "    \"\"\"Test if the number n is odd.\"\"\"\n",
      "    \n",
      "    return n % 2 == 1"
     ],
     "language": "python",
     "metadata": {},
     "outputs": [],
     "prompt_number": 64
    },
    {
     "cell_type": "code",
     "collapsed": false,
     "input": [
      "filter(isodd, range(0,10)) # return odd numbers from 1 till 10"
     ],
     "language": "python",
     "metadata": {},
     "outputs": [
      {
       "metadata": {},
       "output_type": "pyout",
       "prompt_number": 66,
       "text": [
        "[1, 3, 5, 7, 9]"
       ]
      }
     ],
     "prompt_number": 66
    },
    {
     "cell_type": "code",
     "collapsed": false,
     "input": [
      "filter(lambda x: x.isupper(), \"University of Michigan\")"
     ],
     "language": "python",
     "metadata": {},
     "outputs": [
      {
       "metadata": {},
       "output_type": "pyout",
       "prompt_number": 69,
       "text": [
        "'UM'"
       ]
      }
     ],
     "prompt_number": 69
    },
    {
     "cell_type": "markdown",
     "metadata": {},
     "source": [
      "`map(function, sequence)` return a sequence containing elements obtained by applying `function` to each element of the sequence."
     ]
    },
    {
     "cell_type": "code",
     "collapsed": false,
     "input": [
      "map(lambda x: x.upper(), planets)"
     ],
     "language": "python",
     "metadata": {},
     "outputs": [
      {
       "metadata": {},
       "output_type": "pyout",
       "prompt_number": 75,
       "text": [
        "['VENUS', 'URANUS', 'SATURN', 'MERCURY', 'MARS', 'JUPITER', 'EARTH']"
       ]
      }
     ],
     "prompt_number": 75
    },
    {
     "cell_type": "markdown",
     "metadata": {},
     "source": [
      "Oops, that capitalized all letters. We just wanted the first letter capitalized. The right method is `capitalize`."
     ]
    },
    {
     "cell_type": "code",
     "collapsed": false,
     "input": [
      "map(lambda x: x.capitalize(), planets)"
     ],
     "language": "python",
     "metadata": {},
     "outputs": [
      {
       "metadata": {},
       "output_type": "pyout",
       "prompt_number": 77,
       "text": [
        "['Venus', 'Uranus', 'Saturn', 'Mercury', 'Mars', 'Jupiter', 'Earth']"
       ]
      }
     ],
     "prompt_number": 77
    },
    {
     "cell_type": "markdown",
     "metadata": {},
     "source": [
      "`reduce(function, sequence)` returns a single value as follows. It first applies the function on the first two items. Then on the result and the third item, and so on."
     ]
    },
    {
     "cell_type": "markdown",
     "metadata": {},
     "source": [
      "For illustration let us think of computing the discounted sum of numbers $n_1, n_2, n_3, \\ldots, n_k$ defined as:\n",
      "\n",
      "$n_1 + \\gamma n_1 + \\gamma^2 n_3 + \\ldots + \\gamma^{k-1}n_k$\n",
      "\n",
      "Note that this can be written as:\n",
      "\n",
      "$n_1 + \\gamma (n_2 + \\ldots + \\gamma (n_{k-2} + \\gamma (n_{k-1} + \\gamma n_k)) \\cdots )$"
     ]
    },
    {
     "cell_type": "code",
     "collapsed": false,
     "input": [
      "def discounted_sum(num_list, gamma):\n",
      "    \"\"\" Return the gamma discounted sum of numbers in num_list. \"\"\"\n",
      "    \n",
      "    my_copy = num_list[:] # create a copy before reversing\n",
      "    my_copy.reverse() # reverse the list so that the last element is discounted the most\n",
      "    return reduce(lambda x, y: gamma*x + y, my_copy)"
     ],
     "language": "python",
     "metadata": {},
     "outputs": [],
     "prompt_number": 79
    },
    {
     "cell_type": "code",
     "collapsed": false,
     "input": [
      "discounted_sum(range(1,11),.9)"
     ],
     "language": "python",
     "metadata": {},
     "outputs": [
      {
       "metadata": {},
       "output_type": "pyout",
       "prompt_number": 86,
       "text": [
        "30.26431198"
       ]
      }
     ],
     "prompt_number": 86
    },
    {
     "cell_type": "markdown",
     "metadata": {},
     "source": [
      "Here's an alternate implementation."
     ]
    },
    {
     "cell_type": "code",
     "collapsed": false,
     "input": [
      "def discounted_sum_alt(num_list, gamma):\n",
      "    \"\"\" Return the gamma discounted sum of numbers in num_list.\n",
      "    \n",
      "    This implementation does not use reduce.\n",
      "    \"\"\"\n",
      "    \n",
      "    powers_of_gamma = map(lambda x: gamma**x, range(len(num_list)))\n",
      "    return sum(map(lambda x, y: x*y, num_list, powers_of_gamma))"
     ],
     "language": "python",
     "metadata": {},
     "outputs": [],
     "prompt_number": 81
    },
    {
     "cell_type": "code",
     "collapsed": false,
     "input": [
      "discounted_sum_alt(range(1,11),.9)"
     ],
     "language": "python",
     "metadata": {},
     "outputs": [
      {
       "metadata": {},
       "output_type": "pyout",
       "prompt_number": 87,
       "text": [
        "30.264311980000006"
       ]
      }
     ],
     "prompt_number": 87
    },
    {
     "cell_type": "heading",
     "level": 2,
     "metadata": {},
     "source": [
      "List comprehensions"
     ]
    },
    {
     "cell_type": "markdown",
     "metadata": {},
     "source": [
      "List comprehensions are often more readable than applications of `filter` and `map`.\n",
      "\n",
      "`[f(i) for i in my_list]`\n",
      "\n",
      "returns the same result as\n",
      "\n",
      "`map(f, my_list)`\n",
      "\n",
      "And,\n",
      "\n",
      "`[f(i) for i in my_list if g(i)]`\n",
      "\n",
      "returns the same result as\n",
      "\n",
      "`map(f, filter(g, my_list))`"
     ]
    },
    {
     "cell_type": "code",
     "collapsed": false,
     "input": [
      "def discounted_sum_alt2(num_list, gamma):\n",
      "    \"\"\" Return the gamma discounted sum of numbers in num_list.\n",
      "    \n",
      "    This implementation uses list comprehensions.\n",
      "    \"\"\"\n",
      "    \n",
      "    powers_of_gamma = [gamma**i for i in range(len(num_list))]\n",
      "    return sum([x*y for (x,y) in zip(num_list, powers_of_gamma)])"
     ],
     "language": "python",
     "metadata": {},
     "outputs": [],
     "prompt_number": 93
    },
    {
     "cell_type": "code",
     "collapsed": false,
     "input": [
      "discounted_sum_alt2(range(1, 11), .9)"
     ],
     "language": "python",
     "metadata": {},
     "outputs": [
      {
       "metadata": {},
       "output_type": "pyout",
       "prompt_number": 95,
       "text": [
        "30.264311980000006"
       ]
      }
     ],
     "prompt_number": 95
    },
    {
     "cell_type": "markdown",
     "metadata": {},
     "source": [
      "The built-in function `sum` sums up the values in a given list. The built-in function `zip` called on `[a, b, c, ...]` and `[A, B, C, ...]` returns `[(a, A), (b, B), (c, C), ...]`."
     ]
    },
    {
     "cell_type": "code",
     "collapsed": false,
     "input": [
      "zip([1, 2, 3, 4],[\"I\", \"II\", \"III\", \"IV\"])"
     ],
     "language": "python",
     "metadata": {},
     "outputs": [
      {
       "metadata": {},
       "output_type": "pyout",
       "prompt_number": 98,
       "text": [
        "[(1, 'I'), (2, 'II'), (3, 'III'), (4, 'IV')]"
       ]
      }
     ],
     "prompt_number": 98
    },
    {
     "cell_type": "heading",
     "level": 1,
     "metadata": {},
     "source": [
      "Tuples"
     ]
    },
    {
     "cell_type": "markdown",
     "metadata": {},
     "source": [
      "We have seen two sequence data types where you can use indexing and slicing: namely strings and lists. They are mutable: you are allowed to change their contents. Tuples are *non-mutable* sequences."
     ]
    },
    {
     "cell_type": "code",
     "collapsed": false,
     "input": [
      "t = (\"a\", \"strange\", \"tuple\") # create a tuple"
     ],
     "language": "python",
     "metadata": {},
     "outputs": [],
     "prompt_number": 2
    },
    {
     "cell_type": "code",
     "collapsed": false,
     "input": [
      "t[1]"
     ],
     "language": "python",
     "metadata": {},
     "outputs": [
      {
       "metadata": {},
       "output_type": "pyout",
       "prompt_number": 4,
       "text": [
        "'strange'"
       ]
      }
     ],
     "prompt_number": 4
    },
    {
     "cell_type": "code",
     "collapsed": false,
     "input": [
      "t[0] = \"the\" # attempt to change"
     ],
     "language": "python",
     "metadata": {},
     "outputs": [
      {
       "ename": "TypeError",
       "evalue": "'tuple' object does not support item assignment",
       "output_type": "pyerr",
       "traceback": [
        "\u001b[0;31m---------------------------------------------------------------------------\u001b[0m\n\u001b[0;31mTypeError\u001b[0m                                 Traceback (most recent call last)",
        "\u001b[0;32m<ipython-input-6-e1878297d8e5>\u001b[0m in \u001b[0;36m<module>\u001b[0;34m()\u001b[0m\n\u001b[0;32m----> 1\u001b[0;31m \u001b[0mt\u001b[0m\u001b[0;34m[\u001b[0m\u001b[0;36m0\u001b[0m\u001b[0;34m]\u001b[0m \u001b[0;34m=\u001b[0m \u001b[0;34m\"the\"\u001b[0m \u001b[0;31m# attempt to change\u001b[0m\u001b[0;34m\u001b[0m\u001b[0m\n\u001b[0m",
        "\u001b[0;31mTypeError\u001b[0m: 'tuple' object does not support item assignment"
       ]
      }
     ],
     "prompt_number": 6
    },
    {
     "cell_type": "markdown",
     "metadata": {},
     "source": [
      "You can create tuples of tuples."
     ]
    },
    {
     "cell_type": "code",
     "collapsed": false,
     "input": [
      "two_tuples = ((1, 2, 3), (-1, -2, -3))"
     ],
     "language": "python",
     "metadata": {},
     "outputs": [],
     "prompt_number": 8
    },
    {
     "cell_type": "code",
     "collapsed": false,
     "input": [
      "two_tuples[1]"
     ],
     "language": "python",
     "metadata": {},
     "outputs": [
      {
       "metadata": {},
       "output_type": "pyout",
       "prompt_number": 9,
       "text": [
        "(-1, -2, -3)"
       ]
      }
     ],
     "prompt_number": 9
    },
    {
     "cell_type": "code",
     "collapsed": false,
     "input": [
      "two_tuples[1][2]"
     ],
     "language": "python",
     "metadata": {},
     "outputs": [
      {
       "metadata": {},
       "output_type": "pyout",
       "prompt_number": 11,
       "text": [
        "-3"
       ]
      }
     ],
     "prompt_number": 11
    },
    {
     "cell_type": "markdown",
     "metadata": {},
     "source": [
      "You can also create tuples of lists."
     ]
    },
    {
     "cell_type": "code",
     "collapsed": false,
     "input": [
      "tuple_of_lists = ([1, 2, 3], [-1, -2, -3])"
     ],
     "language": "python",
     "metadata": {},
     "outputs": [],
     "prompt_number": 14
    },
    {
     "cell_type": "code",
     "collapsed": false,
     "input": [
      "tuple_of_lists[1]"
     ],
     "language": "python",
     "metadata": {},
     "outputs": [
      {
       "metadata": {},
       "output_type": "pyout",
       "prompt_number": 17,
       "text": [
        "[-1, -2, -3]"
       ]
      }
     ],
     "prompt_number": 17
    },
    {
     "cell_type": "code",
     "collapsed": false,
     "input": [
      "tuple_of_lists[1].reverse() # lists inside tuples can be changed"
     ],
     "language": "python",
     "metadata": {},
     "outputs": [],
     "prompt_number": 19
    },
    {
     "cell_type": "code",
     "collapsed": false,
     "input": [
      "tuple_of_lists"
     ],
     "language": "python",
     "metadata": {},
     "outputs": [
      {
       "metadata": {},
       "output_type": "pyout",
       "prompt_number": 21,
       "text": [
        "([1, 2, 3], [-3, -2, -1])"
       ]
      }
     ],
     "prompt_number": 21
    },
    {
     "cell_type": "markdown",
     "metadata": {},
     "source": [
      "Here is how empty and singleton tuples are created, in case you ever need them."
     ]
    },
    {
     "cell_type": "code",
     "collapsed": false,
     "input": [
      "empty_tuple = ()"
     ],
     "language": "python",
     "metadata": {},
     "outputs": [],
     "prompt_number": 22
    },
    {
     "cell_type": "code",
     "collapsed": false,
     "input": [
      "print empty_tuple"
     ],
     "language": "python",
     "metadata": {},
     "outputs": [
      {
       "output_type": "stream",
       "stream": "stdout",
       "text": [
        "()\n"
       ]
      }
     ],
     "prompt_number": 24
    },
    {
     "cell_type": "code",
     "collapsed": false,
     "input": [
      "len(empty_tuple)"
     ],
     "language": "python",
     "metadata": {},
     "outputs": [
      {
       "metadata": {},
       "output_type": "pyout",
       "prompt_number": 26,
       "text": [
        "0"
       ]
      }
     ],
     "prompt_number": 26
    },
    {
     "cell_type": "code",
     "collapsed": false,
     "input": [
      "singleton_tuple = \"loner\","
     ],
     "language": "python",
     "metadata": {},
     "outputs": [],
     "prompt_number": 28
    },
    {
     "cell_type": "code",
     "collapsed": false,
     "input": [
      "print singleton_tuple"
     ],
     "language": "python",
     "metadata": {},
     "outputs": [
      {
       "output_type": "stream",
       "stream": "stdout",
       "text": [
        "('loner',)\n"
       ]
      }
     ],
     "prompt_number": 30
    },
    {
     "cell_type": "code",
     "collapsed": false,
     "input": [
      "len(singleton_tuple)"
     ],
     "language": "python",
     "metadata": {},
     "outputs": [
      {
       "metadata": {},
       "output_type": "pyout",
       "prompt_number": 31,
       "text": [
        "1"
       ]
      }
     ],
     "prompt_number": 31
    },
    {
     "cell_type": "heading",
     "level": 1,
     "metadata": {},
     "source": [
      "Sets"
     ]
    },
    {
     "cell_type": "code",
     "collapsed": false,
     "input": [
      "sentence = [\"A\", \"journey\", \"of\", \"a\", \"thousand\", \"miles\", \"begins\", \"with\", \"a\", \"single\", \"step\"]"
     ],
     "language": "python",
     "metadata": {},
     "outputs": [],
     "prompt_number": 38
    },
    {
     "cell_type": "code",
     "collapsed": false,
     "input": [
      "word_lengths = [len(w) for w in sentence]"
     ],
     "language": "python",
     "metadata": {},
     "outputs": [],
     "prompt_number": 39
    },
    {
     "cell_type": "code",
     "collapsed": false,
     "input": [
      "print word_lengths"
     ],
     "language": "python",
     "metadata": {},
     "outputs": [
      {
       "output_type": "stream",
       "stream": "stdout",
       "text": [
        "[1, 7, 2, 1, 8, 5, 6, 4, 1, 6, 4]\n"
       ]
      }
     ],
     "prompt_number": 40
    },
    {
     "cell_type": "code",
     "collapsed": false,
     "input": [
      "unique_lengths = set(word_lengths)"
     ],
     "language": "python",
     "metadata": {},
     "outputs": [],
     "prompt_number": 41
    },
    {
     "cell_type": "code",
     "collapsed": false,
     "input": [
      "print unique_lengths"
     ],
     "language": "python",
     "metadata": {},
     "outputs": [
      {
       "output_type": "stream",
       "stream": "stdout",
       "text": [
        "set([1, 2, 4, 5, 6, 7, 8])\n"
       ]
      }
     ],
     "prompt_number": 43
    },
    {
     "cell_type": "markdown",
     "metadata": {},
     "source": [
      "Sets can also be created using curly braces."
     ]
    },
    {
     "cell_type": "code",
     "collapsed": false,
     "input": [
      "set_of_vowels = {\"a\", \"e\", \"i\", \"o\", \"u\"}"
     ],
     "language": "python",
     "metadata": {},
     "outputs": [],
     "prompt_number": 45
    },
    {
     "cell_type": "code",
     "collapsed": false,
     "input": [
      "print set_of_vowels"
     ],
     "language": "python",
     "metadata": {},
     "outputs": [
      {
       "output_type": "stream",
       "stream": "stdout",
       "text": [
        "set(['i', 'e', 'u', 'a', 'o'])\n"
       ]
      }
     ],
     "prompt_number": 47
    },
    {
     "cell_type": "markdown",
     "metadata": {},
     "source": [
      "Let's create a set of letters appearing in the sentence above."
     ]
    },
    {
     "cell_type": "code",
     "collapsed": false,
     "input": [
      "letters_in_sentence = reduce(lambda x, y: x | y, [set(w.lower()) for w in sentence]) # we use | for union of sets "
     ],
     "language": "python",
     "metadata": {},
     "outputs": [],
     "prompt_number": 50
    },
    {
     "cell_type": "code",
     "collapsed": false,
     "input": [
      "print letters_in_sentence"
     ],
     "language": "python",
     "metadata": {},
     "outputs": [
      {
       "output_type": "stream",
       "stream": "stdout",
       "text": [
        "set(['a', 'b', 'e', 'd', 'g', 'f', 'i', 'h', 'j', 'm', 'l', 'o', 'n', 'p', 's', 'r', 'u', 't', 'w', 'y'])\n"
       ]
      }
     ],
     "prompt_number": 51
    },
    {
     "cell_type": "code",
     "collapsed": false,
     "input": [
      "letters_in_sentence & set_of_vowels # we use & for finding set intersections"
     ],
     "language": "python",
     "metadata": {},
     "outputs": [
      {
       "metadata": {},
       "output_type": "pyout",
       "prompt_number": 53,
       "text": [
        "{'a', 'e', 'i', 'o', 'u'}"
       ]
      }
     ],
     "prompt_number": 53
    },
    {
     "cell_type": "code",
     "collapsed": false,
     "input": [
      "letters_in_sentence - set_of_vowels # set difference"
     ],
     "language": "python",
     "metadata": {},
     "outputs": [
      {
       "metadata": {},
       "output_type": "pyout",
       "prompt_number": 54,
       "text": [
        "{'b', 'd', 'f', 'g', 'h', 'j', 'l', 'm', 'n', 'p', 'r', 's', 't', 'w', 'y'}"
       ]
      }
     ],
     "prompt_number": 54
    },
    {
     "cell_type": "heading",
     "level": 1,
     "metadata": {},
     "source": [
      "Dictionaries"
     ]
    },
    {
     "cell_type": "code",
     "collapsed": false,
     "input": [],
     "language": "python",
     "metadata": {},
     "outputs": []
    },
    {
     "cell_type": "heading",
     "level": 1,
     "metadata": {},
     "source": [
      "Looping techniques"
     ]
    },
    {
     "cell_type": "code",
     "collapsed": false,
     "input": [],
     "language": "python",
     "metadata": {},
     "outputs": []
    }
   ],
   "metadata": {}
  }
 ]
}