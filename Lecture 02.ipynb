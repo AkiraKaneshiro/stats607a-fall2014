{
 "metadata": {
  "name": "",
  "signature": "sha256:90582670d3acc172504b8606ad5ec1bf2b0089845563e141769ac3abc7834c84"
 },
 "nbformat": 3,
 "nbformat_minor": 0,
 "worksheets": [
  {
   "cells": [
    {
     "cell_type": "markdown",
     "metadata": {},
     "source": [
      "Today we'll cover:\n",
      "\n",
      "1. [More operations on lists](#More-operations-on-lists)\n",
      "2. Tuples and Sequences\n",
      "3. Sets\n",
      "4. Dictionaries\n",
      "5. Looping techniques\n"
     ]
    },
    {
     "cell_type": "heading",
     "level": 1,
     "metadata": {},
     "source": [
      "More operations on lists"
     ]
    },
    {
     "cell_type": "code",
     "collapsed": false,
     "input": [],
     "language": "python",
     "metadata": {},
     "outputs": []
    }
   ],
   "metadata": {}
  }
 ]
}