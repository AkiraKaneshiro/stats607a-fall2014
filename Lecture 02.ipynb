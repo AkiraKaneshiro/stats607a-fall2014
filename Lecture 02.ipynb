{
 "metadata": {
  "name": "",
  "signature": "sha256:29840775f74a8c2e30b4d856dab33176a97c824b0eba3afe67cc6e12401728f8"
 },
 "nbformat": 3,
 "nbformat_minor": 0,
 "worksheets": [
  {
   "cells": [
    {
     "cell_type": "markdown",
     "metadata": {},
     "source": [
      "Today we'll cover:\n",
      "\n",
      "1. [More operations on lists](#More-operations-on-lists)\n",
      "2. [Tuples](#Tuples)\n",
      "3. [Sets](#Sets)\n",
      "4. [Dictionaries](#Dictionaries)\n",
      "5. [Looping techniques](#Looping-techniques)\n",
      "\n",
      "\n"
     ]
    },
    {
     "cell_type": "heading",
     "level": 1,
     "metadata": {},
     "source": [
      "More operations on lists"
     ]
    },
    {
     "cell_type": "code",
     "collapsed": false,
     "input": [
      "planets = [\"mercury\", \"venus\", \"earth\"]"
     ],
     "language": "python",
     "metadata": {},
     "outputs": [],
     "prompt_number": 1
    },
    {
     "cell_type": "code",
     "collapsed": false,
     "input": [
      "print planets"
     ],
     "language": "python",
     "metadata": {},
     "outputs": [
      {
       "output_type": "stream",
       "stream": "stdout",
       "text": [
        "['mercury', 'venus', 'earth']\n"
       ]
      }
     ],
     "prompt_number": 2
    },
    {
     "cell_type": "code",
     "collapsed": false,
     "input": [
      "planets.append(\"mars\") # adds a single element at the end"
     ],
     "language": "python",
     "metadata": {},
     "outputs": [],
     "prompt_number": 3
    },
    {
     "cell_type": "code",
     "collapsed": false,
     "input": [
      "print planets"
     ],
     "language": "python",
     "metadata": {},
     "outputs": [
      {
       "output_type": "stream",
       "stream": "stdout",
       "text": [
        "['mercury', 'venus', 'earth', 'mars']\n"
       ]
      }
     ],
     "prompt_number": 4
    },
    {
     "cell_type": "code",
     "collapsed": false,
     "input": [
      "planets.extend([\"jupiter\", \"saturn\", \"uranus\", \"pluto\"])"
     ],
     "language": "python",
     "metadata": {},
     "outputs": [],
     "prompt_number": 5
    },
    {
     "cell_type": "code",
     "collapsed": false,
     "input": [
      "print planets"
     ],
     "language": "python",
     "metadata": {},
     "outputs": [
      {
       "output_type": "stream",
       "stream": "stdout",
       "text": [
        "['mercury', 'venus', 'earth', 'mars', 'jupiter', 'saturn', 'uranus', 'pluto']\n"
       ]
      }
     ],
     "prompt_number": 6
    },
    {
     "cell_type": "markdown",
     "metadata": {},
     "source": [
      "They removed Pluto from the list of planets. See this [wikipedia page](http://en.wikipedia.org/wiki/Pluto#2006:_IAU_classification). We'll do the same. One way is to remove it by value."
     ]
    },
    {
     "cell_type": "code",
     "collapsed": false,
     "input": [
      "planets.remove(\"pluto\")"
     ],
     "language": "python",
     "metadata": {},
     "outputs": [],
     "prompt_number": 7
    },
    {
     "cell_type": "code",
     "collapsed": false,
     "input": [
      "print planets"
     ],
     "language": "python",
     "metadata": {},
     "outputs": [
      {
       "output_type": "stream",
       "stream": "stdout",
       "text": [
        "['mercury', 'venus', 'earth', 'mars', 'jupiter', 'saturn', 'uranus']\n"
       ]
      }
     ],
     "prompt_number": 8
    },
    {
     "cell_type": "markdown",
     "metadata": {},
     "source": [
      "Let's put it back in, this time using the `insert` method."
     ]
    },
    {
     "cell_type": "code",
     "collapsed": false,
     "input": [
      "planets.insert(7,\"pluto\")"
     ],
     "language": "python",
     "metadata": {},
     "outputs": [],
     "prompt_number": 9
    },
    {
     "cell_type": "code",
     "collapsed": false,
     "input": [
      "print planets"
     ],
     "language": "python",
     "metadata": {},
     "outputs": [
      {
       "output_type": "stream",
       "stream": "stdout",
       "text": [
        "['mercury', 'venus', 'earth', 'mars', 'jupiter', 'saturn', 'uranus', 'pluto']\n"
       ]
      }
     ],
     "prompt_number": 10
    },
    {
     "cell_type": "markdown",
     "metadata": {},
     "source": [
      "We've already seen another way to remove an item from the end of a list."
     ]
    },
    {
     "cell_type": "code",
     "collapsed": false,
     "input": [
      "print planets.pop()"
     ],
     "language": "python",
     "metadata": {},
     "outputs": [
      {
       "output_type": "stream",
       "stream": "stdout",
       "text": [
        "pluto\n"
       ]
      }
     ],
     "prompt_number": 11
    },
    {
     "cell_type": "markdown",
     "metadata": {},
     "source": [
      "Note that, unlike, `remove`, `pop` also returns the removed element. Also, it removes using indices, not values."
     ]
    },
    {
     "cell_type": "code",
     "collapsed": false,
     "input": [
      "print planets.pop(2) # will remove 'earth'"
     ],
     "language": "python",
     "metadata": {},
     "outputs": [
      {
       "output_type": "stream",
       "stream": "stdout",
       "text": [
        "earth\n"
       ]
      }
     ],
     "prompt_number": 12
    },
    {
     "cell_type": "code",
     "collapsed": false,
     "input": [
      "print planets"
     ],
     "language": "python",
     "metadata": {},
     "outputs": [
      {
       "output_type": "stream",
       "stream": "stdout",
       "text": [
        "['mercury', 'venus', 'mars', 'jupiter', 'saturn', 'uranus']\n"
       ]
      }
     ],
     "prompt_number": 13
    },
    {
     "cell_type": "markdown",
     "metadata": {},
     "source": [
      "Now let's put Earth back in."
     ]
    },
    {
     "cell_type": "code",
     "collapsed": false,
     "input": [
      "planets.insert(2,\"earth\")"
     ],
     "language": "python",
     "metadata": {},
     "outputs": [],
     "prompt_number": 14
    },
    {
     "cell_type": "code",
     "collapsed": false,
     "input": [
      "print planets"
     ],
     "language": "python",
     "metadata": {},
     "outputs": [
      {
       "output_type": "stream",
       "stream": "stdout",
       "text": [
        "['mercury', 'venus', 'earth', 'mars', 'jupiter', 'saturn', 'uranus']\n"
       ]
      }
     ],
     "prompt_number": 15
    },
    {
     "cell_type": "markdown",
     "metadata": {},
     "source": [
      "Let's sort the planets by their names. Note that `sort` does not return a new list. Instead, it sorts the list in place."
     ]
    },
    {
     "cell_type": "code",
     "collapsed": false,
     "input": [
      "print planets.sort()"
     ],
     "language": "python",
     "metadata": {},
     "outputs": [
      {
       "output_type": "stream",
       "stream": "stdout",
       "text": [
        "None\n"
       ]
      }
     ],
     "prompt_number": 16
    },
    {
     "cell_type": "code",
     "collapsed": false,
     "input": [
      "print planets"
     ],
     "language": "python",
     "metadata": {},
     "outputs": [
      {
       "output_type": "stream",
       "stream": "stdout",
       "text": [
        "['earth', 'jupiter', 'mars', 'mercury', 'saturn', 'uranus', 'venus']\n"
       ]
      }
     ],
     "prompt_number": 17
    },
    {
     "cell_type": "markdown",
     "metadata": {},
     "source": [
      "Similarly, `reverse` reverse a list in place. Later in the lecture, we will see the functions `sorted` and `reversed` that return new copies that are sorted/reversed version of a given list."
     ]
    },
    {
     "cell_type": "code",
     "collapsed": false,
     "input": [
      "print planets.reverse()"
     ],
     "language": "python",
     "metadata": {},
     "outputs": [
      {
       "output_type": "stream",
       "stream": "stdout",
       "text": [
        "None\n"
       ]
      }
     ],
     "prompt_number": 18
    },
    {
     "cell_type": "code",
     "collapsed": false,
     "input": [
      "print planets"
     ],
     "language": "python",
     "metadata": {},
     "outputs": [
      {
       "output_type": "stream",
       "stream": "stdout",
       "text": [
        "['venus', 'uranus', 'saturn', 'mercury', 'mars', 'jupiter', 'earth']\n"
       ]
      }
     ],
     "prompt_number": 19
    },
    {
     "cell_type": "markdown",
     "metadata": {},
     "source": [
      "Note that inserting and deleting elements from the *end* of a list is much more efficient compared to the same operations done at the *beginning* of a list."
     ]
    },
    {
     "cell_type": "code",
     "collapsed": false,
     "input": [
      "def insert_and_remove_at_end(mylist, n):\n",
      "    \"\"\" Insert and removing a dummy element, 'pluto', at the end of the list mylist.\"\"\"\n",
      "    \n",
      "    for i in range(n):\n",
      "        mylist.append('pluto')\n",
      "        mylist.pop()"
     ],
     "language": "python",
     "metadata": {},
     "outputs": [],
     "prompt_number": 20
    },
    {
     "cell_type": "code",
     "collapsed": false,
     "input": [
      "def insert_and_remove_at_beginning(mylist, n):\n",
      "    \"\"\" Insert and removing a dummy element, 'pluto', at the beginning of the list mylist.\"\"\"\n",
      "    \n",
      "    for i in range(n):\n",
      "        mylist.insert(0,'pluto')\n",
      "        mylist.pop(0)"
     ],
     "language": "python",
     "metadata": {},
     "outputs": [],
     "prompt_number": 21
    },
    {
     "cell_type": "markdown",
     "metadata": {},
     "source": [
      "Let's import the time module"
     ]
    },
    {
     "cell_type": "code",
     "collapsed": false,
     "input": [
      "import time"
     ],
     "language": "python",
     "metadata": {},
     "outputs": [],
     "prompt_number": 22
    },
    {
     "cell_type": "markdown",
     "metadata": {},
     "source": [
      "Now we'll time the executing of the two functions above with a million insertions and removals."
     ]
    },
    {
     "cell_type": "code",
     "collapsed": false,
     "input": [
      "t1 = time.time(); insert_and_remove_at_end(planets, 10**6); print str(time.time() - t1) + \" seconds\""
     ],
     "language": "python",
     "metadata": {},
     "outputs": [
      {
       "output_type": "stream",
       "stream": "stdout",
       "text": [
        "0.332813978195 seconds\n"
       ]
      }
     ],
     "prompt_number": 23
    },
    {
     "cell_type": "code",
     "collapsed": false,
     "input": [
      "t1 = time.time(); insert_and_remove_at_beginning(planets, 10**6); print str(time.time() - t1) + \" seconds\""
     ],
     "language": "python",
     "metadata": {},
     "outputs": [
      {
       "output_type": "stream",
       "stream": "stdout",
       "text": [
        "0.569661855698 seconds\n"
       ]
      }
     ],
     "prompt_number": 24
    },
    {
     "cell_type": "markdown",
     "metadata": {},
     "source": [
      "So inserts and deletions at beginning were slower. If you want equally fast inserts and deletions from both ends, use deques."
     ]
    },
    {
     "cell_type": "code",
     "collapsed": false,
     "input": [
      "from collections import deque"
     ],
     "language": "python",
     "metadata": {},
     "outputs": [],
     "prompt_number": 25
    },
    {
     "cell_type": "code",
     "collapsed": false,
     "input": [
      "my_deque = deque(planets)"
     ],
     "language": "python",
     "metadata": {},
     "outputs": [],
     "prompt_number": 26
    },
    {
     "cell_type": "code",
     "collapsed": false,
     "input": [
      "print my_deque"
     ],
     "language": "python",
     "metadata": {},
     "outputs": [
      {
       "output_type": "stream",
       "stream": "stdout",
       "text": [
        "deque(['venus', 'uranus', 'saturn', 'mercury', 'mars', 'jupiter', 'earth'])\n"
       ]
      }
     ],
     "prompt_number": 27
    },
    {
     "cell_type": "code",
     "collapsed": false,
     "input": [
      "def insert_and_remove_at_end(mydeque, n):\n",
      "    \"\"\" Insert and removing a dummy element, 'pluto', at the end of the list mylist.\"\"\"\n",
      "    \n",
      "    for i in range(n):\n",
      "        mydeque.append('pluto')\n",
      "        mydeque.pop()"
     ],
     "language": "python",
     "metadata": {},
     "outputs": [],
     "prompt_number": 28
    },
    {
     "cell_type": "code",
     "collapsed": false,
     "input": [
      "def insert_and_remove_at_beginning(mydeque, n):\n",
      "    \"\"\" Insert and removing a dummy element, 'pluto', at the beginning of the list mylist.\"\"\"\n",
      "    \n",
      "    for i in range(n):\n",
      "        mydeque.appendleft('pluto') # appendleft appends at the beginning\n",
      "        mydeque.popleft() # popleft pops from the beginning"
     ],
     "language": "python",
     "metadata": {},
     "outputs": [],
     "prompt_number": 29
    },
    {
     "cell_type": "markdown",
     "metadata": {},
     "source": [
      "Now let's run a timing experiment again."
     ]
    },
    {
     "cell_type": "code",
     "collapsed": false,
     "input": [
      "t1 = time.time(); insert_and_remove_at_end(my_deque, 10**6); print str(time.time() - t1) + \" seconds\""
     ],
     "language": "python",
     "metadata": {},
     "outputs": [
      {
       "output_type": "stream",
       "stream": "stdout",
       "text": [
        "0.263018131256 seconds\n"
       ]
      }
     ],
     "prompt_number": 30
    },
    {
     "cell_type": "code",
     "collapsed": false,
     "input": [
      "t1 = time.time(); insert_and_remove_at_beginning(my_deque, 10**6); print str(time.time() - t1) + \" seconds\""
     ],
     "language": "python",
     "metadata": {},
     "outputs": [
      {
       "output_type": "stream",
       "stream": "stdout",
       "text": [
        "0.246347904205 seconds\n"
       ]
      }
     ],
     "prompt_number": 31
    },
    {
     "cell_type": "markdown",
     "metadata": {},
     "source": [
      "This time there wasn't much difference."
     ]
    },
    {
     "cell_type": "heading",
     "level": 2,
     "metadata": {},
     "source": [
      "Functional programming tools"
     ]
    },
    {
     "cell_type": "markdown",
     "metadata": {},
     "source": [
      "`filter(function, sequence)` returns those items in a sequence for which `function(item)` returns `True`."
     ]
    },
    {
     "cell_type": "code",
     "collapsed": false,
     "input": [
      "def isodd(n):\n",
      "    \"\"\"Test if the number n is odd.\"\"\"\n",
      "    \n",
      "    return n % 2 == 1"
     ],
     "language": "python",
     "metadata": {},
     "outputs": [],
     "prompt_number": 32
    },
    {
     "cell_type": "code",
     "collapsed": false,
     "input": [
      "filter(isodd, range(0,10)) # return odd numbers from 1 till 10"
     ],
     "language": "python",
     "metadata": {},
     "outputs": [
      {
       "metadata": {},
       "output_type": "pyout",
       "prompt_number": 33,
       "text": [
        "[1, 3, 5, 7, 9]"
       ]
      }
     ],
     "prompt_number": 33
    },
    {
     "cell_type": "code",
     "collapsed": false,
     "input": [
      "filter(lambda x: x.isupper(), \"University of Michigan\")"
     ],
     "language": "python",
     "metadata": {},
     "outputs": [
      {
       "metadata": {},
       "output_type": "pyout",
       "prompt_number": 34,
       "text": [
        "'UM'"
       ]
      }
     ],
     "prompt_number": 34
    },
    {
     "cell_type": "markdown",
     "metadata": {},
     "source": [
      "`map(function, sequence)` return a sequence containing elements obtained by applying `function` to each element of the sequence."
     ]
    },
    {
     "cell_type": "code",
     "collapsed": false,
     "input": [
      "map(lambda x: x.upper(), planets)"
     ],
     "language": "python",
     "metadata": {},
     "outputs": [
      {
       "metadata": {},
       "output_type": "pyout",
       "prompt_number": 35,
       "text": [
        "['VENUS', 'URANUS', 'SATURN', 'MERCURY', 'MARS', 'JUPITER', 'EARTH']"
       ]
      }
     ],
     "prompt_number": 35
    },
    {
     "cell_type": "markdown",
     "metadata": {},
     "source": [
      "Oops, that capitalized all letters. We just wanted the first letter capitalized. The right method is `capitalize`."
     ]
    },
    {
     "cell_type": "code",
     "collapsed": false,
     "input": [
      "map(lambda x: x.capitalize(), planets)"
     ],
     "language": "python",
     "metadata": {},
     "outputs": [
      {
       "metadata": {},
       "output_type": "pyout",
       "prompt_number": 36,
       "text": [
        "['Venus', 'Uranus', 'Saturn', 'Mercury', 'Mars', 'Jupiter', 'Earth']"
       ]
      }
     ],
     "prompt_number": 36
    },
    {
     "cell_type": "markdown",
     "metadata": {},
     "source": [
      "`reduce(function, sequence)` returns a single value as follows. It first applies the function on the first two items. Then on the result and the third item, and so on."
     ]
    },
    {
     "cell_type": "markdown",
     "metadata": {},
     "source": [
      "For illustration let us think of computing the discounted sum of numbers $n_1, n_2, n_3, \\ldots, n_k$ defined as:\n",
      "\n",
      "$n_1 + \\gamma n_1 + \\gamma^2 n_3 + \\ldots + \\gamma^{k-1}n_k$\n",
      "\n",
      "Note that this can be written as:\n",
      "\n",
      "$n_1 + \\gamma (n_2 + \\ldots + \\gamma (n_{k-2} + \\gamma (n_{k-1} + \\gamma n_k)) \\cdots )$"
     ]
    },
    {
     "cell_type": "code",
     "collapsed": false,
     "input": [
      "def discounted_sum(num_list, gamma):\n",
      "    \"\"\" Return the gamma discounted sum of numbers in num_list. \"\"\"\n",
      "    \n",
      "    my_copy = num_list[:] # create a copy before reversing\n",
      "    my_copy.reverse() # reverse the list so that the last element is discounted the most\n",
      "    return reduce(lambda x, y: gamma*x + y, my_copy)"
     ],
     "language": "python",
     "metadata": {},
     "outputs": [],
     "prompt_number": 37
    },
    {
     "cell_type": "code",
     "collapsed": false,
     "input": [
      "discounted_sum(range(1,11),.9)"
     ],
     "language": "python",
     "metadata": {},
     "outputs": [
      {
       "metadata": {},
       "output_type": "pyout",
       "prompt_number": 38,
       "text": [
        "30.26431198"
       ]
      }
     ],
     "prompt_number": 38
    },
    {
     "cell_type": "markdown",
     "metadata": {},
     "source": [
      "Here's an alternate implementation."
     ]
    },
    {
     "cell_type": "code",
     "collapsed": false,
     "input": [
      "def discounted_sum_alt(num_list, gamma):\n",
      "    \"\"\" Return the gamma discounted sum of numbers in num_list.\n",
      "    \n",
      "    This implementation does not use reduce.\n",
      "    \"\"\"\n",
      "    \n",
      "    powers_of_gamma = map(lambda x: gamma**x, range(len(num_list)))\n",
      "    return sum(map(lambda x, y: x*y, num_list, powers_of_gamma))"
     ],
     "language": "python",
     "metadata": {},
     "outputs": [],
     "prompt_number": 39
    },
    {
     "cell_type": "code",
     "collapsed": false,
     "input": [
      "discounted_sum_alt(range(1,11),.9)"
     ],
     "language": "python",
     "metadata": {},
     "outputs": [
      {
       "metadata": {},
       "output_type": "pyout",
       "prompt_number": 40,
       "text": [
        "30.264311980000006"
       ]
      }
     ],
     "prompt_number": 40
    },
    {
     "cell_type": "heading",
     "level": 2,
     "metadata": {},
     "source": [
      "List comprehensions"
     ]
    },
    {
     "cell_type": "markdown",
     "metadata": {},
     "source": [
      "List comprehensions are often more readable than applications of `filter` and `map`.\n",
      "\n",
      "`[f(i) for i in my_list]`\n",
      "\n",
      "returns the same result as\n",
      "\n",
      "`map(f, my_list)`\n",
      "\n",
      "And,\n",
      "\n",
      "`[f(i) for i in my_list if g(i)]`\n",
      "\n",
      "returns the same result as\n",
      "\n",
      "`map(f, filter(g, my_list))`"
     ]
    },
    {
     "cell_type": "code",
     "collapsed": false,
     "input": [
      "def discounted_sum_alt2(num_list, gamma):\n",
      "    \"\"\" Return the gamma discounted sum of numbers in num_list.\n",
      "    \n",
      "    This implementation uses list comprehensions.\n",
      "    \"\"\"\n",
      "    \n",
      "    powers_of_gamma = [gamma**i for i in range(len(num_list))]\n",
      "    return sum([x*y for (x,y) in zip(num_list, powers_of_gamma)])"
     ],
     "language": "python",
     "metadata": {},
     "outputs": [],
     "prompt_number": 41
    },
    {
     "cell_type": "code",
     "collapsed": false,
     "input": [
      "discounted_sum_alt2(range(1, 11), .9)"
     ],
     "language": "python",
     "metadata": {},
     "outputs": [
      {
       "metadata": {},
       "output_type": "pyout",
       "prompt_number": 42,
       "text": [
        "30.264311980000006"
       ]
      }
     ],
     "prompt_number": 42
    },
    {
     "cell_type": "markdown",
     "metadata": {},
     "source": [
      "The built-in function `sum` sums up the values in a given list. The built-in function `zip` called on `[a, b, c, ...]` and `[A, B, C, ...]` returns `[(a, A), (b, B), (c, C), ...]`."
     ]
    },
    {
     "cell_type": "code",
     "collapsed": false,
     "input": [
      "zip([1, 2, 3, 4],[\"I\", \"II\", \"III\", \"IV\"])"
     ],
     "language": "python",
     "metadata": {},
     "outputs": [
      {
       "metadata": {},
       "output_type": "pyout",
       "prompt_number": 43,
       "text": [
        "[(1, 'I'), (2, 'II'), (3, 'III'), (4, 'IV')]"
       ]
      }
     ],
     "prompt_number": 43
    },
    {
     "cell_type": "heading",
     "level": 1,
     "metadata": {},
     "source": [
      "Tuples"
     ]
    },
    {
     "cell_type": "markdown",
     "metadata": {},
     "source": [
      "We have seen two sequence data types where you can use indexing and slicing: namely strings and lists. They are mutable: you are allowed to change their contents. Tuples are *non-mutable* sequences."
     ]
    },
    {
     "cell_type": "code",
     "collapsed": false,
     "input": [
      "t = (\"a\", \"strange\", \"tuple\") # create a tuple"
     ],
     "language": "python",
     "metadata": {},
     "outputs": [],
     "prompt_number": 44
    },
    {
     "cell_type": "code",
     "collapsed": false,
     "input": [
      "t[1]"
     ],
     "language": "python",
     "metadata": {},
     "outputs": [
      {
       "metadata": {},
       "output_type": "pyout",
       "prompt_number": 45,
       "text": [
        "'strange'"
       ]
      }
     ],
     "prompt_number": 45
    },
    {
     "cell_type": "code",
     "collapsed": false,
     "input": [
      "t[0] = \"the\" # attempt to change"
     ],
     "language": "python",
     "metadata": {},
     "outputs": [
      {
       "ename": "TypeError",
       "evalue": "'tuple' object does not support item assignment",
       "output_type": "pyerr",
       "traceback": [
        "\u001b[0;31m---------------------------------------------------------------------------\u001b[0m\n\u001b[0;31mTypeError\u001b[0m                                 Traceback (most recent call last)",
        "\u001b[0;32m<ipython-input-46-e1878297d8e5>\u001b[0m in \u001b[0;36m<module>\u001b[0;34m()\u001b[0m\n\u001b[0;32m----> 1\u001b[0;31m \u001b[0mt\u001b[0m\u001b[0;34m[\u001b[0m\u001b[0;36m0\u001b[0m\u001b[0;34m]\u001b[0m \u001b[0;34m=\u001b[0m \u001b[0;34m\"the\"\u001b[0m \u001b[0;31m# attempt to change\u001b[0m\u001b[0;34m\u001b[0m\u001b[0m\n\u001b[0m",
        "\u001b[0;31mTypeError\u001b[0m: 'tuple' object does not support item assignment"
       ]
      }
     ],
     "prompt_number": 46
    },
    {
     "cell_type": "markdown",
     "metadata": {},
     "source": [
      "You can create tuples of tuples."
     ]
    },
    {
     "cell_type": "code",
     "collapsed": false,
     "input": [
      "two_tuples = ((1, 2, 3), (-1, -2, -3))"
     ],
     "language": "python",
     "metadata": {},
     "outputs": [],
     "prompt_number": 47
    },
    {
     "cell_type": "code",
     "collapsed": false,
     "input": [
      "two_tuples[1]"
     ],
     "language": "python",
     "metadata": {},
     "outputs": [
      {
       "metadata": {},
       "output_type": "pyout",
       "prompt_number": 48,
       "text": [
        "(-1, -2, -3)"
       ]
      }
     ],
     "prompt_number": 48
    },
    {
     "cell_type": "code",
     "collapsed": false,
     "input": [
      "two_tuples[1][2]"
     ],
     "language": "python",
     "metadata": {},
     "outputs": [
      {
       "metadata": {},
       "output_type": "pyout",
       "prompt_number": 49,
       "text": [
        "-3"
       ]
      }
     ],
     "prompt_number": 49
    },
    {
     "cell_type": "markdown",
     "metadata": {},
     "source": [
      "You can also create tuples of lists."
     ]
    },
    {
     "cell_type": "code",
     "collapsed": false,
     "input": [
      "tuple_of_lists = ([1, 2, 3], [-1, -2, -3])"
     ],
     "language": "python",
     "metadata": {},
     "outputs": [],
     "prompt_number": 50
    },
    {
     "cell_type": "code",
     "collapsed": false,
     "input": [
      "tuple_of_lists[1]"
     ],
     "language": "python",
     "metadata": {},
     "outputs": [
      {
       "metadata": {},
       "output_type": "pyout",
       "prompt_number": 51,
       "text": [
        "[-1, -2, -3]"
       ]
      }
     ],
     "prompt_number": 51
    },
    {
     "cell_type": "code",
     "collapsed": false,
     "input": [
      "tuple_of_lists[1].reverse() # lists inside tuples can be changed"
     ],
     "language": "python",
     "metadata": {},
     "outputs": [],
     "prompt_number": 52
    },
    {
     "cell_type": "code",
     "collapsed": false,
     "input": [
      "tuple_of_lists"
     ],
     "language": "python",
     "metadata": {},
     "outputs": [
      {
       "metadata": {},
       "output_type": "pyout",
       "prompt_number": 53,
       "text": [
        "([1, 2, 3], [-3, -2, -1])"
       ]
      }
     ],
     "prompt_number": 53
    },
    {
     "cell_type": "markdown",
     "metadata": {},
     "source": [
      "Here is how empty and singleton tuples are created, in case you ever need them."
     ]
    },
    {
     "cell_type": "code",
     "collapsed": false,
     "input": [
      "empty_tuple = ()"
     ],
     "language": "python",
     "metadata": {},
     "outputs": [],
     "prompt_number": 54
    },
    {
     "cell_type": "code",
     "collapsed": false,
     "input": [
      "print empty_tuple"
     ],
     "language": "python",
     "metadata": {},
     "outputs": [
      {
       "output_type": "stream",
       "stream": "stdout",
       "text": [
        "()\n"
       ]
      }
     ],
     "prompt_number": 55
    },
    {
     "cell_type": "code",
     "collapsed": false,
     "input": [
      "len(empty_tuple)"
     ],
     "language": "python",
     "metadata": {},
     "outputs": [
      {
       "metadata": {},
       "output_type": "pyout",
       "prompt_number": 56,
       "text": [
        "0"
       ]
      }
     ],
     "prompt_number": 56
    },
    {
     "cell_type": "code",
     "collapsed": false,
     "input": [
      "singleton_tuple = \"loner\","
     ],
     "language": "python",
     "metadata": {},
     "outputs": [],
     "prompt_number": 57
    },
    {
     "cell_type": "code",
     "collapsed": false,
     "input": [
      "print singleton_tuple"
     ],
     "language": "python",
     "metadata": {},
     "outputs": [
      {
       "output_type": "stream",
       "stream": "stdout",
       "text": [
        "('loner',)\n"
       ]
      }
     ],
     "prompt_number": 58
    },
    {
     "cell_type": "code",
     "collapsed": false,
     "input": [
      "len(singleton_tuple)"
     ],
     "language": "python",
     "metadata": {},
     "outputs": [
      {
       "metadata": {},
       "output_type": "pyout",
       "prompt_number": 59,
       "text": [
        "1"
       ]
      }
     ],
     "prompt_number": 59
    },
    {
     "cell_type": "heading",
     "level": 1,
     "metadata": {},
     "source": [
      "Sets"
     ]
    },
    {
     "cell_type": "code",
     "collapsed": false,
     "input": [
      "sentence = [\"A\", \"journey\", \"of\", \"a\", \"thousand\", \"miles\", \"begins\", \"with\", \"a\", \"single\", \"step\"]"
     ],
     "language": "python",
     "metadata": {},
     "outputs": [],
     "prompt_number": 60
    },
    {
     "cell_type": "code",
     "collapsed": false,
     "input": [
      "word_lengths = [len(w) for w in sentence]"
     ],
     "language": "python",
     "metadata": {},
     "outputs": [],
     "prompt_number": 61
    },
    {
     "cell_type": "code",
     "collapsed": false,
     "input": [
      "print word_lengths"
     ],
     "language": "python",
     "metadata": {},
     "outputs": [
      {
       "output_type": "stream",
       "stream": "stdout",
       "text": [
        "[1, 7, 2, 1, 8, 5, 6, 4, 1, 6, 4]\n"
       ]
      }
     ],
     "prompt_number": 62
    },
    {
     "cell_type": "code",
     "collapsed": false,
     "input": [
      "unique_lengths = set(word_lengths)"
     ],
     "language": "python",
     "metadata": {},
     "outputs": [],
     "prompt_number": 63
    },
    {
     "cell_type": "code",
     "collapsed": false,
     "input": [
      "print unique_lengths"
     ],
     "language": "python",
     "metadata": {},
     "outputs": [
      {
       "output_type": "stream",
       "stream": "stdout",
       "text": [
        "set([1, 2, 4, 5, 6, 7, 8])\n"
       ]
      }
     ],
     "prompt_number": 64
    },
    {
     "cell_type": "markdown",
     "metadata": {},
     "source": [
      "Sets can also be created using curly braces."
     ]
    },
    {
     "cell_type": "code",
     "collapsed": false,
     "input": [
      "set_of_vowels = {\"a\", \"e\", \"i\", \"o\", \"u\"}"
     ],
     "language": "python",
     "metadata": {},
     "outputs": [],
     "prompt_number": 65
    },
    {
     "cell_type": "code",
     "collapsed": false,
     "input": [
      "print set_of_vowels"
     ],
     "language": "python",
     "metadata": {},
     "outputs": [
      {
       "output_type": "stream",
       "stream": "stdout",
       "text": [
        "set(['i', 'e', 'u', 'a', 'o'])\n"
       ]
      }
     ],
     "prompt_number": 66
    },
    {
     "cell_type": "markdown",
     "metadata": {},
     "source": [
      "Let's create a set of letters appearing in the sentence above."
     ]
    },
    {
     "cell_type": "code",
     "collapsed": false,
     "input": [
      "letters_in_sentence = reduce(lambda x, y: x | y, [set(w.lower()) for w in sentence]) # we use | for union of sets "
     ],
     "language": "python",
     "metadata": {},
     "outputs": [],
     "prompt_number": 67
    },
    {
     "cell_type": "code",
     "collapsed": false,
     "input": [
      "print letters_in_sentence"
     ],
     "language": "python",
     "metadata": {},
     "outputs": [
      {
       "output_type": "stream",
       "stream": "stdout",
       "text": [
        "set(['a', 'b', 'e', 'd', 'g', 'f', 'i', 'h', 'j', 'm', 'l', 'o', 'n', 'p', 's', 'r', 'u', 't', 'w', 'y'])\n"
       ]
      }
     ],
     "prompt_number": 68
    },
    {
     "cell_type": "code",
     "collapsed": false,
     "input": [
      "letters_in_sentence & set_of_vowels # we use & for finding set intersections"
     ],
     "language": "python",
     "metadata": {},
     "outputs": [
      {
       "metadata": {},
       "output_type": "pyout",
       "prompt_number": 69,
       "text": [
        "{'a', 'e', 'i', 'o', 'u'}"
       ]
      }
     ],
     "prompt_number": 69
    },
    {
     "cell_type": "code",
     "collapsed": false,
     "input": [
      "letters_in_sentence - set_of_vowels # set difference"
     ],
     "language": "python",
     "metadata": {},
     "outputs": [
      {
       "metadata": {},
       "output_type": "pyout",
       "prompt_number": 70,
       "text": [
        "{'b', 'd', 'f', 'g', 'h', 'j', 'l', 'm', 'n', 'p', 'r', 's', 't', 'w', 'y'}"
       ]
      }
     ],
     "prompt_number": 70
    },
    {
     "cell_type": "heading",
     "level": 1,
     "metadata": {},
     "source": [
      "Dictionaries"
     ]
    },
    {
     "cell_type": "markdown",
     "metadata": {},
     "source": [
      "A dictionary consists of `key:value` pairs. You can think of a dictionary as an array into which you can index using keys. Some languages use the term associative array instead of dictionary. Creating dictionaries in Python is easy."
     ]
    },
    {
     "cell_type": "code",
     "collapsed": false,
     "input": [
      "inventor = {\"C\":\"Dennis Ritchie\", \"C++\":\"Bjarne Stroustrup\", \"Fortran\":\"John Backus\", \"Python\":\"Guido van Rossum\"}"
     ],
     "language": "python",
     "metadata": {},
     "outputs": [],
     "prompt_number": 71
    },
    {
     "cell_type": "code",
     "collapsed": false,
     "input": [
      "inventor[\"C\"]"
     ],
     "language": "python",
     "metadata": {},
     "outputs": [
      {
       "metadata": {},
       "output_type": "pyout",
       "prompt_number": 72,
       "text": [
        "'Dennis Ritchie'"
       ]
      }
     ],
     "prompt_number": 72
    },
    {
     "cell_type": "code",
     "collapsed": false,
     "input": [
      "inventor[\"Python\"]"
     ],
     "language": "python",
     "metadata": {},
     "outputs": [
      {
       "metadata": {},
       "output_type": "pyout",
       "prompt_number": 73,
       "text": [
        "'Guido van Rossum'"
       ]
      }
     ],
     "prompt_number": 73
    },
    {
     "cell_type": "code",
     "collapsed": false,
     "input": [
      "inventor[\"R\"] # trying to use a key that's not present raises an exception"
     ],
     "language": "python",
     "metadata": {},
     "outputs": [
      {
       "ename": "KeyError",
       "evalue": "'R'",
       "output_type": "pyerr",
       "traceback": [
        "\u001b[0;31m---------------------------------------------------------------------------\u001b[0m\n\u001b[0;31mKeyError\u001b[0m                                  Traceback (most recent call last)",
        "\u001b[0;32m<ipython-input-74-0102a7a1aa85>\u001b[0m in \u001b[0;36m<module>\u001b[0;34m()\u001b[0m\n\u001b[0;32m----> 1\u001b[0;31m \u001b[0minventor\u001b[0m\u001b[0;34m[\u001b[0m\u001b[0;34m\"R\"\u001b[0m\u001b[0;34m]\u001b[0m \u001b[0;31m# trying to use a key that's not present raises an exception\u001b[0m\u001b[0;34m\u001b[0m\u001b[0m\n\u001b[0m",
        "\u001b[0;31mKeyError\u001b[0m: 'R'"
       ]
      }
     ],
     "prompt_number": 74
    },
    {
     "cell_type": "code",
     "collapsed": false,
     "input": [
      "for language in inventor.keys(): # dict.keys() gives all keys in a dict\n",
      "    print language + \" was invented by \" + inventor[language] + \".\""
     ],
     "language": "python",
     "metadata": {},
     "outputs": [
      {
       "output_type": "stream",
       "stream": "stdout",
       "text": [
        "Python was invented by Guido van Rossum.\n",
        "Fortran was invented by John Backus.\n",
        "C was invented by Dennis Ritchie.\n",
        "C++ was invented by Bjarne Stroustrup.\n"
       ]
      }
     ],
     "prompt_number": 75
    },
    {
     "cell_type": "markdown",
     "metadata": {},
     "source": [
      "Now let's print the languages in sorted order"
     ]
    },
    {
     "cell_type": "code",
     "collapsed": false,
     "input": [
      "for language in sorted(inventor.keys()): # sorted() returns a sorted list\n",
      "    print language + \" was invented by \" + inventor[language] + \".\""
     ],
     "language": "python",
     "metadata": {},
     "outputs": [
      {
       "output_type": "stream",
       "stream": "stdout",
       "text": [
        "C was invented by Dennis Ritchie.\n",
        "C++ was invented by Bjarne Stroustrup.\n",
        "Fortran was invented by John Backus.\n",
        "Python was invented by Guido van Rossum.\n"
       ]
      }
     ],
     "prompt_number": 76
    },
    {
     "cell_type": "heading",
     "level": 1,
     "metadata": {},
     "source": [
      "Looping techniques"
     ]
    },
    {
     "cell_type": "markdown",
     "metadata": {},
     "source": [
      "We can loop over a list of tuples too in a for loop!"
     ]
    },
    {
     "cell_type": "code",
     "collapsed": false,
     "input": [
      "tuples = [(\"walk\", \"future\", \"will walk\"), (\"eat\", \"past\", \"ate\"), (\"drink\", \"present continuous\", \"drinking\")]"
     ],
     "language": "python",
     "metadata": {},
     "outputs": [],
     "prompt_number": 77
    },
    {
     "cell_type": "code",
     "collapsed": false,
     "input": [
      "for orig, tense, word in tuples:\n",
      "    print \"The \" + tense + \" tense of '\" + orig + \"' is '\" + word + \"'.\""
     ],
     "language": "python",
     "metadata": {},
     "outputs": [
      {
       "output_type": "stream",
       "stream": "stdout",
       "text": [
        "The future tense of 'walk' is 'will walk'.\n",
        "The past tense of 'eat' is 'ate'.\n",
        "The present continuous tense of 'drink' is 'drinking'.\n"
       ]
      }
     ],
     "prompt_number": 78
    },
    {
     "cell_type": "markdown",
     "metadata": {},
     "source": [
      "Now let us print the `inventor` dictionary above sorted by values (i.e. inventor names). First, we use the `items()` method to get all key, value pairs."
     ]
    },
    {
     "cell_type": "code",
     "collapsed": false,
     "input": [
      "print inventor.items()"
     ],
     "language": "python",
     "metadata": {},
     "outputs": [
      {
       "output_type": "stream",
       "stream": "stdout",
       "text": [
        "[('Python', 'Guido van Rossum'), ('Fortran', 'John Backus'), ('C', 'Dennis Ritchie'), ('C++', 'Bjarne Stroustrup')]\n"
       ]
      }
     ],
     "prompt_number": 79
    },
    {
     "cell_type": "code",
     "collapsed": false,
     "input": [
      "sorted_by_values = sorted(inventor.items(), key=lambda x: x[1]) # note how we're sorting based on values, not keys"
     ],
     "language": "python",
     "metadata": {},
     "outputs": [],
     "prompt_number": 80
    },
    {
     "cell_type": "code",
     "collapsed": false,
     "input": [
      "print sorted_by_values"
     ],
     "language": "python",
     "metadata": {},
     "outputs": [
      {
       "output_type": "stream",
       "stream": "stdout",
       "text": [
        "[('C++', 'Bjarne Stroustrup'), ('C', 'Dennis Ritchie'), ('Python', 'Guido van Rossum'), ('Fortran', 'John Backus')]\n"
       ]
      }
     ],
     "prompt_number": 81
    },
    {
     "cell_type": "code",
     "collapsed": false,
     "input": [
      "for language, person in sorted_by_values: # note how we're sorting based on values, not keys\n",
      "    print person + \" invented \" + language + \".\""
     ],
     "language": "python",
     "metadata": {},
     "outputs": [
      {
       "output_type": "stream",
       "stream": "stdout",
       "text": [
        "Bjarne Stroustrup invented C++.\n",
        "Dennis Ritchie invented C.\n",
        "Guido van Rossum invented Python.\n",
        "John Backus invented Fortran.\n"
       ]
      }
     ],
     "prompt_number": 82
    }
   ],
   "metadata": {}
  }
 ]
}