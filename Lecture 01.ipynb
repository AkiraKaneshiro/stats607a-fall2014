{
 "metadata": {
  "name": "",
  "signature": "sha256:afabc1102efb4f05e5af146bc74cc519dc0a3b26e9cf153a9d308a9c2874a101"
 },
 "nbformat": 3,
 "nbformat_minor": 0,
 "worksheets": [
  {
   "cells": [
    {
     "cell_type": "markdown",
     "metadata": {},
     "source": [
      "Today we'll cover:\n",
      "1. `if` statement\n",
      "2. `for` and `while` loops (and the use of `break`, `continue`, and the `else` clause in them)\n",
      "3. `pass` statement\n",
      "4. defining functions using `def`, different ways to supply arguments to functions, and docstrings"
     ]
    },
    {
     "cell_type": "markdown",
     "metadata": {},
     "source": [
      "\n",
      "# `if` statement"
     ]
    },
    {
     "cell_type": "code",
     "collapsed": false,
     "input": [
      "speed = 25 # a horse's speed in m.p.h."
     ],
     "language": "python",
     "metadata": {},
     "outputs": [],
     "prompt_number": 1
    },
    {
     "cell_type": "code",
     "collapsed": false,
     "input": [
      "if speed < 0:\n",
      "    raise Exception(\"Expected non-negative horse speed, got negative\") # raise statement causes an exception to occur\n",
      "elif speed < 2: # elif is short for \"else if\"\n",
      "    print \"Barely moving\"\n",
      "elif speed < 5:\n",
      "    print \"Walking\"\n",
      "elif speed < 10:\n",
      "    print \"Trotting\"\n",
      "elif speed < 20:\n",
      "    print \"Cantering\"\n",
      "else: # control gets here if speed >= 20\n",
      "    print \"Galloping\""
     ],
     "language": "python",
     "metadata": {},
     "outputs": [
      {
       "output_type": "stream",
       "stream": "stdout",
       "text": [
        "Galloping\n"
       ]
      }
     ],
     "prompt_number": 2
    },
    {
     "cell_type": "markdown",
     "metadata": {},
     "source": [
      "\n",
      "# `for` and `while` loops"
     ]
    },
    {
     "cell_type": "markdown",
     "metadata": {},
     "source": [
      "The `for` loop in Python *always* iterates over a sequence (e.g. a string of characters or a list)."
     ]
    },
    {
     "cell_type": "code",
     "collapsed": false,
     "input": [
      "for c in 'statistics':\n",
      "    print c, # the comma prevents a newline from being printed"
     ],
     "language": "python",
     "metadata": {},
     "outputs": [
      {
       "output_type": "stream",
       "stream": "stdout",
       "text": [
        "s t a t i s t i c s\n"
       ]
      }
     ],
     "prompt_number": 3
    },
    {
     "cell_type": "markdown",
     "metadata": {},
     "source": [
      "We saw the built-in function `range` in the last lecture. It is quite useful to loop over a range of numbers."
     ]
    },
    {
     "cell_type": "code",
     "collapsed": false,
     "input": [
      "for i in range(90, 100): # print the 90s; note that 100 is *not* included\n",
      "    print i,"
     ],
     "language": "python",
     "metadata": {},
     "outputs": [
      {
       "output_type": "stream",
       "stream": "stdout",
       "text": [
        "90 91 92 93 94 95 96 97 98 99\n"
       ]
      }
     ],
     "prompt_number": 4
    },
    {
     "cell_type": "markdown",
     "metadata": {},
     "source": [
      "We can also supply a step parameter."
     ]
    },
    {
     "cell_type": "code",
     "collapsed": false,
     "input": [
      "for i in range(2, 20, 2): # even numbers from 2 (included) throguh 20 (excluded)\n",
      "    print i,"
     ],
     "language": "python",
     "metadata": {},
     "outputs": [
      {
       "output_type": "stream",
       "stream": "stdout",
       "text": [
        "2 4 6 8 10 12 14 16 18\n"
       ]
      }
     ],
     "prompt_number": 5
    },
    {
     "cell_type": "markdown",
     "metadata": {},
     "source": [
      "However `range` expects integer arguments. To get floating point numbers, we can use list comprehensions. The `numpy` package (that we will study in detail later) provides an `arange` function."
     ]
    },
    {
     "cell_type": "code",
     "collapsed": false,
     "input": [
      "range(0,1,.1)"
     ],
     "language": "python",
     "metadata": {},
     "outputs": [
      {
       "ename": "TypeError",
       "evalue": "range() integer step argument expected, got float.",
       "output_type": "pyerr",
       "traceback": [
        "\u001b[0;31m---------------------------------------------------------------------------\u001b[0m\n\u001b[0;31mTypeError\u001b[0m                                 Traceback (most recent call last)",
        "\u001b[0;32m<ipython-input-6-651d843fd06c>\u001b[0m in \u001b[0;36m<module>\u001b[0;34m()\u001b[0m\n\u001b[0;32m----> 1\u001b[0;31m \u001b[0mrange\u001b[0m\u001b[0;34m(\u001b[0m\u001b[0;36m0\u001b[0m\u001b[0;34m,\u001b[0m\u001b[0;36m1\u001b[0m\u001b[0;34m,\u001b[0m\u001b[0;36m.1\u001b[0m\u001b[0;34m)\u001b[0m\u001b[0;34m\u001b[0m\u001b[0m\n\u001b[0m",
        "\u001b[0;31mTypeError\u001b[0m: range() integer step argument expected, got float."
       ]
      }
     ],
     "prompt_number": 6
    },
    {
     "cell_type": "code",
     "collapsed": false,
     "input": [
      "[i/10.0 for i in range(0, 10)] # note that we wrote 10.0, not 10. Why?"
     ],
     "language": "python",
     "metadata": {},
     "outputs": [
      {
       "metadata": {},
       "output_type": "pyout",
       "prompt_number": 7,
       "text": [
        "[0.0, 0.1, 0.2, 0.3, 0.4, 0.5, 0.6, 0.7, 0.8, 0.9]"
       ]
      }
     ],
     "prompt_number": 7
    },
    {
     "cell_type": "code",
     "collapsed": false,
     "input": [
      "from numpy import arange # Import the arange function from the numpy module (need numpy module installed)"
     ],
     "language": "python",
     "metadata": {},
     "outputs": [],
     "prompt_number": 8
    },
    {
     "cell_type": "code",
     "collapsed": false,
     "input": [
      "arange(0,1,.1) # returns a numpy array, not a list"
     ],
     "language": "python",
     "metadata": {},
     "outputs": [
      {
       "metadata": {},
       "output_type": "pyout",
       "prompt_number": 9,
       "text": [
        "array([ 0. ,  0.1,  0.2,  0.3,  0.4,  0.5,  0.6,  0.7,  0.8,  0.9])"
       ]
      }
     ],
     "prompt_number": 9
    },
    {
     "cell_type": "markdown",
     "metadata": {},
     "source": [
      "Now let us find all **perfect numbers** up to, but not including, 500. A number is called perfect if it is the sum of all its (proper) factors/divisors."
     ]
    },
    {
     "cell_type": "code",
     "collapsed": false,
     "input": [
      "for i in range(2,500):\n",
      "    sum_of_factors = 0\n",
      "    for j in range(1, i/2 + 1): # a factor of i cannot be larger than i/2\n",
      "        if i % j == 0: # found a factor\n",
      "            sum_of_factors = sum_of_factors + j\n",
      "    if sum_of_factors == i: # found a perfect number\n",
      "        print str(i) + \" is perfect\""
     ],
     "language": "python",
     "metadata": {},
     "outputs": [
      {
       "output_type": "stream",
       "stream": "stdout",
       "text": [
        "6 is perfect\n",
        "28 is perfect\n",
        "496 is perfect\n"
       ]
      }
     ],
     "prompt_number": 10
    },
    {
     "cell_type": "markdown",
     "metadata": {},
     "source": [
      "It is not known if there are infinitely many perfect numbers. It is also not known whether there is any odd perfect number."
     ]
    },
    {
     "cell_type": "markdown",
     "metadata": {},
     "source": [
      "A `while` loop is used to execute commands repeatedly till a specified condition is met."
     ]
    },
    {
     "cell_type": "markdown",
     "metadata": {},
     "source": [
      "Let's the find the first perfect number starting at 500"
     ]
    },
    {
     "cell_type": "code",
     "collapsed": false,
     "input": [
      "i = 500\n",
      "found = False\n",
      "while not found:\n",
      "    sum_of_factors = 0\n",
      "    for j in range(1, i/2 + 1): # a factor of i cannot be larger than i/2\n",
      "        if i % j == 0: # found a factor\n",
      "            sum_of_factors = sum_of_factors + j\n",
      "    if sum_of_factors == i: # found a perfect number\n",
      "        print \"First perfect number larger than 500 is \" + str(i)\n",
      "        found = True\n",
      "    i = i + 1"
     ],
     "language": "python",
     "metadata": {},
     "outputs": [
      {
       "output_type": "stream",
       "stream": "stdout",
       "text": [
        "First perfect number larger than 500 is 8128\n"
       ]
      }
     ],
     "prompt_number": 11
    },
    {
     "cell_type": "markdown",
     "metadata": {},
     "source": [
      "Let's now learn about `break` and `continue` statements."
     ]
    },
    {
     "cell_type": "code",
     "collapsed": false,
     "input": [
      "great_lakes = ['Superior', 'Michigan', 'Huron', 'Erie', 'Ontario']"
     ],
     "language": "python",
     "metadata": {},
     "outputs": [],
     "prompt_number": 12
    },
    {
     "cell_type": "code",
     "collapsed": false,
     "input": [
      "biggest_lakes = ['Caspian', 'Superior', 'Victoria', 'Huron', 'Michigan'] # top 5 lakes (by area)"
     ],
     "language": "python",
     "metadata": {},
     "outputs": [],
     "prompt_number": 13
    },
    {
     "cell_type": "markdown",
     "metadata": {},
     "source": [
      "Is there a Great Lake in the top 5 lakes?"
     ]
    },
    {
     "cell_type": "code",
     "collapsed": false,
     "input": [
      "for lake in biggest_lakes:\n",
      "    if lake in great_lakes: # The keyword 'in' in an expression tests for membership in a sequence\n",
      "        print \"Found Lake \" + lake + \", a Great Lake, in the top 5 lakes by area\"\n",
      "        break\n",
      "else:\n",
      "    print \"Didn't find any Great Lake in the top 5 lakes by area\""
     ],
     "language": "python",
     "metadata": {},
     "outputs": [
      {
       "output_type": "stream",
       "stream": "stdout",
       "text": [
        "Found Lake Superior, a Great Lake, in the top 5 lakes by area\n"
       ]
      }
     ],
     "prompt_number": 14
    },
    {
     "cell_type": "markdown",
     "metadata": {},
     "source": [
      "Note that the `else` statement is aligned with the `for` statement, not the `if` statement. The `else` clause following a `for` (or `while`) loop is executing when the reason the loop finished is that the list was exhausted (or the condition in the `while` loop became false)."
     ]
    },
    {
     "cell_type": "code",
     "collapsed": false,
     "input": [
      "deepest_lakes = [\"Baikal\", \"Tanganyika\", \"Caspian\", \"Vostok\", \"O'Higgins-San Martin\"]\n",
      "for lake in deepest_lakes:\n",
      "    if lake in great_lakes:\n",
      "        print \"Found Lake \" + lake + \", a Great Lake, in the top 5 deepest lakes\"\n",
      "        break\n",
      "else:\n",
      "    print \"Didn't find any Great Lake in the top 5 deepest lakes\""
     ],
     "language": "python",
     "metadata": {},
     "outputs": [
      {
       "output_type": "stream",
       "stream": "stdout",
       "text": [
        "Didn't find any Great Lake in the top 5 deepest lakes\n"
       ]
      }
     ],
     "prompt_number": 15
    },
    {
     "cell_type": "markdown",
     "metadata": {},
     "source": [
      "Now we want to list the top 5 lakes indicating which ones are also in the Great Lakes."
     ]
    },
    {
     "cell_type": "code",
     "collapsed": false,
     "input": [
      "for lake in biggest_lakes:\n",
      "    if lake in great_lakes:\n",
      "        print lake + \" (Great Lake)\"\n",
      "        continue\n",
      "    print lake"
     ],
     "language": "python",
     "metadata": {},
     "outputs": [
      {
       "output_type": "stream",
       "stream": "stdout",
       "text": [
        "Caspian\n",
        "Superior (Great Lake)\n",
        "Victoria\n",
        "Huron (Great Lake)\n",
        "Michigan (Great Lake)\n"
       ]
      }
     ],
     "prompt_number": 16
    },
    {
     "cell_type": "markdown",
     "metadata": {},
     "source": [
      "\n",
      "# `pass` statement"
     ]
    },
    {
     "cell_type": "markdown",
     "metadata": {},
     "source": [
      "The `pass` statement does nothing! Its use is limited to a few situations. One situation is when you're developing code and want to remind yourself that you need to do something later."
     ]
    },
    {
     "cell_type": "code",
     "collapsed": false,
     "input": [
      "great_lakes = ['Superior', 'Michigan', 'huron', 'erie', 'Ontario'] # note some names not capitalized"
     ],
     "language": "python",
     "metadata": {},
     "outputs": [],
     "prompt_number": 17
    },
    {
     "cell_type": "code",
     "collapsed": false,
     "input": [
      "for lake in great_lakes:\n",
      "    if lake[0].islower():\n",
      "        pass # remember to print a warning about capitalization\n",
      "    print lake"
     ],
     "language": "python",
     "metadata": {},
     "outputs": [
      {
       "output_type": "stream",
       "stream": "stdout",
       "text": [
        "Superior\n",
        "Michigan\n",
        "huron\n",
        "erie\n",
        "Ontario\n"
       ]
      }
     ],
     "prompt_number": 18
    },
    {
     "cell_type": "markdown",
     "metadata": {},
     "source": [
      "Later you might go back and change the code."
     ]
    },
    {
     "cell_type": "code",
     "collapsed": false,
     "input": [
      "for lake in great_lakes:\n",
      "    if lake[0].islower():\n",
      "        print lake + \" (Warning: Great Lake name not capitalized)\"\n",
      "        continue\n",
      "    print lake"
     ],
     "language": "python",
     "metadata": {},
     "outputs": [
      {
       "output_type": "stream",
       "stream": "stdout",
       "text": [
        "Superior\n",
        "Michigan\n",
        "huron (Warning: Great Lake name not capitalized)\n",
        "erie (Warning: Great Lake name not capitalized)\n",
        "Ontario\n"
       ]
      }
     ],
     "prompt_number": 19
    },
    {
     "cell_type": "markdown",
     "metadata": {},
     "source": [
      "\n",
      "# Functions and their arguments"
     ]
    },
    {
     "cell_type": "code",
     "collapsed": false,
     "input": [],
     "language": "python",
     "metadata": {},
     "outputs": []
    }
   ],
   "metadata": {}
  }
 ]
}